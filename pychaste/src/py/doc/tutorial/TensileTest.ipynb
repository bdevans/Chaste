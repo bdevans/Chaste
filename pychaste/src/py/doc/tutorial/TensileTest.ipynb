{
 "cells": [
  {
   "cell_type": "markdown",
   "id": "16cafdae",
   "metadata": {},
   "source": [
    "This tutorial is automatically generated from [TestPyTensileTestTutorial.py](https://github.com/Chaste/Chaste/blob/develop/pychaste/test/tutorial/TestPyTensileTestTutorial.py) at revision [4045f91a83f5](https://github.com/Chaste/Chaste/commit/4045f91a83f55dc4a97f2ca4f97b0c32f4e43a4a)."
   ]
  },
  {
   "cell_type": "markdown",
   "id": "1a596028",
   "metadata": {},
   "source": [
    "\n",
    "## Introduction\n",
    "In this tutorial we will demonstrate a simulated tensile test on an epithelial sheet. This test\n",
    "demonstrates:\n",
    " * Working with vertex based off lattice populations\n",
    " * Applying boundary conditions\n",
    " * Working with forces\n",
    " \n",
    "## The Test\n",
    "\n"
   ]
  },
  {
   "cell_type": "code",
   "execution_count": null,
   "id": "641d36a5",
   "metadata": {},
   "outputs": [],
   "source": [
    "import chaste  # The PyChaste module\n",
    "import chaste.cell_based  # Contains cell populations\n",
    "import chaste.mesh  # Contains meshes\n",
    "import chaste.visualization  # Visualization tools\n",
    "import numpy as np  # Matrix tools"
   ]
  },
  {
   "cell_type": "markdown",
   "id": "a1ba193e",
   "metadata": {},
   "source": [
    "### Test 1 - A 2D test\n",
    "\n"
   ]
  },
  {
   "cell_type": "code",
   "execution_count": null,
   "id": "de290072",
   "metadata": {},
   "outputs": [],
   "source": [
    "chaste.cell_based.SetupNotebookTest() # Set up the test"
   ]
  },
  {
   "cell_type": "markdown",
   "id": "7f4cd695",
   "metadata": {},
   "source": [
    "First, we generate a vertex mesh using a HoneycombVertexMeshGenerator.\n",
    "\n"
   ]
  },
  {
   "cell_type": "code",
   "execution_count": null,
   "id": "ab4d0090",
   "metadata": {},
   "outputs": [],
   "source": [
    "generator = chaste.mesh.HoneycombVertexMeshGenerator(5, 15)\n",
    "mesh = generator.GetMesh()"
   ]
  },
  {
   "cell_type": "markdown",
   "id": "5898cf76",
   "metadata": {},
   "source": [
    "Now set up the cells, again we want to avoid proliferation.\n",
    "\n"
   ]
  },
  {
   "cell_type": "code",
   "execution_count": null,
   "id": "56544d49",
   "metadata": {},
   "outputs": [],
   "source": [
    "differentiated_type = chaste.cell_based.DifferentiatedCellProliferativeType()\n",
    "cell_generator = chaste.cell_based.CellsGenerator[\"UniformG1GenerationalCellCycleModel\", 2]()\n",
    "cells = cell_generator.GenerateBasicRandom(mesh.GetNumElements(), differentiated_type)"
   ]
  },
  {
   "cell_type": "markdown",
   "id": "58958f91",
   "metadata": {},
   "source": [
    "Next, create the cell population\n",
    "\n"
   ]
  },
  {
   "cell_type": "code",
   "execution_count": null,
   "id": "9858e5f2",
   "metadata": {},
   "outputs": [],
   "source": [
    "cell_population = chaste.cell_based.VertexBasedCellPopulation[2](mesh, cells)"
   ]
  },
  {
   "cell_type": "markdown",
   "id": "62958208",
   "metadata": {},
   "source": [
    "Pass the cell population into an `OffLatticeSimulation`, and set the output directory, output multiple and end time\n",
    "\n"
   ]
  },
  {
   "cell_type": "code",
   "execution_count": null,
   "id": "adaf7447",
   "metadata": {},
   "outputs": [],
   "source": [
    "simulator = chaste.cell_based.OffLatticeSimulation[2, 2](cell_population)\n",
    "simulator.SetOutputDirectory(\"Python/TestTensileTest\")\n",
    "simulator.SetEndTime(1.0)\n",
    "simulator.SetSamplingTimestepMultiple(1000)"
   ]
  },
  {
   "cell_type": "markdown",
   "id": "aab73a83",
   "metadata": {},
   "source": [
    "Now create a force law\n",
    "\n"
   ]
  },
  {
   "cell_type": "code",
   "execution_count": null,
   "id": "818200e6",
   "metadata": {},
   "outputs": [],
   "source": [
    "force = chaste.cell_based.NagaiHondaForce[2]()\n",
    "simulator.AddForce(force)"
   ]
  },
  {
   "cell_type": "markdown",
   "id": "55a8a61f",
   "metadata": {},
   "source": [
    "A `NagaiHondaForce` assumes that each cell has a target area. The target areas of cells are used to determine\n",
    "pressure forces on each vertex and eventually determine the size of each cell in the simulation.\n",
    "In order to assign target areas to cells and update them in each time step we add a `SimpleTargetAreaModifier`\n",
    "to the simulation, which inherits from `AbstractTargetAreaModifier`.\n",
    "\n"
   ]
  },
  {
   "cell_type": "code",
   "execution_count": null,
   "id": "8ee9400e",
   "metadata": {},
   "outputs": [],
   "source": [
    "growth_modifier = chaste.cell_based.SimpleTargetAreaModifier[2]()\n",
    "simulator.AddSimulationModifier(growth_modifier)"
   ]
  },
  {
   "cell_type": "markdown",
   "id": "b80393e9",
   "metadata": {},
   "source": [
    "For our tensile test we will fix the bottom of the sheet and subject the top to an applied displacement. We neglect\n",
    "fixing lateral degress of freedom for simplicity, since we are using an over-damped mechanical model.\n",
    "\n"
   ]
  },
  {
   "cell_type": "code",
   "execution_count": null,
   "id": "6cf82c51",
   "metadata": {},
   "outputs": [],
   "source": [
    "my_point = np.array([0.0, 0.0])\n",
    "normal = np.array([0.0, -1.0])\n",
    "bc = chaste.cell_based.AttractingPlaneBoundaryCondition[2, 2](cell_population, my_point, normal)\n",
    "simulator.AddCellPopulationBoundaryCondition(bc)\n",
    "point = np.array([0.0, 15.5])\n",
    "normal = np.array([0.0, -1.0])\n",
    "bc2 = chaste.cell_based.AttractingPlaneBoundaryCondition[2, 2](cell_population, point, normal)\n",
    "simulator.AddCellPopulationBoundaryCondition(bc2)"
   ]
  },
  {
   "cell_type": "markdown",
   "id": "c208fd3d",
   "metadata": {},
   "source": [
    "We want to displace our top boundary over time. We could write a custom boundary condition class to do this.\n",
    "A more simple alternative is to modify the the position of the point describing our boundary plane in `bc2`\n",
    "as the simulation progresses. As per earlier tutorials we make a new `SimulationModifier` class to do this.\n",
    "\n"
   ]
  },
  {
   "cell_type": "code",
   "execution_count": null,
   "id": "3502c00d",
   "metadata": {},
   "outputs": [],
   "source": [
    "class BoundaryConditionModifier(chaste.cell_based.PythonSimulationModifier[2]):\n",
    "    \"\"\"Class for time varying boundary conditions\"\"\"\n",
    "    def __init__(self, boundary_condition):\n",
    "        self.boundary_condition = boundary_condition\n",
    "        self.original_location = boundary_condition.rGetPointOnPlane()\n",
    "        self.velocity = 0.5  # cell lengths per time\n",
    "        super(BoundaryConditionModifier, self).__init__()\n",
    "    def UpdateAtEndOfTimeStep(self, cell_population):\n",
    "        \"\"\"Move the boundary upwards at the specified velocity\"\"\"\n",
    "        total_time = chaste.cell_based.SimulationTime.Instance().GetTime()\n",
    "        new_location = [\n",
    "            self.original_location[0],\n",
    "            self.original_location[1] + self.velocity * total_time,\n",
    "        ]\n",
    "        self.boundary_condition.SetPointOnPlane(np.array(new_location))\n",
    "    def SetupSolve(self, cell_population, output_directory):\n",
    "        \"\"\"Make sure the cell population is in the correct state at the start of the simulation\"\"\"\n",
    "        cell_population.Update()\n",
    "bc_modifier = BoundaryConditionModifier(bc2)\n",
    "simulator.AddSimulationModifier(bc_modifier)"
   ]
  },
  {
   "cell_type": "markdown",
   "id": "29d8acb2",
   "metadata": {},
   "source": [
    "PyChaste can do simple 3D rendering with VTK. We set up a `VtkScene` so that we can see the population\n",
    "evovle in real time.\n",
    "\n"
   ]
  },
  {
   "cell_type": "code",
   "execution_count": null,
   "id": "c5d60fcd",
   "metadata": {},
   "outputs": [],
   "source": [
    "scene = chaste.visualization.VtkScene[2]()\n",
    "scene.SetCellPopulation(cell_population)\n",
    "nb_manager = chaste.visualization.JupyterNotebookManager()\n",
    "scene_modifier = chaste.cell_based.VtkSceneModifier[2]()\n",
    "scene_modifier.SetVtkScene(scene)\n",
    "scene_modifier.SetUpdateFrequency(1000)\n",
    "simulator.AddSimulationModifier(scene_modifier)"
   ]
  },
  {
   "cell_type": "markdown",
   "id": "52bdf96d",
   "metadata": {},
   "source": [
    "To run the simulation, we call `Solve()`.\n",
    "\n"
   ]
  },
  {
   "cell_type": "code",
   "execution_count": null,
   "id": "8976a3c8",
   "metadata": {},
   "outputs": [],
   "source": [
    "scene.Start()\n",
    "simulator.Solve()\n",
    "chaste.cell_based.TearDownNotebookTest() # Tear down the test"
   ]
  }
 ],
 "metadata": {},
 "nbformat": 4,
 "nbformat_minor": 5
}
