{
 "cells": [
  {
   "cell_type": "markdown",
   "id": "3dacf62b",
   "metadata": {},
   "source": [
    "This tutorial is automatically generated from [TestPyNodeBasedCellSimulationsTutorial.py](https://github.com/Chaste/Chaste/blob/develop/pychaste/test/tutorial/TestPyNodeBasedCellSimulationsTutorial.py) at revision [5494648e74e5](https://github.com/Chaste/Chaste/commit/5494648e74e52d7e7ae7730fdde6a6eae46829cf)."
   ]
  },
  {
   "cell_type": "markdown",
   "id": "bd7282cc",
   "metadata": {},
   "source": [
    "\n",
    "## Introduction\n",
    "In this tutorial we show how Chaste can be used to create, run and visualize node-based simulations. Full details of the mechanical model can be found in Pathamathan et\n",
    "al \"A computational study of discrete mechanical tissue models\", Physical Biology. Vol. 6. No. 3. 2009.. DOI (10.1088/1478-3975/6/3/036001).\n",
    "\n",
    "## The Test\n",
    "\n"
   ]
  },
  {
   "cell_type": "code",
   "execution_count": null,
   "id": "3243c7e2",
   "metadata": {},
   "outputs": [],
   "source": [
    "import numpy as np  # Matrix tools\n",
    "import chaste  # The PyChaste module\n",
    "import chaste.cell_based  # Contains cell populations\n",
    "import chaste.mesh  # Contains meshes\n",
    "import chaste.visualization  # Visualization tools\n",
    "from chaste.cell_based import AbstractCellBasedTestSuite\n",
    "# Set up MPI"
   ]
  },
  {
   "cell_type": "markdown",
   "id": "dc5884ae",
   "metadata": {},
   "source": [
    "### Test 1 - A basic node-based simulation\n",
    "In the first test, we run a simple node-based simulation, in which we create a monolayer of cells,\n",
    "using a nodes only mesh. Each cell is assigned a uniform cell-cycle model.\n",
    "\n"
   ]
  },
  {
   "cell_type": "code",
   "execution_count": null,
   "id": "40c4a24a",
   "metadata": {},
   "outputs": [],
   "source": [
    "chaste.cell_based.SetupNotebookTest() # Set up the test"
   ]
  },
  {
   "cell_type": "markdown",
   "id": "7c4acb0c",
   "metadata": {},
   "source": [
    "The first thing we do is generate a nodes only mesh. To do this we first create a `MutableMesh` to use as a generating mesh.\n",
    "To do this we can use the `HoneycombMeshGenerator`. This generates a honeycomb-shaped mesh, in which all nodes are equidistant.\n",
    "Here the first and second arguments define the size of the mesh - we have chosen a mesh that is 2 nodes (i.e. cells) wide, and 2 nodes high.\n",
    "\n"
   ]
  },
  {
   "cell_type": "code",
   "execution_count": null,
   "id": "3e227252",
   "metadata": {},
   "outputs": [],
   "source": [
    "chaste.core.OutputFileHandler(\"Python/TestNodeBasedCellSimulationsTutorial\")\n",
    "generator = chaste.mesh.HoneycombMeshGenerator(2, 2)\n",
    "generating_mesh = generator.GetMesh()"
   ]
  },
  {
   "cell_type": "markdown",
   "id": "e0c212fc",
   "metadata": {},
   "source": [
    "Once we have a MutableMesh we can generate a NodesOnlyMesh from it using the following commands.\n",
    "Note you can also generate the NodesOnlyMesh from a collection of nodes.\n",
    "\n"
   ]
  },
  {
   "cell_type": "code",
   "execution_count": null,
   "id": "d744f59b",
   "metadata": {},
   "outputs": [],
   "source": [
    "mesh = chaste.mesh.NodesOnlyMesh_2()"
   ]
  },
  {
   "cell_type": "markdown",
   "id": "0faaadb7",
   "metadata": {},
   "source": [
    "To run node-based simulations you need to define a cut off length (second argument in `ConstructNodesWithoutMesh`),\n",
    "which defines the connectivity of the nodes by defining a radius of interaction.\n",
    "\n"
   ]
  },
  {
   "cell_type": "code",
   "execution_count": null,
   "id": "6445d6f5",
   "metadata": {},
   "outputs": [],
   "source": [
    "mesh.ConstructNodesWithoutMesh(generating_mesh, 1.5)"
   ]
  },
  {
   "cell_type": "markdown",
   "id": "932da287",
   "metadata": {},
   "source": [
    "Having created a mesh, we now create a (wrapped) vector of CellPtrs. To do this, we use the `CellsGenerator` helper class,\n",
    "which is specialized for the type of cell model required (here `UniformCellCycleModel`) and the dimension.\n",
    "We create an empty vector of cells and pass this into the method along with the mesh.\n",
    "The second argument represents the size of that the vector cells should become - one cell for each node,\n",
    "the third argument specifies the proliferative type of the cell.\n",
    "\n"
   ]
  },
  {
   "cell_type": "code",
   "execution_count": null,
   "id": "d4ce147a",
   "metadata": {},
   "outputs": [],
   "source": [
    "transit_type = chaste.cell_based.TransitCellProliferativeType()\n",
    "cell_generator = chaste.cell_based.CellsGenerator_UniformCellCycleModel_2()\n",
    "cells = cell_generator.GenerateBasicRandom(mesh.GetNumNodes(), transit_type)"
   ]
  },
  {
   "cell_type": "markdown",
   "id": "5349fa40",
   "metadata": {},
   "source": [
    "Now we have a mesh and a set of cells to go with it, we can create a `CellPopulation`.\n",
    "In general, this class associates a collection of cells with a mesh. For this test,\n",
    "because we have a `NodesOnlyMesh`, we use a particular type of cell population called a `NodeBasedCellPopulation`.\n",
    "\n"
   ]
  },
  {
   "cell_type": "code",
   "execution_count": null,
   "id": "79bc8407",
   "metadata": {},
   "outputs": [],
   "source": [
    "cell_population = chaste.cell_based.NodeBasedCellPopulation_2(mesh, cells)"
   ]
  },
  {
   "cell_type": "markdown",
   "id": "5f6857c0",
   "metadata": {},
   "source": [
    "We can set up a `VtkScene` to do a quick visualization of the population before running the analysis.\n",
    "\n"
   ]
  },
  {
   "cell_type": "code",
   "execution_count": null,
   "id": "bb87923c",
   "metadata": {},
   "outputs": [],
   "source": [
    "scene = chaste.visualization.VtkScene_2()\n",
    "scene.SetCellPopulation(cell_population)\n",
    "nb_manager = chaste.visualization.JupyterNotebookManager()\n",
    "nb_manager.vtk_show(scene, height=600)"
   ]
  },
  {
   "cell_type": "markdown",
   "id": "ea1ff264",
   "metadata": {},
   "source": [
    "We then pass in the cell population into an `OffLatticeSimulation`, and set the output directory, output multiple and end time\n",
    "\n"
   ]
  },
  {
   "cell_type": "code",
   "execution_count": null,
   "id": "0935ca81",
   "metadata": {},
   "outputs": [],
   "source": [
    "simulator = chaste.cell_based.OffLatticeSimulation_2_2(cell_population)\n",
    "simulator.SetOutputDirectory(\"Python/TestNodeBasedCellSimulationsTutorial\")\n",
    "simulator.SetSamplingTimestepMultiple(100)\n",
    "simulator.SetEndTime(10.0)"
   ]
  },
  {
   "cell_type": "markdown",
   "id": "3b66fc47",
   "metadata": {},
   "source": [
    "We now pass a force law to the simulation.\n",
    "\n"
   ]
  },
  {
   "cell_type": "code",
   "execution_count": null,
   "id": "84f2df55",
   "metadata": {},
   "outputs": [],
   "source": [
    "force = chaste.cell_based.GeneralisedLinearSpringForce_2_2()\n",
    "simulator.AddForce(force)"
   ]
  },
  {
   "cell_type": "markdown",
   "id": "dc73c4fa",
   "metadata": {},
   "source": [
    "Save snapshot images of the population during the simulation\n",
    "\n"
   ]
  },
  {
   "cell_type": "code",
   "execution_count": null,
   "id": "e194927b",
   "metadata": {},
   "outputs": [],
   "source": [
    "scene_modifier = chaste.visualization.JupyterSceneModifier_2(nb_manager)\n",
    "scene_modifier.SetVtkScene(scene)\n",
    "scene_modifier.SetUpdateFrequency(100)\n",
    "simulator.AddSimulationModifier(scene_modifier)"
   ]
  },
  {
   "cell_type": "markdown",
   "id": "7ef2aeff",
   "metadata": {},
   "source": [
    "To run the simulation, we call `Solve()`. We can again do a quick rendering of the population at the end of the simulation\n",
    "\n"
   ]
  },
  {
   "cell_type": "code",
   "execution_count": null,
   "id": "1cc9248d",
   "metadata": {},
   "outputs": [],
   "source": [
    "scene.Start()\n",
    "simulator.Solve()\n",
    "scene.End()"
   ]
  },
  {
   "cell_type": "markdown",
   "id": "0c710a2a",
   "metadata": {},
   "source": [
    "The next two lines are for test purposes only and are not part of this tutorial.\n",
    "If different simulation input parameters are being explored the lines should be removed.\n",
    "\n"
   ]
  },
  {
   "cell_type": "code",
   "execution_count": null,
   "id": "2fc24768",
   "metadata": {},
   "outputs": [],
   "source": [
    "    chaste.cell_based.SimulationTime.Instance().GetTime(), 10.0, 6\n",
    ")\n",
    "chaste.cell_based.TearDownNotebookTest() # Tear down the test"
   ]
  },
  {
   "cell_type": "markdown",
   "id": "180ddb7d",
   "metadata": {},
   "source": [
    "### Test 2 - a basic node-based simulation in 3D\n",
    "In the second test we run a simple node-based simulation in 3D. This is very similar to the 2D test with the dimension changed from 2 to 3 and\n",
    "instead of using a mesh generator we generate the nodes directly.\n",
    "\n"
   ]
  },
  {
   "cell_type": "code",
   "execution_count": null,
   "id": "6a93deef",
   "metadata": {},
   "outputs": [],
   "source": [
    "chaste.cell_based.SetupNotebookTest() # Set up the test"
   ]
  },
  {
   "cell_type": "markdown",
   "id": "70b22d1d",
   "metadata": {},
   "source": [
    "First, we generate a nodes only mesh. This time we specify the nodes manually by first creating a vector of nodes\n",
    "\n"
   ]
  },
  {
   "cell_type": "code",
   "execution_count": null,
   "id": "2ae4c00a",
   "metadata": {},
   "outputs": [],
   "source": [
    "chaste.core.OutputFileHandler(\n",
    "    \"Python/TestNodeBasedCellSimulationsSpheroidTutorial\"\n",
    ")\n",
    "nodes = []\n",
    "nodes.append(chaste.mesh.Node_3(0, False, 0.5, 0.0, 0.0))\n",
    "nodes.append(chaste.mesh.Node_3(1, False, -0.5, 0.0, 0.0))\n",
    "nodes.append(chaste.mesh.Node_3(2, False, 0.0, 0.5, 0.0))\n",
    "nodes.append(chaste.mesh.Node_3(3, False, 0.0, -0.5, 0.0))"
   ]
  },
  {
   "cell_type": "markdown",
   "id": "9bc7808d",
   "metadata": {},
   "source": [
    "Finally a NodesOnlyMesh is created and the vector of nodes is passed to the ConstructNodesWithoutMesh method.\n",
    "\n"
   ]
  },
  {
   "cell_type": "code",
   "execution_count": null,
   "id": "e0d51f0c",
   "metadata": {},
   "outputs": [],
   "source": [
    "mesh = chaste.mesh.NodesOnlyMesh_3()"
   ]
  },
  {
   "cell_type": "markdown",
   "id": "f35968a2",
   "metadata": {},
   "source": [
    "To run node-based simulations you need to define a cut off length (second argument in ConstructNodesWithoutMesh),\n",
    "which defines the connectivity of the nodes by defining a radius of interaction.\n",
    "\n"
   ]
  },
  {
   "cell_type": "code",
   "execution_count": null,
   "id": "e7c737f4",
   "metadata": {},
   "outputs": [],
   "source": [
    "mesh.ConstructNodesWithoutMesh(nodes, 1.5)"
   ]
  },
  {
   "cell_type": "markdown",
   "id": "672f84f1",
   "metadata": {},
   "source": [
    "Having created a mesh, we now create a std::vector of CellPtrs.\n",
    "As before, we do this with the CellsGenerator helper class (this time with dimension 3).\n",
    "\n"
   ]
  },
  {
   "cell_type": "code",
   "execution_count": null,
   "id": "bddc4fd4",
   "metadata": {},
   "outputs": [],
   "source": [
    "transit_type = chaste.cell_based.TransitCellProliferativeType()\n",
    "cell_generator = chaste.cell_based.CellsGenerator_UniformCellCycleModel_3()\n",
    "cells = cell_generator.GenerateBasicRandom(mesh.GetNumNodes(), transit_type)"
   ]
  },
  {
   "cell_type": "markdown",
   "id": "8148bc4d",
   "metadata": {},
   "source": [
    "Now we have a mesh and a set of cells to go with it, we can create a `CellPopulation`.\n",
    "In general, this class associates a collection of cells with a mesh. For this test,\n",
    "because we have a `NodesOnlyMesh`, we use a particular type of cell population called a `NodeBasedCellPopulation`.\n",
    "\n"
   ]
  },
  {
   "cell_type": "code",
   "execution_count": null,
   "id": "8cc65f8d",
   "metadata": {},
   "outputs": [],
   "source": [
    "cell_population = chaste.cell_based.NodeBasedCellPopulation_3(mesh, cells)"
   ]
  },
  {
   "cell_type": "markdown",
   "id": "28f6457d",
   "metadata": {},
   "source": [
    "We can set up a `VtkScene` to do a quick visualization of the population before running the analysis.\n",
    "\n"
   ]
  },
  {
   "cell_type": "code",
   "execution_count": null,
   "id": "300e8d36",
   "metadata": {},
   "outputs": [],
   "source": [
    "scene = chaste.visualization.VtkScene_3()\n",
    "scene.SetCellPopulation(cell_population)\n",
    "nb_manager.vtk_show(scene, height=600)"
   ]
  },
  {
   "cell_type": "markdown",
   "id": "31516dcc",
   "metadata": {},
   "source": [
    "We then pass in the cell population into an `OffLatticeSimulation`, and set the output directory, output multiple and end time\n",
    "\n"
   ]
  },
  {
   "cell_type": "code",
   "execution_count": null,
   "id": "99ff3fb9",
   "metadata": {},
   "outputs": [],
   "source": [
    "simulator = chaste.cell_based.OffLatticeSimulation_3_3(cell_population)\n",
    "simulator.SetOutputDirectory(\n",
    "    \"Python/TestNodeBasedCellSimulationsSpheroidTutorial\"\n",
    ")\n",
    "simulator.SetSamplingTimestepMultiple(12)\n",
    "simulator.SetEndTime(10.0)"
   ]
  },
  {
   "cell_type": "markdown",
   "id": "649d6b96",
   "metadata": {},
   "source": [
    "We now pass a force law to the simulation.\n",
    "\n"
   ]
  },
  {
   "cell_type": "code",
   "execution_count": null,
   "id": "53214d91",
   "metadata": {},
   "outputs": [],
   "source": [
    "force = chaste.cell_based.GeneralisedLinearSpringForce_3_3()\n",
    "simulator.AddForce(force)"
   ]
  },
  {
   "cell_type": "markdown",
   "id": "8b48fda1",
   "metadata": {},
   "source": [
    "Save snapshot images of the population during the simulation\n",
    "\n"
   ]
  },
  {
   "cell_type": "code",
   "execution_count": null,
   "id": "b1c2ca4a",
   "metadata": {},
   "outputs": [],
   "source": [
    "scene_modifier = chaste.visualization.JupyterSceneModifier_3(nb_manager)\n",
    "scene_modifier.SetVtkScene(scene)\n",
    "scene_modifier.SetUpdateFrequency(100)\n",
    "simulator.AddSimulationModifier(scene_modifier)"
   ]
  },
  {
   "cell_type": "markdown",
   "id": "91d5e656",
   "metadata": {},
   "source": [
    "To run the simulation, we call `Solve()`. We can again do a quick rendering of the population at the end of the simulation\n",
    "\n"
   ]
  },
  {
   "cell_type": "code",
   "execution_count": null,
   "id": "36556288",
   "metadata": {},
   "outputs": [],
   "source": [
    "scene.Start()\n",
    "simulator.Solve()\n",
    "scene.End()"
   ]
  },
  {
   "cell_type": "markdown",
   "id": "36216054",
   "metadata": {},
   "source": [
    "The next two lines are for test purposes only and are not part of this tutorial.\n",
    "If different simulation input parameters are being explored the lines should be removed.\n",
    "\n"
   ]
  },
  {
   "cell_type": "code",
   "execution_count": null,
   "id": "dec45f3d",
   "metadata": {},
   "outputs": [],
   "source": [
    "    chaste.cell_based.SimulationTime.Instance().GetTime(), 10.0, 6\n",
    ")\n",
    "chaste.cell_based.TearDownNotebookTest() # Tear down the test"
   ]
  },
  {
   "cell_type": "markdown",
   "id": "9abe1de5",
   "metadata": {},
   "source": [
    "### Test 3 - a node-based simulation on a restricted geometry\n",
    "In the second test we run a simple node-based simulation in 3D. This is very similar to the 2D test with the dimension changed from 2 to 3 and\n",
    "instead of using a mesh generator we generate the nodes directly.\n",
    "\n"
   ]
  },
  {
   "cell_type": "code",
   "execution_count": null,
   "id": "8abd6378",
   "metadata": {},
   "outputs": [],
   "source": [
    "chaste.cell_based.SetupNotebookTest() # Set up the test"
   ]
  },
  {
   "cell_type": "markdown",
   "id": "1baac9fb",
   "metadata": {},
   "source": [
    "In the third test we run a node-based simulation restricted to the surface of a sphere.\n",
    "\n"
   ]
  },
  {
   "cell_type": "code",
   "execution_count": null,
   "id": "016582b2",
   "metadata": {},
   "outputs": [],
   "source": [
    "chaste.core.OutputFileHandler(\n",
    "    \"Python/TestNodeBasedCellSimulationsRestrictedSpheroidTutorial\"\n",
    ")\n",
    "nodes = []\n",
    "nodes.append(chaste.mesh.Node_3(0, False, 0.5, 0.0, 0.0))\n",
    "nodes.append(chaste.mesh.Node_3(1, False, -0.5, 0.0, 0.0))\n",
    "nodes.append(chaste.mesh.Node_3(2, False, 0.0, 0.5, 0.0))\n",
    "nodes.append(chaste.mesh.Node_3(3, False, 0.0, -0.5, 0.0))\n",
    "mesh = chaste.mesh.NodesOnlyMesh_3()"
   ]
  },
  {
   "cell_type": "markdown",
   "id": "9bd514a2",
   "metadata": {},
   "source": [
    "To run node-based simulations you need to define a cut off length (second argument in ConstructNodesWithoutMesh),\n",
    "which defines the connectivity of the nodes by defining a radius of interaction.\n",
    "\n"
   ]
  },
  {
   "cell_type": "code",
   "execution_count": null,
   "id": "900939c2",
   "metadata": {},
   "outputs": [],
   "source": [
    "mesh.ConstructNodesWithoutMesh(nodes, 1.5)\n",
    "transit_type = chaste.cell_based.TransitCellProliferativeType()\n",
    "cell_generator = chaste.cell_based.CellsGenerator_UniformCellCycleModel_3()\n",
    "cells = cell_generator.GenerateBasicRandom(mesh.GetNumNodes(), transit_type)\n",
    "cell_population = chaste.cell_based.NodeBasedCellPopulation_3(mesh, cells)"
   ]
  },
  {
   "cell_type": "markdown",
   "id": "bcb15413",
   "metadata": {},
   "source": [
    "We can set up a `VtkScene` to do a quick visualization of the population before running the analysis.\n",
    "\n"
   ]
  },
  {
   "cell_type": "code",
   "execution_count": null,
   "id": "8b0c3a19",
   "metadata": {},
   "outputs": [],
   "source": [
    "scene = chaste.visualization.VtkScene_3()\n",
    "scene.SetCellPopulation(cell_population)\n",
    "nb_manager.vtk_show(scene, height=600)\n",
    "simulator = chaste.cell_based.OffLatticeSimulation_3_3(cell_population)\n",
    "simulator.SetOutputDirectory(\n",
    "    \"Python/TestNodeBasedCellSimulationsRestrictedSpheroidTutorial\"\n",
    ")\n",
    "simulator.SetSamplingTimestepMultiple(12)\n",
    "simulator.SetEndTime(10.0)"
   ]
  },
  {
   "cell_type": "markdown",
   "id": "edb37f12",
   "metadata": {},
   "source": [
    "We now pass a force law to the simulation.\n",
    "\n"
   ]
  },
  {
   "cell_type": "code",
   "execution_count": null,
   "id": "e25561c2",
   "metadata": {},
   "outputs": [],
   "source": [
    "force = chaste.cell_based.GeneralisedLinearSpringForce_3_3()\n",
    "simulator.AddForce(force)"
   ]
  },
  {
   "cell_type": "markdown",
   "id": "17a23d55",
   "metadata": {},
   "source": [
    "This time we create a CellPopulationBoundaryCondition and pass this to the OffLatticeSimulation.\n",
    "Here we use a SphereGeometryBoundaryCondition which restricts cells to lie on a sphere (in 3D) or circle (in 2D).\n",
    "For a list of possible boundary conditions see subclasses of AbstractCellPopulationBoundaryCondition.\n",
    "Note that some of these boundary conditions are not compatible with node-based simulations see the specific class documentation\n",
    "for details, if you try to use an incompatible class then you will receive a warning.\n",
    "First we set the centre (0,0,1) and radius of the sphere (1).\n",
    "\n"
   ]
  },
  {
   "cell_type": "code",
   "execution_count": null,
   "id": "f01933f6",
   "metadata": {},
   "outputs": [],
   "source": [
    "centre = np.array([0.0, 0.0, 1.0])\n",
    "radius = 5.0\n",
    "point2 = chaste.mesh.ChastePoint_3(centre)\n",
    "boundary_condition = chaste.cell_based.SphereGeometryBoundaryCondition_3(\n",
    "    cell_population, point2.rGetLocation(), radius\n",
    ")\n",
    "simulator.AddCellPopulationBoundaryCondition(boundary_condition)"
   ]
  },
  {
   "cell_type": "markdown",
   "id": "a71aed2b",
   "metadata": {},
   "source": [
    "Save snapshot images of the population during the simulation\n",
    "scene_modifier = chaste.cell_based.VtkSceneModifier_3()\n"
   ]
  },
  {
   "cell_type": "code",
   "execution_count": null,
   "id": "885c81fd",
   "metadata": {},
   "outputs": [],
   "source": [
    "scene_modifier.SetVtkScene(scene)\n",
    "scene_modifier.SetUpdateFrequency(100)\n",
    "simulator.AddSimulationModifier(scene_modifier)"
   ]
  },
  {
   "cell_type": "markdown",
   "id": "69e3eaf4",
   "metadata": {},
   "source": [
    "To run the simulation, we call `Solve()`. We can again do a quick rendering of the population at the end of the simulation\n",
    "\n"
   ]
  },
  {
   "cell_type": "code",
   "execution_count": null,
   "id": "f276b02f",
   "metadata": {},
   "outputs": [],
   "source": [
    "scene.Start()\n",
    "simulator.Solve()\n",
    "scene.End()"
   ]
  },
  {
   "cell_type": "markdown",
   "id": "f346ed26",
   "metadata": {},
   "source": [
    "The next two lines are for test purposes only and are not part of this tutorial.\n",
    "If different simulation input parameters are being explored the lines should be removed.\n",
    "\n"
   ]
  },
  {
   "cell_type": "code",
   "execution_count": null,
   "id": "f6bbd10a",
   "metadata": {},
   "outputs": [],
   "source": [
    "    chaste.cell_based.SimulationTime.Instance().GetTime(), 10.0, 6\n",
    ")\n",
    "chaste.cell_based.TearDownNotebookTest() # Tear down the test"
   ]
  }
 ],
 "metadata": {},
 "nbformat": 4,
 "nbformat_minor": 5
}
