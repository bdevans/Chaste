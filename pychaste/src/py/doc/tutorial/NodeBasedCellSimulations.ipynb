{
 "cells": [
  {
   "cell_type": "markdown",
   "id": "66967ede",
   "metadata": {},
   "source": [
    "This tutorial is automatically generated from [TestPyNodeBasedCellSimulationsTutorial.py](https://github.com/Chaste/Chaste/blob/develop/pychaste/test/tutorial/TestPyNodeBasedCellSimulationsTutorial.py) at revision [5494648e74e5](https://github.com/Chaste/Chaste/commit/5494648e74e52d7e7ae7730fdde6a6eae46829cf)."
   ]
  },
  {
   "cell_type": "markdown",
   "id": "e8199081",
   "metadata": {},
   "source": [
    "\n",
    "## Introduction\n",
    "In this tutorial we show how Chaste can be used to create, run and visualize node-based simulations. Full details of the mechanical model can be found in Pathamathan et\n",
    "al \"A computational study of discrete mechanical tissue models\", Physical Biology. Vol. 6. No. 3. 2009.. DOI (10.1088/1478-3975/6/3/036001).\n",
    "\n",
    "## The Test\n",
    "\n"
   ]
  },
  {
   "cell_type": "code",
   "execution_count": null,
   "id": "f0158b84",
   "metadata": {},
   "outputs": [],
   "source": [
    "import numpy as np  # Matrix tools\n",
    "import chaste  # The PyChaste module\n",
    "import chaste.cell_based  # Contains cell populations\n",
    "import chaste.mesh  # Contains meshes\n",
    "import chaste.visualization  # Visualization tools\n",
    "from chaste.cell_based import AbstractCellBasedTestSuite\n",
    "# Set up MPI"
   ]
  },
  {
   "cell_type": "markdown",
   "id": "87f9410d",
   "metadata": {},
   "source": [
    "### Test 1 - A basic node-based simulation\n",
    "In the first test, we run a simple node-based simulation, in which we create a monolayer of cells,\n",
    "using a nodes only mesh. Each cell is assigned a uniform cell-cycle model.\n",
    "\n"
   ]
  },
  {
   "cell_type": "code",
   "execution_count": null,
   "id": "9c891133",
   "metadata": {},
   "outputs": [],
   "source": [
    "chaste.cell_based.SetupNotebookTest() # Set up the test"
   ]
  },
  {
   "cell_type": "markdown",
   "id": "0df93e90",
   "metadata": {},
   "source": [
    "The first thing we do is generate a nodes only mesh. To do this we first create a `MutableMesh` to use as a generating mesh.\n",
    "To do this we can use the `HoneycombMeshGenerator`. This generates a honeycomb-shaped mesh, in which all nodes are equidistant.\n",
    "Here the first and second arguments define the size of the mesh - we have chosen a mesh that is 2 nodes (i.e. cells) wide, and 2 nodes high.\n",
    "\n"
   ]
  },
  {
   "cell_type": "code",
   "execution_count": null,
   "id": "c43be82d",
   "metadata": {},
   "outputs": [],
   "source": [
    "chaste.core.OutputFileHandler(\"Python/TestNodeBasedCellSimulationsTutorial\")\n",
    "generator = chaste.mesh.HoneycombMeshGenerator(2, 2)\n",
    "generating_mesh = generator.GetMesh()"
   ]
  },
  {
   "cell_type": "markdown",
   "id": "6027d977",
   "metadata": {},
   "source": [
    "Once we have a MutableMesh we can generate a NodesOnlyMesh from it using the following commands.\n",
    "Note you can also generate the NodesOnlyMesh from a collection of nodes.\n",
    "\n"
   ]
  },
  {
   "cell_type": "code",
   "execution_count": null,
   "id": "fa4bb0ad",
   "metadata": {},
   "outputs": [],
   "source": [
    "mesh = chaste.mesh.NodesOnlyMesh[2]()"
   ]
  },
  {
   "cell_type": "markdown",
   "id": "9e06bc5b",
   "metadata": {},
   "source": [
    "To run node-based simulations you need to define a cut off length (second argument in `ConstructNodesWithoutMesh`),\n",
    "which defines the connectivity of the nodes by defining a radius of interaction.\n",
    "\n"
   ]
  },
  {
   "cell_type": "code",
   "execution_count": null,
   "id": "bfdaef5e",
   "metadata": {},
   "outputs": [],
   "source": [
    "mesh.ConstructNodesWithoutMesh(generating_mesh, 1.5)"
   ]
  },
  {
   "cell_type": "markdown",
   "id": "47f455db",
   "metadata": {},
   "source": [
    "Having created a mesh, we now create a (wrapped) vector of CellPtrs. To do this, we use the `CellsGenerator` helper class,\n",
    "which is specialized for the type of cell model required (here `UniformCellCycleModel`) and the dimension.\n",
    "We create an empty vector of cells and pass this into the method along with the mesh.\n",
    "The second argument represents the size of that the vector cells should become - one cell for each node,\n",
    "the third argument specifies the proliferative type of the cell.\n",
    "\n"
   ]
  },
  {
   "cell_type": "code",
   "execution_count": null,
   "id": "98e75138",
   "metadata": {},
   "outputs": [],
   "source": [
    "transit_type = chaste.cell_based.TransitCellProliferativeType()\n",
    "cell_generator = chaste.cell_based.CellsGenerator[\"UniformCellCycleModel\", 2]()\n",
    "cells = cell_generator.GenerateBasicRandom(mesh.GetNumNodes(), transit_type)"
   ]
  },
  {
   "cell_type": "markdown",
   "id": "a4eece03",
   "metadata": {},
   "source": [
    "Now we have a mesh and a set of cells to go with it, we can create a `CellPopulation`.\n",
    "In general, this class associates a collection of cells with a mesh. For this test,\n",
    "because we have a `NodesOnlyMesh`, we use a particular type of cell population called a `NodeBasedCellPopulation`.\n",
    "\n"
   ]
  },
  {
   "cell_type": "code",
   "execution_count": null,
   "id": "e73ec903",
   "metadata": {},
   "outputs": [],
   "source": [
    "cell_population = chaste.cell_based.NodeBasedCellPopulation[2](mesh, cells)"
   ]
  },
  {
   "cell_type": "markdown",
   "id": "232e7208",
   "metadata": {},
   "source": [
    "We can set up a `VtkScene` to do a quick visualization of the population before running the analysis.\n",
    "\n"
   ]
  },
  {
   "cell_type": "code",
   "execution_count": null,
   "id": "7b3b871b",
   "metadata": {},
   "outputs": [],
   "source": [
    "scene = chaste.visualization.VtkScene[2]()\n",
    "scene.SetCellPopulation(cell_population)\n",
    "nb_manager = chaste.visualization.JupyterNotebookManager()\n",
    "nb_manager.vtk_show(scene, height=600)"
   ]
  },
  {
   "cell_type": "markdown",
   "id": "64aede2f",
   "metadata": {},
   "source": [
    "We then pass in the cell population into an `OffLatticeSimulation`, and set the output directory, output multiple and end time\n",
    "\n"
   ]
  },
  {
   "cell_type": "code",
   "execution_count": null,
   "id": "966e1868",
   "metadata": {},
   "outputs": [],
   "source": [
    "simulator = chaste.cell_based.OffLatticeSimulation[2, 2](cell_population)\n",
    "simulator.SetOutputDirectory(\"Python/TestNodeBasedCellSimulationsTutorial\")\n",
    "simulator.SetSamplingTimestepMultiple(100)\n",
    "simulator.SetEndTime(10.0)"
   ]
  },
  {
   "cell_type": "markdown",
   "id": "e4b5abfc",
   "metadata": {},
   "source": [
    "We now pass a force law to the simulation.\n",
    "\n"
   ]
  },
  {
   "cell_type": "code",
   "execution_count": null,
   "id": "36fa33ff",
   "metadata": {},
   "outputs": [],
   "source": [
    "force = chaste.cell_based.GeneralisedLinearSpringForce[2, 2]()\n",
    "simulator.AddForce(force)"
   ]
  },
  {
   "cell_type": "markdown",
   "id": "4cd970f1",
   "metadata": {},
   "source": [
    "Save snapshot images of the population during the simulation\n",
    "\n"
   ]
  },
  {
   "cell_type": "code",
   "execution_count": null,
   "id": "8367f846",
   "metadata": {},
   "outputs": [],
   "source": [
    "scene_modifier = chaste.cell_based.VtkSceneModifier[2]()\n",
    "scene_modifier.SetVtkScene(scene)\n",
    "scene_modifier.SetUpdateFrequency(100)\n",
    "simulator.AddSimulationModifier(scene_modifier)"
   ]
  },
  {
   "cell_type": "markdown",
   "id": "7c9ede3d",
   "metadata": {},
   "source": [
    "To run the simulation, we call `Solve()`. We can again do a quick rendering of the population at the end of the simulation\n",
    "\n"
   ]
  },
  {
   "cell_type": "code",
   "execution_count": null,
   "id": "c701c514",
   "metadata": {},
   "outputs": [],
   "source": [
    "scene.Start()\n",
    "simulator.Solve()\n",
    "scene.End()"
   ]
  },
  {
   "cell_type": "markdown",
   "id": "89e18a74",
   "metadata": {},
   "source": [
    "The next two lines are for test purposes only and are not part of this tutorial.\n",
    "If different simulation input parameters are being explored the lines should be removed.\n",
    "\n"
   ]
  },
  {
   "cell_type": "code",
   "execution_count": null,
   "id": "d7f31fe4",
   "metadata": {},
   "outputs": [],
   "source": [
    "    chaste.cell_based.SimulationTime.Instance().GetTime(), 10.0, 6\n",
    ")\n",
    "chaste.cell_based.TearDownNotebookTest() # Tear down the test"
   ]
  },
  {
   "cell_type": "markdown",
   "id": "ebe722fb",
   "metadata": {},
   "source": [
    "### Test 2 - a basic node-based simulation in 3D\n",
    "In the second test we run a simple node-based simulation in 3D. This is very similar to the 2D test with the dimension changed from 2 to 3 and\n",
    "instead of using a mesh generator we generate the nodes directly.\n",
    "\n"
   ]
  },
  {
   "cell_type": "code",
   "execution_count": null,
   "id": "c34c7aaa",
   "metadata": {},
   "outputs": [],
   "source": [
    "chaste.cell_based.SetupNotebookTest() # Set up the test"
   ]
  },
  {
   "cell_type": "markdown",
   "id": "ec2c288d",
   "metadata": {},
   "source": [
    "First, we generate a nodes only mesh. This time we specify the nodes manually by first creating a vector of nodes\n",
    "\n"
   ]
  },
  {
   "cell_type": "code",
   "execution_count": null,
   "id": "4e78b911",
   "metadata": {},
   "outputs": [],
   "source": [
    "chaste.core.OutputFileHandler(\n",
    "    \"Python/TestNodeBasedCellSimulationsSpheroidTutorial\"\n",
    ")\n",
    "nodes = []\n",
    "nodes.append(chaste.mesh.Node[3](0, False, 0.5, 0.0, 0.0))\n",
    "nodes.append(chaste.mesh.Node[3](1, False, -0.5, 0.0, 0.0))\n",
    "nodes.append(chaste.mesh.Node[3](2, False, 0.0, 0.5, 0.0))\n",
    "nodes.append(chaste.mesh.Node[3](3, False, 0.0, -0.5, 0.0))"
   ]
  },
  {
   "cell_type": "markdown",
   "id": "3276a15d",
   "metadata": {},
   "source": [
    "Finally a NodesOnlyMesh is created and the vector of nodes is passed to the ConstructNodesWithoutMesh method.\n",
    "\n"
   ]
  },
  {
   "cell_type": "code",
   "execution_count": null,
   "id": "f2324cb3",
   "metadata": {},
   "outputs": [],
   "source": [
    "mesh = chaste.mesh.NodesOnlyMesh[3]()"
   ]
  },
  {
   "cell_type": "markdown",
   "id": "c3d545ad",
   "metadata": {},
   "source": [
    "To run node-based simulations you need to define a cut off length (second argument in ConstructNodesWithoutMesh),\n",
    "which defines the connectivity of the nodes by defining a radius of interaction.\n",
    "\n"
   ]
  },
  {
   "cell_type": "code",
   "execution_count": null,
   "id": "ddca1e7c",
   "metadata": {},
   "outputs": [],
   "source": [
    "mesh.ConstructNodesWithoutMesh(nodes, 1.5)"
   ]
  },
  {
   "cell_type": "markdown",
   "id": "5a2f15ba",
   "metadata": {},
   "source": [
    "Having created a mesh, we now create a std::vector of CellPtrs.\n",
    "As before, we do this with the CellsGenerator helper class (this time with dimension 3).\n",
    "\n"
   ]
  },
  {
   "cell_type": "code",
   "execution_count": null,
   "id": "1cbb7270",
   "metadata": {},
   "outputs": [],
   "source": [
    "transit_type = chaste.cell_based.TransitCellProliferativeType()\n",
    "cell_generator = chaste.cell_based.CellsGenerator[\"UniformCellCycleModel\", 3]()\n",
    "cells = cell_generator.GenerateBasicRandom(mesh.GetNumNodes(), transit_type)"
   ]
  },
  {
   "cell_type": "markdown",
   "id": "239652c9",
   "metadata": {},
   "source": [
    "Now we have a mesh and a set of cells to go with it, we can create a `CellPopulation`.\n",
    "In general, this class associates a collection of cells with a mesh. For this test,\n",
    "because we have a `NodesOnlyMesh`, we use a particular type of cell population called a `NodeBasedCellPopulation`.\n",
    "\n"
   ]
  },
  {
   "cell_type": "code",
   "execution_count": null,
   "id": "12e5a629",
   "metadata": {},
   "outputs": [],
   "source": [
    "cell_population = chaste.cell_based.NodeBasedCellPopulation[3](mesh, cells)"
   ]
  },
  {
   "cell_type": "markdown",
   "id": "830f52c2",
   "metadata": {},
   "source": [
    "We can set up a `VtkScene` to do a quick visualization of the population before running the analysis.\n",
    "\n"
   ]
  },
  {
   "cell_type": "code",
   "execution_count": null,
   "id": "ef6cdb6f",
   "metadata": {},
   "outputs": [],
   "source": [
    "scene = chaste.visualization.VtkScene[3]()\n",
    "scene.SetCellPopulation(cell_population)\n",
    "nb_manager.vtk_show(scene, height=600)"
   ]
  },
  {
   "cell_type": "markdown",
   "id": "a892dbde",
   "metadata": {},
   "source": [
    "We then pass in the cell population into an `OffLatticeSimulation`, and set the output directory, output multiple and end time\n",
    "\n"
   ]
  },
  {
   "cell_type": "code",
   "execution_count": null,
   "id": "fc07bb7a",
   "metadata": {},
   "outputs": [],
   "source": [
    "simulator = chaste.cell_based.OffLatticeSimulation[3, 3](cell_population)\n",
    "simulator.SetOutputDirectory(\n",
    "    \"Python/TestNodeBasedCellSimulationsSpheroidTutorial\"\n",
    ")\n",
    "simulator.SetSamplingTimestepMultiple(12)\n",
    "simulator.SetEndTime(10.0)"
   ]
  },
  {
   "cell_type": "markdown",
   "id": "912233e9",
   "metadata": {},
   "source": [
    "We now pass a force law to the simulation.\n",
    "\n"
   ]
  },
  {
   "cell_type": "code",
   "execution_count": null,
   "id": "6c6b69e5",
   "metadata": {},
   "outputs": [],
   "source": [
    "force = chaste.cell_based.GeneralisedLinearSpringForce[3, 3]()\n",
    "simulator.AddForce(force)"
   ]
  },
  {
   "cell_type": "markdown",
   "id": "81f5a500",
   "metadata": {},
   "source": [
    "Save snapshot images of the population during the simulation\n",
    "\n"
   ]
  },
  {
   "cell_type": "code",
   "execution_count": null,
   "id": "09c658cf",
   "metadata": {},
   "outputs": [],
   "source": [
    "scene_modifier = chaste.cell_based.VtkSceneModifier[3]()\n",
    "scene_modifier.SetVtkScene(scene)\n",
    "scene_modifier.SetUpdateFrequency(100)\n",
    "simulator.AddSimulationModifier(scene_modifier)"
   ]
  },
  {
   "cell_type": "markdown",
   "id": "6896c752",
   "metadata": {},
   "source": [
    "To run the simulation, we call `Solve()`. We can again do a quick rendering of the population at the end of the simulation\n",
    "\n"
   ]
  },
  {
   "cell_type": "code",
   "execution_count": null,
   "id": "04dc0b6c",
   "metadata": {},
   "outputs": [],
   "source": [
    "scene.Start()\n",
    "simulator.Solve()\n",
    "scene.End()"
   ]
  },
  {
   "cell_type": "markdown",
   "id": "e93d306a",
   "metadata": {},
   "source": [
    "The next two lines are for test purposes only and are not part of this tutorial.\n",
    "If different simulation input parameters are being explored the lines should be removed.\n",
    "\n"
   ]
  },
  {
   "cell_type": "code",
   "execution_count": null,
   "id": "07a36222",
   "metadata": {},
   "outputs": [],
   "source": [
    "    chaste.cell_based.SimulationTime.Instance().GetTime(), 10.0, 6\n",
    ")\n",
    "chaste.cell_based.TearDownNotebookTest() # Tear down the test"
   ]
  },
  {
   "cell_type": "markdown",
   "id": "ab0dd47d",
   "metadata": {},
   "source": [
    "### Test 3 - a node-based simulation on a restricted geometry\n",
    "In the second test we run a simple node-based simulation in 3D. This is very similar to the 2D test with the dimension changed from 2 to 3 and\n",
    "instead of using a mesh generator we generate the nodes directly.\n",
    "\n"
   ]
  },
  {
   "cell_type": "code",
   "execution_count": null,
   "id": "2bd584e2",
   "metadata": {},
   "outputs": [],
   "source": [
    "chaste.cell_based.SetupNotebookTest() # Set up the test"
   ]
  },
  {
   "cell_type": "markdown",
   "id": "800f3d03",
   "metadata": {},
   "source": [
    "In the third test we run a node-based simulation restricted to the surface of a sphere.\n",
    "\n"
   ]
  },
  {
   "cell_type": "code",
   "execution_count": null,
   "id": "9a7858f9",
   "metadata": {},
   "outputs": [],
   "source": [
    "chaste.core.OutputFileHandler(\n",
    "    \"Python/TestNodeBasedCellSimulationsRestrictedSpheroidTutorial\"\n",
    ")\n",
    "nodes = []\n",
    "nodes.append(chaste.mesh.Node[3](0, False, 0.5, 0.0, 0.0))\n",
    "nodes.append(chaste.mesh.Node[3](1, False, -0.5, 0.0, 0.0))\n",
    "nodes.append(chaste.mesh.Node[3](2, False, 0.0, 0.5, 0.0))\n",
    "nodes.append(chaste.mesh.Node[3](3, False, 0.0, -0.5, 0.0))\n",
    "mesh = chaste.mesh.NodesOnlyMesh[3]()"
   ]
  },
  {
   "cell_type": "markdown",
   "id": "3de97519",
   "metadata": {},
   "source": [
    "To run node-based simulations you need to define a cut off length (second argument in ConstructNodesWithoutMesh),\n",
    "which defines the connectivity of the nodes by defining a radius of interaction.\n",
    "\n"
   ]
  },
  {
   "cell_type": "code",
   "execution_count": null,
   "id": "78247fe8",
   "metadata": {},
   "outputs": [],
   "source": [
    "mesh.ConstructNodesWithoutMesh(nodes, 1.5)\n",
    "transit_type = chaste.cell_based.TransitCellProliferativeType()\n",
    "cell_generator = chaste.cell_based.CellsGenerator[\"UniformCellCycleModel\", 3]()\n",
    "cells = cell_generator.GenerateBasicRandom(mesh.GetNumNodes(), transit_type)\n",
    "cell_population = chaste.cell_based.NodeBasedCellPopulation[3](mesh, cells)"
   ]
  },
  {
   "cell_type": "markdown",
   "id": "3e188f2b",
   "metadata": {},
   "source": [
    "We can set up a `VtkScene` to do a quick visualization of the population before running the analysis.\n",
    "\n"
   ]
  },
  {
   "cell_type": "code",
   "execution_count": null,
   "id": "987d0f6b",
   "metadata": {},
   "outputs": [],
   "source": [
    "scene = chaste.visualization.VtkScene[3]()\n",
    "scene.SetCellPopulation(cell_population)\n",
    "nb_manager.vtk_show(scene, height=600)\n",
    "simulator = chaste.cell_based.OffLatticeSimulation[3, 3](cell_population)\n",
    "simulator.SetOutputDirectory(\n",
    "    \"Python/TestNodeBasedCellSimulationsRestrictedSpheroidTutorial\"\n",
    ")\n",
    "simulator.SetSamplingTimestepMultiple(12)\n",
    "simulator.SetEndTime(10.0)"
   ]
  },
  {
   "cell_type": "markdown",
   "id": "61cad139",
   "metadata": {},
   "source": [
    "We now pass a force law to the simulation.\n",
    "\n"
   ]
  },
  {
   "cell_type": "code",
   "execution_count": null,
   "id": "07667bf8",
   "metadata": {},
   "outputs": [],
   "source": [
    "force = chaste.cell_based.GeneralisedLinearSpringForce[3, 3]()\n",
    "simulator.AddForce(force)"
   ]
  },
  {
   "cell_type": "markdown",
   "id": "3781193c",
   "metadata": {},
   "source": [
    "This time we create a CellPopulationBoundaryCondition and pass this to the OffLatticeSimulation.\n",
    "Here we use a SphereGeometryBoundaryCondition which restricts cells to lie on a sphere (in 3D) or circle (in 2D).\n",
    "For a list of possible boundary conditions see subclasses of AbstractCellPopulationBoundaryCondition.\n",
    "Note that some of these boundary conditions are not compatible with node-based simulations see the specific class documentation\n",
    "for details, if you try to use an incompatible class then you will receive a warning.\n",
    "First we set the centre (0,0,1) and radius of the sphere (1).\n",
    "\n"
   ]
  },
  {
   "cell_type": "code",
   "execution_count": null,
   "id": "7728ca51",
   "metadata": {},
   "outputs": [],
   "source": [
    "centre = np.array([0.0, 0.0, 1.0])\n",
    "radius = 5.0\n",
    "point2 = chaste.mesh.ChastePoint[3](centre)\n",
    "boundary_condition = chaste.cell_based.SphereGeometryBoundaryCondition[3](\n",
    "    cell_population, point2.rGetLocation(), radius\n",
    ")\n",
    "simulator.AddCellPopulationBoundaryCondition(boundary_condition)"
   ]
  },
  {
   "cell_type": "markdown",
   "id": "49c9aa61",
   "metadata": {},
   "source": [
    "Save snapshot images of the population during the simulation\n",
    "scene_modifier = chaste.cell_based.VtkSceneModifier[3]()\n"
   ]
  },
  {
   "cell_type": "code",
   "execution_count": null,
   "id": "ead65037",
   "metadata": {},
   "outputs": [],
   "source": [
    "scene_modifier.SetVtkScene(scene)\n",
    "scene_modifier.SetUpdateFrequency(100)\n",
    "simulator.AddSimulationModifier(scene_modifier)"
   ]
  },
  {
   "cell_type": "markdown",
   "id": "4aa91f5c",
   "metadata": {},
   "source": [
    "To run the simulation, we call `Solve()`. We can again do a quick rendering of the population at the end of the simulation\n",
    "\n"
   ]
  },
  {
   "cell_type": "code",
   "execution_count": null,
   "id": "3f5ff11b",
   "metadata": {},
   "outputs": [],
   "source": [
    "scene.Start()\n",
    "simulator.Solve()\n",
    "scene.End()"
   ]
  },
  {
   "cell_type": "markdown",
   "id": "cca0edf4",
   "metadata": {},
   "source": [
    "The next two lines are for test purposes only and are not part of this tutorial.\n",
    "If different simulation input parameters are being explored the lines should be removed.\n",
    "\n"
   ]
  },
  {
   "cell_type": "code",
   "execution_count": null,
   "id": "5e020fc3",
   "metadata": {},
   "outputs": [],
   "source": [
    "    chaste.cell_based.SimulationTime.Instance().GetTime(), 10.0, 6\n",
    ")\n",
    "chaste.cell_based.TearDownNotebookTest() # Tear down the test"
   ]
  }
 ],
 "metadata": {},
 "nbformat": 4,
 "nbformat_minor": 5
}
