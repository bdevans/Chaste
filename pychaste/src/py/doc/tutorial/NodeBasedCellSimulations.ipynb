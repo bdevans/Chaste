{
 "cells": [
  {
   "cell_type": "markdown",
   "id": "3c3a5941",
   "metadata": {},
   "source": [
    "This tutorial is automatically generated from [TestPyNodeBasedCellSimulationsTutorial.py](https://github.com/Chaste/Chaste/blob/develop/pychaste/test/tutorial/TestPyNodeBasedCellSimulationsTutorial.py) at revision [4045f91a83f5](https://github.com/Chaste/Chaste/commit/4045f91a83f55dc4a97f2ca4f97b0c32f4e43a4a)."
   ]
  },
  {
   "cell_type": "markdown",
   "id": "a703699f",
   "metadata": {},
   "source": [
    "\n",
    "## Introduction\n",
    "In this tutorial we show how Chaste can be used to create, run and visualize node-based simulations. Full details of the mechanical model can be found in Pathamathan et\n",
    "al \"A computational study of discrete mechanical tissue models\", Physical Biology. Vol. 6. No. 3. 2009.. DOI (10.1088/1478-3975/6/3/036001).\n",
    "\n",
    "## The Test\n",
    "\n"
   ]
  },
  {
   "cell_type": "code",
   "execution_count": null,
   "id": "f6325d50",
   "metadata": {},
   "outputs": [],
   "source": [
    "import numpy as np  # Matrix tools\n",
    "import chaste  # The PyChaste module\n",
    "import chaste.cell_based  # Contains cell populations\n",
    "import chaste.mesh  # Contains meshes\n",
    "import chaste.visualization  # Visualization tools\n",
    "from chaste.cell_based import AbstractCellBasedTestSuite"
   ]
  },
  {
   "cell_type": "markdown",
   "id": "7de0fe9d",
   "metadata": {},
   "source": [
    "### Test 1 - A basic node-based simulation\n",
    "In the first test, we run a simple node-based simulation, in which we create a monolayer of cells,\n",
    "using a nodes only mesh. Each cell is assigned a uniform cell-cycle model.\n",
    "\n"
   ]
  },
  {
   "cell_type": "code",
   "execution_count": null,
   "id": "3b76d85d",
   "metadata": {},
   "outputs": [],
   "source": [
    "chaste.cell_based.SetupNotebookTest() # Set up the test"
   ]
  },
  {
   "cell_type": "markdown",
   "id": "0919947c",
   "metadata": {},
   "source": [
    "The first thing we do is generate a nodes only mesh. To do this we first create a `MutableMesh` to use as a generating mesh.\n",
    "To do this we can use the `HoneycombMeshGenerator`. This generates a honeycomb-shaped mesh, in which all nodes are equidistant.\n",
    "Here the first and second arguments define the size of the mesh - we have chosen a mesh that is 2 nodes (i.e. cells) wide, and 2 nodes high.\n",
    "\n"
   ]
  },
  {
   "cell_type": "code",
   "execution_count": null,
   "id": "44223a79",
   "metadata": {},
   "outputs": [],
   "source": [
    "chaste.core.OutputFileHandler(\"Python/TestNodeBasedCellSimulationsTutorial\")\n",
    "generator = chaste.mesh.HoneycombMeshGenerator(2, 2)\n",
    "generating_mesh = generator.GetMesh()"
   ]
  },
  {
   "cell_type": "markdown",
   "id": "3ab55d3d",
   "metadata": {},
   "source": [
    "Once we have a MutableMesh we can generate a NodesOnlyMesh from it using the following commands.\n",
    "Note you can also generate the NodesOnlyMesh from a collection of nodes.\n",
    "\n"
   ]
  },
  {
   "cell_type": "code",
   "execution_count": null,
   "id": "814e2ef2",
   "metadata": {},
   "outputs": [],
   "source": [
    "mesh = chaste.mesh.NodesOnlyMesh[2]()"
   ]
  },
  {
   "cell_type": "markdown",
   "id": "4d823ceb",
   "metadata": {},
   "source": [
    "To run node-based simulations you need to define a cut off length (second argument in `ConstructNodesWithoutMesh`),\n",
    "which defines the connectivity of the nodes by defining a radius of interaction.\n",
    "\n"
   ]
  },
  {
   "cell_type": "code",
   "execution_count": null,
   "id": "32008ac0",
   "metadata": {},
   "outputs": [],
   "source": [
    "mesh.ConstructNodesWithoutMesh(generating_mesh, 1.5)"
   ]
  },
  {
   "cell_type": "markdown",
   "id": "f754b268",
   "metadata": {},
   "source": [
    "Having created a mesh, we now create a (wrapped) vector of CellPtrs. To do this, we use the `CellsGenerator` helper class,\n",
    "which is specialized for the type of cell model required (here `UniformCellCycleModel`) and the dimension.\n",
    "We create an empty vector of cells and pass this into the method along with the mesh.\n",
    "The second argument represents the size of that the vector cells should become - one cell for each node,\n",
    "the third argument specifies the proliferative type of the cell.\n",
    "\n"
   ]
  },
  {
   "cell_type": "code",
   "execution_count": null,
   "id": "2f8626a2",
   "metadata": {},
   "outputs": [],
   "source": [
    "transit_type = chaste.cell_based.TransitCellProliferativeType()\n",
    "cell_generator = chaste.cell_based.CellsGenerator[\"UniformCellCycleModel\", 2]()\n",
    "cells = cell_generator.GenerateBasicRandom(mesh.GetNumNodes(), transit_type)"
   ]
  },
  {
   "cell_type": "markdown",
   "id": "d1ae4c6f",
   "metadata": {},
   "source": [
    "Now we have a mesh and a set of cells to go with it, we can create a `CellPopulation`.\n",
    "In general, this class associates a collection of cells with a mesh. For this test,\n",
    "because we have a `NodesOnlyMesh`, we use a particular type of cell population called a `NodeBasedCellPopulation`.\n",
    "\n"
   ]
  },
  {
   "cell_type": "code",
   "execution_count": null,
   "id": "3f1c2480",
   "metadata": {},
   "outputs": [],
   "source": [
    "cell_population = chaste.cell_based.NodeBasedCellPopulation[2](mesh, cells)"
   ]
  },
  {
   "cell_type": "markdown",
   "id": "190fc9da",
   "metadata": {},
   "source": [
    "We can set up a `VtkScene` to do a quick visualization of the population before running the analysis.\n",
    "\n"
   ]
  },
  {
   "cell_type": "code",
   "execution_count": null,
   "id": "0919064a",
   "metadata": {},
   "outputs": [],
   "source": [
    "scene = chaste.visualization.VtkScene[2]()\n",
    "scene.SetCellPopulation(cell_population)\n",
    "nb_manager = chaste.visualization.JupyterNotebookManager()\n",
    "nb_manager.vtk_show(scene, height=600)"
   ]
  },
  {
   "cell_type": "markdown",
   "id": "56380050",
   "metadata": {},
   "source": [
    "We then pass in the cell population into an `OffLatticeSimulation`, and set the output directory, output multiple and end time\n",
    "\n"
   ]
  },
  {
   "cell_type": "code",
   "execution_count": null,
   "id": "da272148",
   "metadata": {},
   "outputs": [],
   "source": [
    "simulator = chaste.cell_based.OffLatticeSimulation[2, 2](cell_population)\n",
    "simulator.SetOutputDirectory(\"Python/TestNodeBasedCellSimulationsTutorial\")\n",
    "simulator.SetSamplingTimestepMultiple(100)\n",
    "simulator.SetEndTime(10.0)"
   ]
  },
  {
   "cell_type": "markdown",
   "id": "639c268e",
   "metadata": {},
   "source": [
    "We now pass a force law to the simulation.\n",
    "\n"
   ]
  },
  {
   "cell_type": "code",
   "execution_count": null,
   "id": "96b94130",
   "metadata": {},
   "outputs": [],
   "source": [
    "force = chaste.cell_based.GeneralisedLinearSpringForce[2, 2]()\n",
    "simulator.AddForce(force)"
   ]
  },
  {
   "cell_type": "markdown",
   "id": "b4d84017",
   "metadata": {},
   "source": [
    "Save snapshot images of the population during the simulation\n",
    "\n"
   ]
  },
  {
   "cell_type": "code",
   "execution_count": null,
   "id": "8e8cb448",
   "metadata": {},
   "outputs": [],
   "source": [
    "scene_modifier = chaste.cell_based.VtkSceneModifier[2]()\n",
    "scene_modifier.SetVtkScene(scene)\n",
    "scene_modifier.SetUpdateFrequency(100)\n",
    "simulator.AddSimulationModifier(scene_modifier)"
   ]
  },
  {
   "cell_type": "markdown",
   "id": "0875c6b7",
   "metadata": {},
   "source": [
    "To run the simulation, we call `Solve()`. We can again do a quick rendering of the population at the end of the simulation\n",
    "\n"
   ]
  },
  {
   "cell_type": "code",
   "execution_count": null,
   "id": "1397db84",
   "metadata": {},
   "outputs": [],
   "source": [
    "scene.Start()\n",
    "simulator.Solve()\n",
    "scene.End()"
   ]
  },
  {
   "cell_type": "markdown",
   "id": "97b5453c",
   "metadata": {},
   "source": [
    "The next two lines are for test purposes only and are not part of this tutorial.\n",
    "If different simulation input parameters are being explored the lines should be removed.\n",
    "\n"
   ]
  },
  {
   "cell_type": "code",
   "execution_count": null,
   "id": "235b96e8",
   "metadata": {},
   "outputs": [],
   "source": [
    "chaste.cell_based.TearDownNotebookTest() # Tear down the test"
   ]
  },
  {
   "cell_type": "markdown",
   "id": "898fd365",
   "metadata": {},
   "source": [
    "### Test 2 - a basic node-based simulation in 3D\n",
    "In the second test we run a simple node-based simulation in 3D. This is very similar to the 2D test with the dimension changed from 2 to 3 and\n",
    "instead of using a mesh generator we generate the nodes directly.\n",
    "\n"
   ]
  },
  {
   "cell_type": "code",
   "execution_count": null,
   "id": "3cd94e9a",
   "metadata": {},
   "outputs": [],
   "source": [
    "chaste.cell_based.SetupNotebookTest() # Set up the test"
   ]
  },
  {
   "cell_type": "markdown",
   "id": "26ad786d",
   "metadata": {},
   "source": [
    "First, we generate a nodes only mesh. This time we specify the nodes manually by first creating a vector of nodes\n",
    "\n"
   ]
  },
  {
   "cell_type": "code",
   "execution_count": null,
   "id": "3bfae388",
   "metadata": {},
   "outputs": [],
   "source": [
    "chaste.core.OutputFileHandler(\n",
    "    \"Python/TestNodeBasedCellSimulationsSpheroidTutorial\"\n",
    ")\n",
    "nodes = []\n",
    "nodes.append(chaste.mesh.Node[3](0, False, 0.5, 0.0, 0.0))\n",
    "nodes.append(chaste.mesh.Node[3](1, False, -0.5, 0.0, 0.0))\n",
    "nodes.append(chaste.mesh.Node[3](2, False, 0.0, 0.5, 0.0))\n",
    "nodes.append(chaste.mesh.Node[3](3, False, 0.0, -0.5, 0.0))"
   ]
  },
  {
   "cell_type": "markdown",
   "id": "06b77b60",
   "metadata": {},
   "source": [
    "Finally a NodesOnlyMesh is created and the vector of nodes is passed to the ConstructNodesWithoutMesh method.\n",
    "\n"
   ]
  },
  {
   "cell_type": "code",
   "execution_count": null,
   "id": "d0d9d5ec",
   "metadata": {},
   "outputs": [],
   "source": [
    "mesh = chaste.mesh.NodesOnlyMesh[3]()"
   ]
  },
  {
   "cell_type": "markdown",
   "id": "cb3823bd",
   "metadata": {},
   "source": [
    "To run node-based simulations you need to define a cut off length (second argument in ConstructNodesWithoutMesh),\n",
    "which defines the connectivity of the nodes by defining a radius of interaction.\n",
    "\n"
   ]
  },
  {
   "cell_type": "code",
   "execution_count": null,
   "id": "8bc520a4",
   "metadata": {},
   "outputs": [],
   "source": [
    "mesh.ConstructNodesWithoutMesh(nodes, 1.5)"
   ]
  },
  {
   "cell_type": "markdown",
   "id": "7aa1f61a",
   "metadata": {},
   "source": [
    "Having created a mesh, we now create a std::vector of CellPtrs.\n",
    "As before, we do this with the CellsGenerator helper class (this time with dimension 3).\n",
    "\n"
   ]
  },
  {
   "cell_type": "code",
   "execution_count": null,
   "id": "96903cf4",
   "metadata": {},
   "outputs": [],
   "source": [
    "transit_type = chaste.cell_based.TransitCellProliferativeType()\n",
    "cell_generator = chaste.cell_based.CellsGenerator[\"UniformCellCycleModel\", 3]()\n",
    "cells = cell_generator.GenerateBasicRandom(mesh.GetNumNodes(), transit_type)"
   ]
  },
  {
   "cell_type": "markdown",
   "id": "852914f9",
   "metadata": {},
   "source": [
    "Now we have a mesh and a set of cells to go with it, we can create a `CellPopulation`.\n",
    "In general, this class associates a collection of cells with a mesh. For this test,\n",
    "because we have a `NodesOnlyMesh`, we use a particular type of cell population called a `NodeBasedCellPopulation`.\n",
    "\n"
   ]
  },
  {
   "cell_type": "code",
   "execution_count": null,
   "id": "4f7ffb29",
   "metadata": {},
   "outputs": [],
   "source": [
    "cell_population = chaste.cell_based.NodeBasedCellPopulation[3](mesh, cells)"
   ]
  },
  {
   "cell_type": "markdown",
   "id": "767b65ae",
   "metadata": {},
   "source": [
    "We can set up a `VtkScene` to do a quick visualization of the population before running the analysis.\n",
    "\n"
   ]
  },
  {
   "cell_type": "code",
   "execution_count": null,
   "id": "c8387b99",
   "metadata": {},
   "outputs": [],
   "source": [
    "scene = chaste.visualization.VtkScene[3]()\n",
    "scene.SetCellPopulation(cell_population)\n",
    "nb_manager.vtk_show(scene, height=600)"
   ]
  },
  {
   "cell_type": "markdown",
   "id": "31e14903",
   "metadata": {},
   "source": [
    "We then pass in the cell population into an `OffLatticeSimulation`, and set the output directory, output multiple and end time\n",
    "\n"
   ]
  },
  {
   "cell_type": "code",
   "execution_count": null,
   "id": "1876f1f5",
   "metadata": {},
   "outputs": [],
   "source": [
    "simulator = chaste.cell_based.OffLatticeSimulation[3, 3](cell_population)\n",
    "simulator.SetOutputDirectory(\"Python/TestNodeBasedCellSimulationsSpheroidTutorial\")\n",
    "simulator.SetSamplingTimestepMultiple(12)\n",
    "simulator.SetEndTime(10.0)"
   ]
  },
  {
   "cell_type": "markdown",
   "id": "526fa8d0",
   "metadata": {},
   "source": [
    "We now pass a force law to the simulation.\n",
    "\n"
   ]
  },
  {
   "cell_type": "code",
   "execution_count": null,
   "id": "925caadc",
   "metadata": {},
   "outputs": [],
   "source": [
    "force = chaste.cell_based.GeneralisedLinearSpringForce[3, 3]()\n",
    "simulator.AddForce(force)"
   ]
  },
  {
   "cell_type": "markdown",
   "id": "38759e3b",
   "metadata": {},
   "source": [
    "Save snapshot images of the population during the simulation\n",
    "\n"
   ]
  },
  {
   "cell_type": "code",
   "execution_count": null,
   "id": "b7ae2ce1",
   "metadata": {},
   "outputs": [],
   "source": [
    "scene_modifier = chaste.cell_based.VtkSceneModifier[3]()\n",
    "scene_modifier.SetVtkScene(scene)\n",
    "scene_modifier.SetUpdateFrequency(100)\n",
    "simulator.AddSimulationModifier(scene_modifier)"
   ]
  },
  {
   "cell_type": "markdown",
   "id": "ed10e9ec",
   "metadata": {},
   "source": [
    "To run the simulation, we call `Solve()`. We can again do a quick rendering of the population at the end of the simulation\n",
    "\n"
   ]
  },
  {
   "cell_type": "code",
   "execution_count": null,
   "id": "92b58b9c",
   "metadata": {},
   "outputs": [],
   "source": [
    "scene.Start()\n",
    "simulator.Solve()\n",
    "scene.End()"
   ]
  },
  {
   "cell_type": "markdown",
   "id": "bfcb1a6e",
   "metadata": {},
   "source": [
    "The next two lines are for test purposes only and are not part of this tutorial.\n",
    "If different simulation input parameters are being explored the lines should be removed.\n",
    "\n"
   ]
  },
  {
   "cell_type": "code",
   "execution_count": null,
   "id": "3c311c16",
   "metadata": {},
   "outputs": [],
   "source": [
    "chaste.cell_based.TearDownNotebookTest() # Tear down the test"
   ]
  },
  {
   "cell_type": "markdown",
   "id": "00d695c4",
   "metadata": {},
   "source": [
    "### Test 3 - a node-based simulation on a restricted geometry\n",
    "In the second test we run a simple node-based simulation in 3D. This is very similar to the 2D test with the dimension changed from 2 to 3 and\n",
    "instead of using a mesh generator we generate the nodes directly.\n",
    "\n"
   ]
  },
  {
   "cell_type": "code",
   "execution_count": null,
   "id": "fd3e63a5",
   "metadata": {},
   "outputs": [],
   "source": [
    "chaste.cell_based.SetupNotebookTest() # Set up the test"
   ]
  },
  {
   "cell_type": "markdown",
   "id": "4a7aca97",
   "metadata": {},
   "source": [
    "In the third test we run a node-based simulation restricted to the surface of a sphere.\n",
    "\n"
   ]
  },
  {
   "cell_type": "code",
   "execution_count": null,
   "id": "4a308eb3",
   "metadata": {},
   "outputs": [],
   "source": [
    "chaste.core.OutputFileHandler(\"Python/TestNodeBasedCellSimulationsRestrictedSpheroidTutorial\")\n",
    "nodes = []\n",
    "nodes.append(chaste.mesh.Node[3](0, False, 0.5, 0.0, 0.0))\n",
    "nodes.append(chaste.mesh.Node[3](1, False, -0.5, 0.0, 0.0))\n",
    "nodes.append(chaste.mesh.Node[3](2, False, 0.0, 0.5, 0.0))\n",
    "nodes.append(chaste.mesh.Node[3](3, False, 0.0, -0.5, 0.0))\n",
    "mesh = chaste.mesh.NodesOnlyMesh[3]()"
   ]
  },
  {
   "cell_type": "markdown",
   "id": "e8f52cd8",
   "metadata": {},
   "source": [
    "To run node-based simulations you need to define a cut off length (second argument in ConstructNodesWithoutMesh),\n",
    "which defines the connectivity of the nodes by defining a radius of interaction.\n",
    "\n"
   ]
  },
  {
   "cell_type": "code",
   "execution_count": null,
   "id": "71cf51c1",
   "metadata": {},
   "outputs": [],
   "source": [
    "mesh.ConstructNodesWithoutMesh(nodes, 1.5)\n",
    "transit_type = chaste.cell_based.TransitCellProliferativeType()\n",
    "cell_generator = chaste.cell_based.CellsGenerator[\"UniformCellCycleModel\", 3]()\n",
    "cells = cell_generator.GenerateBasicRandom(mesh.GetNumNodes(), transit_type)\n",
    "cell_population = chaste.cell_based.NodeBasedCellPopulation[3](mesh, cells)"
   ]
  },
  {
   "cell_type": "markdown",
   "id": "360f80ee",
   "metadata": {},
   "source": [
    "We can set up a `VtkScene` to do a quick visualization of the population before running the analysis.\n",
    "\n"
   ]
  },
  {
   "cell_type": "code",
   "execution_count": null,
   "id": "229588ce",
   "metadata": {},
   "outputs": [],
   "source": [
    "scene = chaste.visualization.VtkScene[3]()\n",
    "scene.SetCellPopulation(cell_population)\n",
    "nb_manager.vtk_show(scene, height=600)\n",
    "simulator = chaste.cell_based.OffLatticeSimulation[3, 3](cell_population)\n",
    "simulator.SetOutputDirectory(\"Python/TestNodeBasedCellSimulationsRestrictedSpheroidTutorial\")\n",
    "simulator.SetSamplingTimestepMultiple(12)\n",
    "simulator.SetEndTime(10.0)"
   ]
  },
  {
   "cell_type": "markdown",
   "id": "772404f8",
   "metadata": {},
   "source": [
    "We now pass a force law to the simulation.\n",
    "\n"
   ]
  },
  {
   "cell_type": "code",
   "execution_count": null,
   "id": "8f328139",
   "metadata": {},
   "outputs": [],
   "source": [
    "force = chaste.cell_based.GeneralisedLinearSpringForce[3, 3]()\n",
    "simulator.AddForce(force)"
   ]
  },
  {
   "cell_type": "markdown",
   "id": "c0ba5622",
   "metadata": {},
   "source": [
    "This time we create a CellPopulationBoundaryCondition and pass this to the OffLatticeSimulation.\n",
    "Here we use a SphereGeometryBoundaryCondition which restricts cells to lie on a sphere (in 3D) or circle (in 2D).\n",
    "For a list of possible boundary conditions see subclasses of AbstractCellPopulationBoundaryCondition.\n",
    "Note that some of these boundary conditions are not compatible with node-based simulations see the specific class documentation\n",
    "for details, if you try to use an incompatible class then you will receive a warning.\n",
    "First we set the centre (0,0,1) and radius of the sphere (1).\n",
    "\n"
   ]
  },
  {
   "cell_type": "code",
   "execution_count": null,
   "id": "3c4ddafe",
   "metadata": {},
   "outputs": [],
   "source": [
    "centre = np.array([0.0, 0.0, 1.0])\n",
    "radius = 5.0\n",
    "point2 = chaste.mesh.ChastePoint[3](centre)\n",
    "boundary_condition = chaste.cell_based.SphereGeometryBoundaryCondition[3](cell_population, point2.rGetLocation(), radius)\n",
    "simulator.AddCellPopulationBoundaryCondition(boundary_condition)"
   ]
  },
  {
   "cell_type": "markdown",
   "id": "e5334799",
   "metadata": {},
   "source": [
    "Save snapshot images of the population during the simulation\n",
    "scene_modifier = chaste.cell_based.VtkSceneModifier[3]()\n"
   ]
  },
  {
   "cell_type": "code",
   "execution_count": null,
   "id": "a1965881",
   "metadata": {},
   "outputs": [],
   "source": [
    "scene_modifier.SetVtkScene(scene)\n",
    "scene_modifier.SetUpdateFrequency(100)\n",
    "simulator.AddSimulationModifier(scene_modifier)"
   ]
  },
  {
   "cell_type": "markdown",
   "id": "28307877",
   "metadata": {},
   "source": [
    "To run the simulation, we call `Solve()`. We can again do a quick rendering of the population at the end of the simulation\n",
    "\n"
   ]
  },
  {
   "cell_type": "code",
   "execution_count": null,
   "id": "c0d53fb5",
   "metadata": {},
   "outputs": [],
   "source": [
    "scene.Start()\n",
    "simulator.Solve()\n",
    "scene.End()"
   ]
  },
  {
   "cell_type": "markdown",
   "id": "7e200047",
   "metadata": {},
   "source": [
    "The next two lines are for test purposes only and are not part of this tutorial.\n",
    "If different simulation input parameters are being explored the lines should be removed.\n",
    "\n"
   ]
  },
  {
   "cell_type": "code",
   "execution_count": null,
   "id": "05a71bf2",
   "metadata": {},
   "outputs": [],
   "source": [
    "chaste.cell_based.TearDownNotebookTest() # Tear down the test"
   ]
  }
 ],
 "metadata": {},
 "nbformat": 4,
 "nbformat_minor": 5
}
