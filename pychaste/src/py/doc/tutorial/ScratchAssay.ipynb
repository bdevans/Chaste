{
 "cells": [
  {
   "cell_type": "markdown",
   "id": "0c667d19",
   "metadata": {},
   "source": [
    "This tutorial is automatically generated from [TestPyScratchAssayTutorial.py](https://github.com/Chaste/Chaste/blob/develop/pychaste/test/tutorial/TestPyScratchAssayTutorial.py) at revision [2cd31145369b](https://github.com/Chaste/Chaste/commit/2cd31145369b99ac6f9bd17ad1c916ec7de20b28)."
   ]
  },
  {
   "cell_type": "markdown",
   "id": "f962a2fd",
   "metadata": {},
   "source": [
    "\n",
    "## Introduction\n",
    "This tutorial is an example of modelling a scratch assay using a simple cellular automaton\n",
    "representation of cells. It will cover the following techniques:\n",
    "\n",
    " * Setting up a regular mesh (or lattice)\n",
    " * Visualizing the mesh\n",
    " * Working with file-based output\n",
    " * Generating cells and adding them to the mesh\n",
    " * Simulating cell migration on the mesh\n",
    " * Real-time visualization of the cell population and plotting of population statistics\n",
    " \n",
    "## The Test\n",
    "\n"
   ]
  },
  {
   "cell_type": "code",
   "execution_count": null,
   "id": "dbcaf174",
   "metadata": {},
   "outputs": [],
   "source": [
    "import chaste  # The PyChaste module\n",
    "import chaste.cell_based  # Contains cell populations\n",
    "import chaste.mesh  # Contains meshes\n",
    "import chaste.visualization  # Visualization tools\n",
    "import matplotlib.pyplot as plt  # Plotting\n",
    "import numpy as np  # Matrix tools\n",
    "# Set up MPI"
   ]
  },
  {
   "cell_type": "markdown",
   "id": "e4774c10",
   "metadata": {},
   "source": [
    "### Test 1 - Scratch Assay\n",
    "In this test we will create a scratch along the middle of a domain and quantify the migration\n",
    "of cells into the region. Cells will migrate by random walk on the their regular mesh  (lattice).\n",
    "\n"
   ]
  },
  {
   "cell_type": "code",
   "execution_count": null,
   "id": "1e4f155c",
   "metadata": {},
   "outputs": [],
   "source": [
    "chaste.cell_based.SetupNotebookTest() # Set up the test"
   ]
  },
  {
   "cell_type": "markdown",
   "id": "e39295e9",
   "metadata": {},
   "source": [
    "Chaste is based on the concept of `Cells` and `Meshes`. 'Cells' do not store their position in space,\n",
    "or connectivity, these are managed by a `Mesh`. The first step in most Chaste simulations is to\n",
    "set up a mesh, on which we can locate cells. A collection of `Cells` and a `Mesh` are a `CellPopulation`\n",
    "in Chaste terminology. The most simple `CellPopulation` is the `CaBasedCellPopulation` which corresponds\n",
    "to cells occupying discrete locations on a regular mesh (lattice). Our first step is to set up the mesh.\n",
    "Here we set up a 2D lattice.\n",
    "\n"
   ]
  },
  {
   "cell_type": "code",
   "execution_count": null,
   "id": "94a6b116",
   "metadata": {},
   "outputs": [],
   "source": [
    "num_points_in_x = 100\n",
    "num_points_in_y = 12\n",
    "generator = chaste.mesh.PottsMeshGenerator_2(\n",
    "    num_points_in_x, 0, 0, num_points_in_y, 0, 0\n",
    ")\n",
    "mesh = generator.GetMesh()"
   ]
  },
  {
   "cell_type": "markdown",
   "id": "2618d06b",
   "metadata": {},
   "source": [
    "Note that we are using a `PottsMeshGenerator_2` to set up the grid and we are setting some terms to 0. Chaste\n",
    "design is based on re-use of components, the `PottsMeshGenerator` can be used to set up other types of\n",
    "cell population which require these extra terms. Note also the '2' at the end of the class name. This\n",
    "tells us that we are working in 2D. Most Chaste classes are specialized (templated) for spatial dimension,\n",
    "so we need to make sure we are consistent in the dimensionality of the classes we are using.\n",
    "\n",
    "Next we set up some cells. We create and empty container `VectorSharedPtrCell` (which will behave like a Python list)\n",
    "and will fill it with cells of our chosen type. In Chaste cells can be assinged a number of proliferative types\n",
    "(Default, Differentiated, Stem, Transit or User Defined). These types will define how cells behave in certain\n",
    "simulations, for example whether they will proliferate. We just want our cells to migrate in this example, so\n",
    "we set a DifferentiatedCellProliferativeType.\n",
    "\n"
   ]
  },
  {
   "cell_type": "code",
   "execution_count": null,
   "id": "e01a1123",
   "metadata": {},
   "outputs": [],
   "source": [
    "cells = []\n",
    "differentiated_type = chaste.cell_based.DifferentiatedCellProliferativeType()"
   ]
  },
  {
   "cell_type": "markdown",
   "id": "049d7a4c",
   "metadata": {},
   "source": [
    "We are not interested in cell cycling so we specialize the generator to NoCellCycleModel.\n",
    "\n"
   ]
  },
  {
   "cell_type": "code",
   "execution_count": null,
   "id": "3d88d0e4",
   "metadata": {},
   "outputs": [],
   "source": [
    "cell_generator = chaste.cell_based.CellsGenerator_NoCellCycleModel_2()"
   ]
  },
  {
   "cell_type": "markdown",
   "id": "2e7566e5",
   "metadata": {},
   "source": [
    "We want two sets of cells, starting on opposite sides of the mesh. We use `location_indices` to map cells onto\n",
    "locations (or Nodes) on the mesh. For our regular mesh the Node indices increase fastest in x, then y. We will\n",
    "add four layers of cells to each side of the mesh.\n",
    "\n"
   ]
  },
  {
   "cell_type": "code",
   "execution_count": null,
   "id": "8a3c1f8e",
   "metadata": {},
   "outputs": [],
   "source": [
    "num_cell_layers = 4\n",
    "bottom_location_indices = list(range(num_cell_layers * num_points_in_x))\n",
    "num_grid_points = num_points_in_x * num_points_in_y\n",
    "top_location_indices = list(\n",
    "    range(\n",
    "        num_grid_points - 1,\n",
    "        num_grid_points - num_cell_layers * num_points_in_x - 1,\n",
    "        -1,\n",
    "    )\n",
    ")\n",
    "cells = cell_generator.GenerateGivenLocationIndices(\n",
    "    bottom_location_indices + top_location_indices, differentiated_type\n",
    ")"
   ]
  },
  {
   "cell_type": "markdown",
   "id": "091fd3e9",
   "metadata": {},
   "source": [
    "Now we have a mesh and a set of cells to go with it, we can create a CellPopulation.\n",
    "\n"
   ]
  },
  {
   "cell_type": "code",
   "execution_count": null,
   "id": "7a46cf6a",
   "metadata": {},
   "outputs": [],
   "source": [
    "cell_population = chaste.cell_based.CaBasedCellPopulation_2(\n",
    "    mesh, cells, bottom_location_indices + top_location_indices\n",
    ")"
   ]
  },
  {
   "cell_type": "markdown",
   "id": "f4557d00",
   "metadata": {},
   "source": [
    "Next, we set up an `OffLatticeSimulation` which will manage the solver. We need to add some custom rules to\n",
    "this solver to specify how we want the cells to migrate.\n",
    "\n"
   ]
  },
  {
   "cell_type": "code",
   "execution_count": null,
   "id": "7f440ab2",
   "metadata": {},
   "outputs": [],
   "source": [
    "simulator = chaste.cell_based.OnLatticeSimulation_2(cell_population)\n",
    "simulator.SetOutputDirectory(\"Python/TestScratchAssayTutorial\")\n",
    "simulator.SetEndTime(10.0)\n",
    "simulator.SetDt(0.1)\n",
    "simulator.SetSamplingTimestepMultiple(1)"
   ]
  },
  {
   "cell_type": "markdown",
   "id": "bea6903e",
   "metadata": {},
   "source": [
    "We must now create a rule for cell migration. We will use an existing diffusion type rule.\n",
    "\n"
   ]
  },
  {
   "cell_type": "code",
   "execution_count": null,
   "id": "d7f4ebc6",
   "metadata": {},
   "outputs": [],
   "source": [
    "diffusion_update_rule = chaste.cell_based.DiffusionCaUpdateRule_2()\n",
    "simulator.AddUpdateRule(diffusion_update_rule)"
   ]
  },
  {
   "cell_type": "markdown",
   "id": "39417d83",
   "metadata": {},
   "source": [
    "PyChaste can do simple 3D rendering with VTK. We set up a `VtkScene` so that we can see the population\n",
    "evovle in real time.\n",
    "\n"
   ]
  },
  {
   "cell_type": "code",
   "execution_count": null,
   "id": "7e2ab781",
   "metadata": {},
   "outputs": [],
   "source": [
    "scene = chaste.visualization.VtkScene_2()\n",
    "scene.SetCellPopulation(cell_population)\n",
    "scene.GetCellPopulationActorGenerator().SetShowCellCentres(True)\n",
    "nb_manager = chaste.visualization.JupyterNotebookManager()\n",
    "nb_manager.vtk_show(scene, height=600)"
   ]
  },
  {
   "cell_type": "markdown",
   "id": "d1942c63",
   "metadata": {},
   "source": [
    "We add the scene to the simulation for real-time updating using a `VtkSceneModifier`. Such\n",
    "modifiers are called by the simulator at regular periods during the main time loop and\n",
    "have access to the cell population. We will use a similar idea in a moment to record cell\n",
    "positions for real time plotting.\n",
    "\n"
   ]
  },
  {
   "cell_type": "code",
   "execution_count": null,
   "id": "4d286170",
   "metadata": {},
   "outputs": [],
   "source": [
    "scene_modifier = chaste.visualization.JupyterSceneModifier_2(nb_manager)\n",
    "scene_modifier.SetVtkScene(scene)\n",
    "scene_modifier.SetUpdateFrequency(10)\n",
    "simulator.AddSimulationModifier(scene_modifier)"
   ]
  },
  {
   "cell_type": "markdown",
   "id": "940bac48",
   "metadata": {},
   "source": [
    "Chaste and PyChaste use object oriented programming. This may require some background reading,\n",
    "but allows for great flexibility in terms of modifying existing functionality. In\n",
    "order to pull the data we want out of the simulation as it runs we will create our own\n",
    "simulation modifier class and use it for real time plotting. This Python class over-rides\n",
    "one of the built-in classes, giving us access to the quantities we want during the simulation.\n",
    "Usually we would define such a class in a different module and import it, it is placed\n",
    "here for the purposes of the tutorial.\n",
    "\n"
   ]
  },
  {
   "cell_type": "code",
   "execution_count": null,
   "id": "c4191a6e",
   "metadata": {},
   "outputs": [],
   "source": [
    "class PlottingModifier(chaste.cell_based.PythonSimulationModifier_2):\n",
    "    \"\"\"Class for real time plotting of cell numbers using Matplotlib\"\"\"\n",
    "    def __init__(self, num_points_in_x, num_points_in_y):\n",
    "        super(PlottingModifier, self).__init__()\n",
    "        # Set up a figure for plotting\n",
    "        plt.ioff()\n",
    "        self.fig = plt.figure()\n",
    "        self.fig.ax = self.fig.add_subplot(111)\n",
    "        self.fig.ax.set_xlabel(\"y - Position (Cell Lengths)\")\n",
    "        self.fig.ax.set_ylabel(\"Number Of Cells\")\n",
    "        self.plot_frequency = 10  # only plot every 10 steps\n",
    "        self.num_points_in_x = num_points_in_x\n",
    "        self.num_points_in_y = num_points_in_y\n",
    "    def UpdateAtEndOfTimeStep(self, cell_population):\n",
    "        \"\"\"Plot the number of cells at each lattice point and time-point\n",
    "        Use the SimulationTime singleton to determine when to plot.\n",
    "        \"\"\"\n",
    "        num_increments = (\n",
    "            chaste.cell_based.SimulationTime.Instance().GetTimeStepsElapsed()\n",
    "        )\n",
    "        if num_increments % self.plot_frequency == 0:\n",
    "            y_locations = np.linspace(0, num_points_in_y, num_points_in_y)\n",
    "            num_cells = []\n",
    "            for idx in range(num_points_in_y):\n",
    "                counter = 0\n",
    "                for jdx in range(num_points_in_x):\n",
    "                    if cell_population.IsCellAttachedToLocationIndex(\n",
    "                        jdx + idx * num_points_in_x\n",
    "                    ):\n",
    "                        counter += 1\n",
    "                num_cells.append(counter)\n",
    "            self.fig.ax.plot(y_locations, num_cells, color=\"black\")\n",
    "            self.fig.canvas.draw()\n",
    "            # display.display(self.fig)\n",
    "            # display.clear_output(wait=True)\n",
    "    def SetupSolve(self, cell_population, output_directory):\n",
    "        \"\"\"Ensure the cell population is in the correct state at the start of the simulation\"\"\"\n",
    "        cell_population.Update()\n",
    "plotting_modifier = PlottingModifier(num_points_in_x, num_points_in_y)\n",
    "simulator.AddSimulationModifier(plotting_modifier)"
   ]
  },
  {
   "cell_type": "markdown",
   "id": "5da8800f",
   "metadata": {},
   "source": [
    "To run the simulation, we call `Solve()` and optionally set up interactive plotting. We will see the cells\n",
    "migrate and the population distribution gradually become more uniform.\n",
    "\n"
   ]
  },
  {
   "cell_type": "code",
   "execution_count": null,
   "id": "b9c4016b",
   "metadata": {},
   "outputs": [],
   "source": [
    "scene.Start()\n",
    "plt.ion()\n",
    "plt.show()\n",
    "simulator.Solve()\n",
    "chaste.cell_based.TearDownNotebookTest() # Tear down the test"
   ]
  }
 ],
 "metadata": {},
 "nbformat": 4,
 "nbformat_minor": 5
}
