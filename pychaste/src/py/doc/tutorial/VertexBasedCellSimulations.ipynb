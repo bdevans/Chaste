{
 "cells": [
  {
   "cell_type": "markdown",
   "id": "a5d9b1c6",
   "metadata": {},
   "source": [
    "This tutorial is automatically generated from [TestPyVertexBasedCellSimulationsTutorial.py](https://github.com/Chaste/Chaste/blob/develop/pychaste/test/tutorial/TestPyVertexBasedCellSimulationsTutorial.py) at revision [5494648e74e5](https://github.com/Chaste/Chaste/commit/5494648e74e52d7e7ae7730fdde6a6eae46829cf)."
   ]
  },
  {
   "cell_type": "markdown",
   "id": "dc0d855e",
   "metadata": {},
   "source": [
    "\n",
    "## Introduction\n",
    "In this tutorial we show how Chaste can be used to create, run and visualize vertex-based simulations.\n",
    "Full details of the mechanical model proposed by T. Nagai and H. Honda (\"A dynamic cell model for the formation of epithelial tissues\",\n",
    "Philosophical Magazine Part B 81:699-719).\n",
    "\n",
    "## The Test\n",
    "\n"
   ]
  },
  {
   "cell_type": "code",
   "execution_count": null,
   "id": "167c7403",
   "metadata": {},
   "outputs": [],
   "source": [
    "import matplotlib.pyplot as plt  # Plotting\n",
    "import numpy as np  # Matrix tools\n",
    "import chaste  # The PyChaste module\n",
    "import chaste.cell_based  # Contains cell populations\n",
    "import chaste.mesh  # Contains meshes\n",
    "import chaste.visualization  # Visualization tools\n",
    "from chaste.cell_based import AbstractCellBasedTestSuite\n",
    "# Set up MPI"
   ]
  },
  {
   "cell_type": "markdown",
   "id": "d942733c",
   "metadata": {},
   "source": [
    "### Test 1 - A basic vertex-based simulation\n",
    "In the first test, we run a simple vertex-based simulation, in which we create a monolayer of cells,\n",
    "using a mutable vertex mesh. Each cell is assigned a stochastic cell-cycle model.\n",
    "\n"
   ]
  },
  {
   "cell_type": "code",
   "execution_count": null,
   "id": "552a2576",
   "metadata": {},
   "outputs": [],
   "source": [
    "chaste.cell_based.SetupNotebookTest() # Set up the test"
   ]
  },
  {
   "cell_type": "markdown",
   "id": "2e699a12",
   "metadata": {},
   "source": [
    "First, we generate a vertex mesh. To create a MutableVertexMesh, we can use the HoneycombVertexMeshGenerator.\n",
    "This generates a honeycomb-shaped mesh, in which all nodes are equidistant. Here the first and second arguments\n",
    "define the size of the mesh - we have chosen a mesh that is 2 elements (i.e. cells) wide, and 2 elements high.\n",
    "\n"
   ]
  },
  {
   "cell_type": "code",
   "execution_count": null,
   "id": "f7fc27f7",
   "metadata": {},
   "outputs": [],
   "source": [
    "chaste.core.OutputFileHandler(\"Python/TestVertexBasedCellSimulationsTutorial\")\n",
    "generator = chaste.mesh.HoneycombVertexMeshGenerator(2, 2)\n",
    "mesh = generator.GetMesh()"
   ]
  },
  {
   "cell_type": "markdown",
   "id": "e4b814fb",
   "metadata": {},
   "source": [
    "Having created a mesh, we now create a std::vector of CellPtrs. To do this, we use the CellsGenerator helper class,\n",
    "which is templated over the type of cell model required\n",
    "and the dimension. We create an empty vector of cells and pass this into the method along with the mesh.\n",
    "The second argument represents the size of that the vector cells should become - one cell for each element,\n",
    "the third argument specifies the proliferative type of the cell.\n",
    "\n"
   ]
  },
  {
   "cell_type": "code",
   "execution_count": null,
   "id": "5f8e9bc2",
   "metadata": {},
   "outputs": [],
   "source": [
    "transit_type = chaste.cell_based.TransitCellProliferativeType()\n",
    "cell_generator = (\n",
    "    chaste.cell_based.CellsGenerator[\"UniformG1GenerationalCellCycleModel\", 2]()\n",
    ")\n",
    "cells = cell_generator.GenerateBasicRandom(mesh.GetNumElements(), transit_type)"
   ]
  },
  {
   "cell_type": "markdown",
   "id": "5a9cfeac",
   "metadata": {},
   "source": [
    "Now we have a mesh and a set of cells to go with it, we can create a CellPopulation.\n",
    "In general, this class associates a collection of cells with a mesh. For this test, because we have a MutableVertexMesh,\n",
    "we use a particular type of cell population called a VertexBasedCellPopulation.\n",
    "\n"
   ]
  },
  {
   "cell_type": "code",
   "execution_count": null,
   "id": "830cb823",
   "metadata": {},
   "outputs": [],
   "source": [
    "cell_population = chaste.cell_based.VertexBasedCellPopulation[2](mesh, cells)"
   ]
  },
  {
   "cell_type": "markdown",
   "id": "07fb8072",
   "metadata": {},
   "source": [
    "We can set up a `VtkScene` to do a quick visualization of the population before running the analysis.\n",
    "\n"
   ]
  },
  {
   "cell_type": "code",
   "execution_count": null,
   "id": "a176671e",
   "metadata": {},
   "outputs": [],
   "source": [
    "scene = chaste.visualization.VtkScene[2]()\n",
    "scene.SetCellPopulation(cell_population)\n",
    "nb_manager = chaste.visualization.JupyterNotebookManager()\n",
    "nb_manager.vtk_show(scene, height=600)"
   ]
  },
  {
   "cell_type": "markdown",
   "id": "8b803f63",
   "metadata": {},
   "source": [
    "We then pass in the cell population into an `OffLatticeSimulation`, and set the output directory, output multiple and end time\n",
    "\n"
   ]
  },
  {
   "cell_type": "code",
   "execution_count": null,
   "id": "6709b15c",
   "metadata": {},
   "outputs": [],
   "source": [
    "simulator = chaste.cell_based.OffLatticeSimulation[2, 2](cell_population)\n",
    "simulator.SetOutputDirectory(\"Python/TestVertexBasedCellSimulationsTutorial\")\n",
    "simulator.SetEndTime(5.0)"
   ]
  },
  {
   "cell_type": "markdown",
   "id": "cab46bac",
   "metadata": {},
   "source": [
    "For longer simulations, we may not want to output the results every time step.\n",
    "In this case we can use the following method, to print results every 50 time steps instead.\n",
    "As the default time step used by the simulator (for vertex based simulations), is 0.02 hours, this method\n",
    "will cause the simulator to print results every 6 minutes (i.e. 0.1 hours).\n",
    "\n"
   ]
  },
  {
   "cell_type": "code",
   "execution_count": null,
   "id": "00a37fd6",
   "metadata": {},
   "outputs": [],
   "source": [
    "simulator.SetSamplingTimestepMultiple(50)"
   ]
  },
  {
   "cell_type": "markdown",
   "id": "22425abc",
   "metadata": {},
   "source": [
    "We must now create one or more force laws, which determine the mechanics of the vertices of each cell in a cell population.\n",
    "For this test, we use one force law, based on the Nagai-Honda mechanics, and pass it to the OffLatticeSimulation.\n",
    "For a list of possible forces see subclasses of AbstractForce.\n",
    "Note that some of these forces are not compatible with vertex-based simulations see the specific class documentation for details,\n",
    "if you try to use an incompatible class then you will receive a warning.\n",
    "\n"
   ]
  },
  {
   "cell_type": "code",
   "execution_count": null,
   "id": "356870e4",
   "metadata": {},
   "outputs": [],
   "source": [
    "force = chaste.cell_based.NagaiHondaForce[2]()\n",
    "simulator.AddForce(force)"
   ]
  },
  {
   "cell_type": "markdown",
   "id": "722fc25e",
   "metadata": {},
   "source": [
    "A NagaiHondaForce assumes that each cell has a target area. The target areas of cells are used to determine\n",
    "pressure forces on each vertex and eventually determine the size of each cell in the simulation.\n",
    "In order to assign target areas to cells and update them in each time step we add a SimpleTargetAreaModifier\n",
    "to the simulation, which inherits from AbstractTargetAreaModifier.\n",
    "\n"
   ]
  },
  {
   "cell_type": "code",
   "execution_count": null,
   "id": "f53e3c2c",
   "metadata": {},
   "outputs": [],
   "source": [
    "growth_modifier = chaste.cell_based.SimpleTargetAreaModifier[2]()\n",
    "simulator.AddSimulationModifier(growth_modifier)"
   ]
  },
  {
   "cell_type": "markdown",
   "id": "48eff900",
   "metadata": {},
   "source": [
    "Save snapshot images of the population during the simulation\n",
    "\n"
   ]
  },
  {
   "cell_type": "code",
   "execution_count": null,
   "id": "0a8990ca",
   "metadata": {},
   "outputs": [],
   "source": [
    "scene_modifier = chaste.cell_based.VtkSceneModifier[2]()\n",
    "scene_modifier.SetVtkScene(scene)\n",
    "scene_modifier.SetUpdateFrequency(100)\n",
    "simulator.AddSimulationModifier(scene_modifier)"
   ]
  },
  {
   "cell_type": "markdown",
   "id": "f4e24f94",
   "metadata": {},
   "source": [
    "To run the simulation, we call `Solve()`. We can again do a quick rendering of the population at the end of the simulation\n",
    "\n"
   ]
  },
  {
   "cell_type": "code",
   "execution_count": null,
   "id": "dd4d2587",
   "metadata": {},
   "outputs": [],
   "source": [
    "scene.Start()\n",
    "simulator.Solve()\n",
    "scene.End()"
   ]
  },
  {
   "cell_type": "markdown",
   "id": "6b5fe096",
   "metadata": {},
   "source": [
    "The next two lines are for test purposes only and are not part of this tutorial.\n",
    "If different simulation input parameters are being explored the lines should be removed.\n",
    "\n"
   ]
  },
  {
   "cell_type": "code",
   "execution_count": null,
   "id": "78c7359e",
   "metadata": {},
   "outputs": [],
   "source": [
    "    chaste.cell_based.SimulationTime.Instance().GetTime(), 5.0, 6\n",
    ")\n",
    "chaste.cell_based.TearDownNotebookTest() # Tear down the test"
   ]
  },
  {
   "cell_type": "markdown",
   "id": "127d14f8",
   "metadata": {},
   "source": [
    "### Test 2 - introducing periodicity, boundaries and cell killers\n",
    "In the second test, we run a simple vertex-based simulation, in which we create a monolayer of cells in a periodic geometry,\n",
    "using a cylindrical vertex mesh. We also include a fixed boundary which cells can't pass through and a cell killer which removes\n",
    "cells once they leave a region. As before each cell is assigned a stochastic cell-cycle model.\n",
    "\n"
   ]
  },
  {
   "cell_type": "code",
   "execution_count": null,
   "id": "d6be5998",
   "metadata": {},
   "outputs": [],
   "source": [
    "chaste.cell_based.SetupNotebookTest() # Set up the test"
   ]
  },
  {
   "cell_type": "markdown",
   "id": "c3ec7400",
   "metadata": {},
   "source": [
    "First, we generate a periodic vertex mesh. To create a Cylindrical2dVertexMesh, we can use the CylindricalHoneycombVertexMeshGenerator.\n",
    "This generates a honeycomb-shaped mesh, in which all nodes are equidistant and the right hand side is associated with the left hand side.\n",
    "Here the first and second arguments define the size of the mesh - we have chosen a mesh that is\n",
    "4 elements (i.e. cells) wide, and 4 elements high.\n",
    "\n"
   ]
  },
  {
   "cell_type": "code",
   "execution_count": null,
   "id": "06821608",
   "metadata": {},
   "outputs": [],
   "source": [
    "generator = chaste.mesh.CylindricalHoneycombVertexMeshGenerator(4, 4)\n",
    "mesh = generator.GetCylindricalMesh()"
   ]
  },
  {
   "cell_type": "markdown",
   "id": "0696066f",
   "metadata": {},
   "source": [
    "Having created a mesh, we now create a VectorSharedPtrCells. This is exactly the same as the above test.\n",
    "\n"
   ]
  },
  {
   "cell_type": "code",
   "execution_count": null,
   "id": "dd95fccb",
   "metadata": {},
   "outputs": [],
   "source": [
    "transit_type = chaste.cell_based.TransitCellProliferativeType()\n",
    "cell_generator = (\n",
    "    chaste.cell_based.CellsGenerator[\"UniformG1GenerationalCellCycleModel\", 2]()\n",
    ")\n",
    "cells = cell_generator.GenerateBasicRandom(mesh.GetNumElements(), transit_type)"
   ]
  },
  {
   "cell_type": "markdown",
   "id": "166383e8",
   "metadata": {},
   "source": [
    "Now we have a mesh and a set of cells to go with it, we can create a CellPopulation. This is also the same as in the above test.\n",
    "\n"
   ]
  },
  {
   "cell_type": "code",
   "execution_count": null,
   "id": "57375301",
   "metadata": {},
   "outputs": [],
   "source": [
    "cell_population = chaste.cell_based.VertexBasedCellPopulation[2](mesh, cells)"
   ]
  },
  {
   "cell_type": "markdown",
   "id": "33b0897f",
   "metadata": {},
   "source": [
    "We then pass in the cell population into an `OffLatticeSimulation`, and set the output directory, output multiple and end time\n",
    "\n"
   ]
  },
  {
   "cell_type": "code",
   "execution_count": null,
   "id": "d774860f",
   "metadata": {},
   "outputs": [],
   "source": [
    "simulator = chaste.cell_based.OffLatticeSimulation[2, 2](cell_population)\n",
    "simulator.SetOutputDirectory(\"Python/TestPeriodicVertexBasedCellPopulation\")\n",
    "simulator.SetEndTime(1.0)\n",
    "simulator.SetSamplingTimestepMultiple(50)"
   ]
  },
  {
   "cell_type": "markdown",
   "id": "2d071009",
   "metadata": {},
   "source": [
    "We now make a pointer to an appropriate force and pass it to the OffLatticeSimulation.\n",
    "\n"
   ]
  },
  {
   "cell_type": "code",
   "execution_count": null,
   "id": "2411069f",
   "metadata": {},
   "outputs": [],
   "source": [
    "force = chaste.cell_based.NagaiHondaForce[2]()\n",
    "simulator.AddForce(force)"
   ]
  },
  {
   "cell_type": "markdown",
   "id": "0186d0b7",
   "metadata": {},
   "source": [
    "We also make a pointer to the target area modifier and add it to the simulator.\n",
    "\n"
   ]
  },
  {
   "cell_type": "code",
   "execution_count": null,
   "id": "ee052433",
   "metadata": {},
   "outputs": [],
   "source": [
    "growth_modifier = chaste.cell_based.SimpleTargetAreaModifier[2]()\n",
    "simulator.AddSimulationModifier(growth_modifier)"
   ]
  },
  {
   "cell_type": "markdown",
   "id": "79abad40",
   "metadata": {},
   "source": [
    "We now create one or more CellPopulationBoundaryConditions, which determine any conditions which each cell in a cell population must satisfy.\n",
    "For this test, we use a PlaneBoundaryCondition, and pass it to the OffLatticeSimulation. For a list of possible boundary condition\n",
    "see subclasses of AbstractCellPopulationBoundaryCondition.\n",
    "Note that some of these boundary conditions are not compatible with vertex-based simulations see the specific class documentation\n",
    "for details, if you try to use an incompatible class then you will receive a warning.\n",
    "The first step is to define a point on the plane boundary and a normal to the plane.\n",
    "\n"
   ]
  },
  {
   "cell_type": "code",
   "execution_count": null,
   "id": "5a3b91fa",
   "metadata": {},
   "outputs": [],
   "source": [
    "point = np.array([0.0, 0.0])\n",
    "normal = np.array([0.0, -1.0])"
   ]
  },
  {
   "cell_type": "markdown",
   "id": "246f4c32",
   "metadata": {},
   "source": [
    "We can now make a PlaneBoundaryCondition (passing the point and normal to the plane) and pass it to the OffLatticeSimulation.\n",
    "bc = chaste.cell_based.PlaneBoundaryCondition[2, 2](cell_population, point, normal)\n"
   ]
  },
  {
   "cell_type": "code",
   "execution_count": null,
   "id": "d852aea0",
   "metadata": {},
   "outputs": [],
   "source": [
    "simulator.AddCellPopulationBoundaryCondition(bc)"
   ]
  },
  {
   "cell_type": "markdown",
   "id": "a99f61e3",
   "metadata": {},
   "source": [
    "We now create one or more CellKillers, which determine how cells are removed from the simulation.\n",
    "For this test, we use a PlaneBasedCellKiller, and pass it to the OffLatticeSimulation.\n",
    "For a list of possible cell killers see subclasses of AbstractCellKiller.\n",
    "The first step is to define a point on the plane boundary and a normal to the plane.\n",
    "\n"
   ]
  },
  {
   "cell_type": "code",
   "execution_count": null,
   "id": "b32ef09f",
   "metadata": {},
   "outputs": [],
   "source": [
    "point = np.array([0.0, 3.0])\n",
    "normal = np.array([0.0, 1.0])"
   ]
  },
  {
   "cell_type": "markdown",
   "id": "facd8cdd",
   "metadata": {},
   "source": [
    "Finally we now make a PlaneBasedCellKiller (passing the point and normal to the plane) and pass it to the OffLatticeSimulation.\n",
    "killer = chaste.cell_based.PlaneBasedCellKiller[2](cell_population, point, normal)\n"
   ]
  },
  {
   "cell_type": "code",
   "execution_count": null,
   "id": "86433585",
   "metadata": {},
   "outputs": [],
   "source": [
    "simulator.AddCellKiller(killer)"
   ]
  },
  {
   "cell_type": "markdown",
   "id": "c336ee17",
   "metadata": {},
   "source": [
    "To run the simulation, we call `Solve()`.\n",
    "simulator.Solve()\n",
    "\n",
    "The next two lines are for test purposes only and are not part of this tutorial.\n",
    "If different simulation input parameters are being explored the lines should be removed.\n",
    "\n"
   ]
  },
  {
   "cell_type": "code",
   "execution_count": null,
   "id": "5a8921df",
   "metadata": {},
   "outputs": [],
   "source": [
    "    chaste.cell_based.SimulationTime.Instance().GetTime(), 1.0, 6\n",
    ")\n",
    "chaste.cell_based.TearDownNotebookTest() # Tear down the test"
   ]
  }
 ],
 "metadata": {},
 "nbformat": 4,
 "nbformat_minor": 5
}
