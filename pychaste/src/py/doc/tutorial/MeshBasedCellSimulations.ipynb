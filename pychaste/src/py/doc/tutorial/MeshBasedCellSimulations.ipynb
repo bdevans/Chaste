{
 "cells": [
  {
   "cell_type": "markdown",
   "id": "eb8878d5",
   "metadata": {},
   "source": [
    "This tutorial is automatically generated from [TestPyMeshBasedCellSimulationsTutorial.py](https://github.com/Chaste/Chaste/blob/develop/pychaste/test/tutorial/TestPyMeshBasedCellSimulationsTutorial.py) at revision [5494648e74e5](https://github.com/Chaste/Chaste/commit/5494648e74e52d7e7ae7730fdde6a6eae46829cf)."
   ]
  },
  {
   "cell_type": "markdown",
   "id": "f92801cc",
   "metadata": {},
   "source": [
    "\n",
    "## Introduction\n",
    "In this tutorial we show how Chaste can be used to create, run and visualize mesh-based simulations.\n",
    "Full details of the mathematical model can be found in van Leeuwen et al. (2009) [doi:10.1111/j.1365-2184.2009.00627.x].\n",
    "\n",
    "## The Test\n",
    "\n"
   ]
  },
  {
   "cell_type": "code",
   "execution_count": null,
   "id": "69563b31",
   "metadata": {},
   "outputs": [],
   "source": [
    "import matplotlib.pyplot as plt  # Plotting\n",
    "import numpy as np  # Matrix tools\n",
    "import chaste  # The PyChaste module\n",
    "import chaste.cell_based  # Contains cell populations\n",
    "import chaste.mesh  # Contains meshes\n",
    "import chaste.visualization  # Visualization tools\n",
    "from chaste.cell_based import AbstractCellBasedTestSuite\n",
    "# Set up MPI"
   ]
  },
  {
   "cell_type": "markdown",
   "id": "1d8e55ca",
   "metadata": {},
   "source": [
    "### Test 1 - a basic mesh-based simulation\n",
    "In the first test, we run a simple mesh-based simulation,\n",
    "in which we create a monolayer of cells, using a mutable mesh. Each cell is assigned a stochastic cell-cycle model.\n",
    "\n"
   ]
  },
  {
   "cell_type": "code",
   "execution_count": null,
   "id": "d53d5264",
   "metadata": {},
   "outputs": [],
   "source": [
    "chaste.cell_based.SetupNotebookTest() # Set up the test"
   ]
  },
  {
   "cell_type": "markdown",
   "id": "8cd12c0e",
   "metadata": {},
   "source": [
    "Next, we generate a mutable mesh. To create a `MutableMesh`, we can use the `HoneycombMeshGenerator`.\n",
    "This generates a honeycomb-shaped mesh, in which all nodes are equidistant. Here the first and second arguments define the size of the mesh -\n",
    "we have chosen a mesh that is 4 nodes (i.e. cells) wide, and 4 nodes high.\n",
    "\n"
   ]
  },
  {
   "cell_type": "code",
   "execution_count": null,
   "id": "4cf1da97",
   "metadata": {},
   "outputs": [],
   "source": [
    "chaste.core.OutputFileHandler(\"Python/TestMeshBasedCellSimulationsTutorial\")\n",
    "generator = chaste.mesh.HoneycombMeshGenerator(4, 4)\n",
    "mesh = generator.GetMesh()"
   ]
  },
  {
   "cell_type": "markdown",
   "id": "a6fa54fb",
   "metadata": {},
   "source": [
    "Having created a mesh, we now create some cells. To do this, we use the `CellsGenerator` helper class,\n",
    "which is specialized by the type of cell cycle model required (here `UniformCellCycleModel`) and the dimension.\n",
    "For a list of possible cell cycle models see subclasses of `AbstractCellCycleModel`.\n",
    "Note that some of these models will require information on the surrounding medium such as Oxygen concentration to work,\n",
    "see specific class documentation for details. We create an empty vector of cells and pass this into the method along with the mesh.\n",
    "The second argument represents the size of that the list of cells should become - one cell for each node,\n",
    "the third argument specifies the proliferative type of the cell.\n",
    "\n"
   ]
  },
  {
   "cell_type": "code",
   "execution_count": null,
   "id": "3c5d5cd3",
   "metadata": {},
   "outputs": [],
   "source": [
    "transit_type = chaste.cell_based.TransitCellProliferativeType()\n",
    "cell_generator = chaste.cell_based.CellsGenerator_UniformCellCycleModel_2()\n",
    "cells = cell_generator.GenerateBasicRandom(mesh.GetNumNodes(), transit_type)"
   ]
  },
  {
   "cell_type": "markdown",
   "id": "1ba22b04",
   "metadata": {},
   "source": [
    "Now we have a mesh and a set of cells to go with it, we can create a `CellPopulation`.\n",
    "In general, this class associates a collection of cells with a mesh. For this test, because we have a `MutableMesh`,\n",
    "we use a particular type of cell population called a `MeshBasedCellPopulation`.\n",
    "\n"
   ]
  },
  {
   "cell_type": "code",
   "execution_count": null,
   "id": "1e4a18df",
   "metadata": {},
   "outputs": [],
   "source": [
    "cell_population = chaste.cell_based.MeshBasedCellPopulation_2_2(mesh, cells)"
   ]
  },
  {
   "cell_type": "markdown",
   "id": "4283e3fe",
   "metadata": {},
   "source": [
    "To view the results of this and the next test in Paraview it is necessary to explicitly\n",
    "generate the required .vtu files.\n",
    "\n"
   ]
  },
  {
   "cell_type": "code",
   "execution_count": null,
   "id": "a633132d",
   "metadata": {},
   "outputs": [],
   "source": [
    "cell_population.AddPopulationWriterVoronoiDataWriter()"
   ]
  },
  {
   "cell_type": "markdown",
   "id": "5bd03b56",
   "metadata": {},
   "source": [
    "We can set up a `VtkScene` to do a quick visualization of the population before running the analysis.\n",
    "\n"
   ]
  },
  {
   "cell_type": "code",
   "execution_count": null,
   "id": "e8df4be8",
   "metadata": {},
   "outputs": [],
   "source": [
    "scene = chaste.visualization.VtkScene_2()\n",
    "scene.SetCellPopulation(cell_population)\n",
    "nb_manager = chaste.visualization.JupyterNotebookManager()\n",
    "nb_manager.vtk_show(scene, height=600)"
   ]
  },
  {
   "cell_type": "markdown",
   "id": "88fd1204",
   "metadata": {},
   "source": [
    "We then pass in the cell population into an `OffLatticeSimulation`, and set the output directory and end time.\n",
    "\n"
   ]
  },
  {
   "cell_type": "code",
   "execution_count": null,
   "id": "d2337045",
   "metadata": {},
   "outputs": [],
   "source": [
    "simulator = chaste.cell_based.OffLatticeSimulation_2_2(cell_population)\n",
    "simulator.SetOutputDirectory(\"Python/TestMeshBasedCellSimulationsTutorial\")\n",
    "simulator.SetEndTime(10.0)"
   ]
  },
  {
   "cell_type": "markdown",
   "id": "516eda3d",
   "metadata": {},
   "source": [
    "For longer simulations, we may not want to output the results every time step. In this case we can use the following method,\n",
    "to print results every 12 time steps instead. As the default time step used by the simulator is 30 seconds,\n",
    "this method will cause the simulator to print results every 6 minutes (or 0.1 hours).\n",
    "\n"
   ]
  },
  {
   "cell_type": "code",
   "execution_count": null,
   "id": "e5ce0da4",
   "metadata": {},
   "outputs": [],
   "source": [
    "simulator.SetSamplingTimestepMultiple(12)"
   ]
  },
  {
   "cell_type": "markdown",
   "id": "ea797cdb",
   "metadata": {},
   "source": [
    "We must now create one or more force laws, which determine the mechanics of the centres of each cell in a cell population.\n",
    "For this test, we use one force law, based on the spring based model, and pass it to the `OffLatticeSimulation`.\n",
    "For a list of possible forces see subclasses of `AbstractForce`. Note that some of these forces are not compatible with mesh-based simulations,\n",
    "see the specific class documentation for details. If you try to use an incompatible class then you will receive a warning.\n",
    "\n"
   ]
  },
  {
   "cell_type": "code",
   "execution_count": null,
   "id": "f4f669ab",
   "metadata": {},
   "outputs": [],
   "source": [
    "force = chaste.cell_based.GeneralisedLinearSpringForce_2_2()\n",
    "simulator.AddForce(force)"
   ]
  },
  {
   "cell_type": "markdown",
   "id": "9d47987e",
   "metadata": {},
   "source": [
    "Save snapshot images of the population during the simulation\n",
    "\n"
   ]
  },
  {
   "cell_type": "code",
   "execution_count": null,
   "id": "8c5c448d",
   "metadata": {},
   "outputs": [],
   "source": [
    "scene_modifier = chaste.visualization.JupyterSceneModifier_2(nb_manager)\n",
    "scene_modifier.SetVtkScene(scene)\n",
    "scene_modifier.SetUpdateFrequency(100)\n",
    "simulator.AddSimulationModifier(scene_modifier)"
   ]
  },
  {
   "cell_type": "markdown",
   "id": "1eefb41b",
   "metadata": {},
   "source": [
    "To run the simulation, we call `Solve()`. We can again do a quick rendering of the population at the end of the simulation\n",
    "\n"
   ]
  },
  {
   "cell_type": "code",
   "execution_count": null,
   "id": "da722314",
   "metadata": {},
   "outputs": [],
   "source": [
    "scene.Start()\n",
    "simulator.Solve()\n",
    "scene.End()\n",
    "chaste.cell_based.TearDownNotebookTest() # Tear down the test"
   ]
  },
  {
   "cell_type": "markdown",
   "id": "e045c43c",
   "metadata": {},
   "source": [
    "Full results can be visualized in Paraview from the `file_handler.GetOutputDirectoryFullPath()` directory.\n",
    "\n",
    "### Test 2 -  a basic mesh-based simulation with ghost nodes\n",
    "In the second test, we run a simple mesh-based simulation with ghost nodes, in which we create a monolayer of cells, using a mutable mesh.\n",
    "Each cell is assigned a stochastic cell-cycle model.\n",
    "\n"
   ]
  },
  {
   "cell_type": "code",
   "execution_count": null,
   "id": "23e6bcc0",
   "metadata": {},
   "outputs": [],
   "source": [
    "chaste.cell_based.SetupNotebookTest() # Set up the test"
   ]
  },
  {
   "cell_type": "markdown",
   "id": "593527c4",
   "metadata": {},
   "source": [
    "We start by generating a mutable mesh. To create a `MutableMesh`, we can use the `HoneycombMeshGenerator` as before.\n",
    "Here the first and second arguments define the size of the mesh - we have chosen a mesh that is 2 nodes (i.e. cells) wide,\n",
    "and 2 nodes high. The third argument specifies the number of layers of ghost nodes to make.\n",
    "\n"
   ]
  },
  {
   "cell_type": "code",
   "execution_count": null,
   "id": "cb782b30",
   "metadata": {},
   "outputs": [],
   "source": [
    "chaste.core.OutputFileHandler(\n",
    "    \"Python/TestMeshBasedCellPopulationWithGhostNodes\"\n",
    ")\n",
    "generator = chaste.mesh.HoneycombMeshGenerator(5, 5, 2)\n",
    "mesh = generator.GetMesh()"
   ]
  },
  {
   "cell_type": "markdown",
   "id": "c1af397b",
   "metadata": {},
   "source": [
    "We only want to create cells to attach to real nodes, so we use the method `GetCellLocationIndices` to get the\n",
    "indices of the real nodes in the mesh. This will be passed in to the cell population later on.\n",
    "\n"
   ]
  },
  {
   "cell_type": "code",
   "execution_count": null,
   "id": "da0cb519",
   "metadata": {},
   "outputs": [],
   "source": [
    "locs = generator.GetCellLocationIndices()"
   ]
  },
  {
   "cell_type": "markdown",
   "id": "51193abc",
   "metadata": {},
   "source": [
    "Having created a mesh, we now create some cells. To do this, we use the `CellsGenerator` helper class again.\n",
    "This time the second argument is different and is the number of real nodes in the mesh.\n",
    "As before all cells have `TransitCellProliferativeType`.\n",
    "\n"
   ]
  },
  {
   "cell_type": "code",
   "execution_count": null,
   "id": "596b31bb",
   "metadata": {},
   "outputs": [],
   "source": [
    "transit_type = chaste.cell_based.TransitCellProliferativeType()\n",
    "cell_generator = chaste.cell_based.CellsGenerator_UniformCellCycleModel_2()\n",
    "cells = cell_generator.GenerateBasicRandom(len(locs), transit_type)"
   ]
  },
  {
   "cell_type": "markdown",
   "id": "8090911f",
   "metadata": {},
   "source": [
    "Now we have a mesh and a set of cells to go with it, we can create a `CellPopulation`.\n",
    "In general, this class associates a collection of cells with a set of elements or a mesh.\n",
    "For this test, because we have a `MutableMesh`, and ghost nodes we use a particular type of cell population called\n",
    "a `MeshBasedCellPopulationWithGhostNodes`. The third argument of the constructor takes a vector of the indices of the real nodes\n",
    "and should be the same length as the vector of cell pointers.\n",
    "\n"
   ]
  },
  {
   "cell_type": "code",
   "execution_count": null,
   "id": "c5440b03",
   "metadata": {},
   "outputs": [],
   "source": [
    "cell_population = chaste.cell_based.MeshBasedCellPopulationWithGhostNodes_2(\n",
    "    mesh, cells, locs\n",
    ")"
   ]
  },
  {
   "cell_type": "markdown",
   "id": "49b40614",
   "metadata": {},
   "source": [
    "Again Paraview output is explicitly requested.\n",
    "\n"
   ]
  },
  {
   "cell_type": "code",
   "execution_count": null,
   "id": "98218352",
   "metadata": {},
   "outputs": [],
   "source": [
    "cell_population.AddPopulationWriterVoronoiDataWriter()"
   ]
  },
  {
   "cell_type": "markdown",
   "id": "17ced0ca",
   "metadata": {},
   "source": [
    "We can set up a `VtkScene` to do a quick visualization of the population before running the analysis.\n",
    "\n"
   ]
  },
  {
   "cell_type": "code",
   "execution_count": null,
   "id": "d1402647",
   "metadata": {},
   "outputs": [],
   "source": [
    "scene = chaste.visualization.VtkScene_2()\n",
    "scene.SetCellPopulation(cell_population)\n",
    "scene.GetCellPopulationActorGenerator().SetShowVoronoiMeshEdges(True)\n",
    "nb_manager.vtk_show(scene, height=600)"
   ]
  },
  {
   "cell_type": "markdown",
   "id": "6aad0e82",
   "metadata": {},
   "source": [
    "We then pass in the cell population into an `OffLatticeSimulation`, and set the output directory, output multiple and end time.\n",
    "\n"
   ]
  },
  {
   "cell_type": "code",
   "execution_count": null,
   "id": "27857969",
   "metadata": {},
   "outputs": [],
   "source": [
    "simulator = chaste.cell_based.OffLatticeSimulation_2_2(cell_population)\n",
    "simulator.SetOutputDirectory(\"Python/TestMeshBasedCellPopulationWithGhostNodes\")\n",
    "simulator.SetEndTime(10.0)\n",
    "simulator.SetSamplingTimestepMultiple(12)"
   ]
  },
  {
   "cell_type": "markdown",
   "id": "19ceacb0",
   "metadata": {},
   "source": [
    "Save snapshot images of the population during the simulation\n",
    "\n"
   ]
  },
  {
   "cell_type": "code",
   "execution_count": null,
   "id": "bc9a3b06",
   "metadata": {},
   "outputs": [],
   "source": [
    "scene_modifier = chaste.visualization.JupyterSceneModifier_2(nb_manager)\n",
    "scene_modifier.SetVtkScene(scene)\n",
    "scene_modifier.SetUpdateFrequency(300)\n",
    "simulator.AddSimulationModifier(scene_modifier)"
   ]
  },
  {
   "cell_type": "markdown",
   "id": "41c18e86",
   "metadata": {},
   "source": [
    "Again we create a force law, and pass it to the `OffLatticeSimulation`.\n",
    "This force law ensures that ghost nodes don't exert forces on real nodes but real nodes exert forces on ghost nodes.\n",
    "\n"
   ]
  },
  {
   "cell_type": "code",
   "execution_count": null,
   "id": "e784d2b1",
   "metadata": {},
   "outputs": [],
   "source": [
    "force = chaste.cell_based.GeneralisedLinearSpringForce_2_2()\n",
    "simulator.AddForce(force)"
   ]
  },
  {
   "cell_type": "markdown",
   "id": "0fb96103",
   "metadata": {},
   "source": [
    "To run the simulation, we call `Solve()`.\n",
    "\n"
   ]
  },
  {
   "cell_type": "code",
   "execution_count": null,
   "id": "c7241a79",
   "metadata": {},
   "outputs": [],
   "source": [
    "scene.Start()\n",
    "simulator.Solve()"
   ]
  },
  {
   "cell_type": "markdown",
   "id": "657b912a",
   "metadata": {},
   "source": [
    "The next two lines are for test purposes only and are not part of this tutorial.\n",
    "If different simulation input parameters are being explored the lines should be removed.\n",
    "\n"
   ]
  },
  {
   "cell_type": "code",
   "execution_count": null,
   "id": "85937c73",
   "metadata": {},
   "outputs": [],
   "source": [
    "    chaste.cell_based.SimulationTime.Instance().GetTime(), 10.0, 6\n",
    ")\n",
    "chaste.cell_based.TearDownNotebookTest() # Tear down the test"
   ]
  },
  {
   "cell_type": "markdown",
   "id": "046f7012",
   "metadata": {},
   "source": [
    "Full results can be visualized in Paraview from the `file_handler.GetOutputDirectoryFullPath()` directory.\n",
    "\n"
   ]
  }
 ],
 "metadata": {},
 "nbformat": 4,
 "nbformat_minor": 5
}
