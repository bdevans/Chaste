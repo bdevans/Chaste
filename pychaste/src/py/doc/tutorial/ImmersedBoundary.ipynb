{
 "cells": [
  {
   "cell_type": "markdown",
   "id": "5c130344",
   "metadata": {},
   "source": [
    "This tutorial is automatically generated from [TestPyImmersedBoundaryTutorial.py](https://github.com/Chaste/Chaste/blob/develop/pychaste/test/tutorial/TestPyImmersedBoundaryTutorial.py) at revision [2cd31145369b](https://github.com/Chaste/Chaste/commit/2cd31145369b99ac6f9bd17ad1c916ec7de20b28)."
   ]
  },
  {
   "cell_type": "markdown",
   "id": "dbc4d6da",
   "metadata": {},
   "source": [
    "\n",
    "## Introduction\n",
    "This tutorial is a demonstration of the immersed boundary method, a technique\n",
    "for simulating fluid-structure interactions. We can use the immersed boundary\n",
    "method to simulate a cell as a structure with its outer **boundary immersed**\n",
    "in a fluid. There is a two-way coupling between the fluid and the structure:\n",
    "the flow of the fluid exerts a force on the structure, and the structure\n",
    "influences the flow of the fluid.\n",
    "\n",
    "In this tutorial, we demonstrate:\n",
    "1. Building single-cell immersed boundary capable simulations.\n",
    "2. Building multi-cellular immersed boundary simulations.\n",
    "3. Adding and manipulating immersed boundary fluid sources.\n",
    "\n",
    "## Imports\n",
    "\n"
   ]
  },
  {
   "cell_type": "code",
   "execution_count": null,
   "id": "4036cb7f",
   "metadata": {},
   "outputs": [],
   "source": [
    "import chaste\n",
    "from chaste.cell_based import (\n",
    "AbstractCellBasedTestSuite,\n",
    "CellsGenerator_UniformCellCycleModel_2,\n",
    "DifferentiatedCellProliferativeType,\n",
    "ForwardEulerNumericalMethod_2_2,\n",
    "ImmersedBoundaryCellPopulation_2,\n",
    "ImmersedBoundaryLinearInteractionForce_2,\n",
    "ImmersedBoundaryLinearMembraneForce_2,\n",
    "ImmersedBoundarySimulationModifier_2,\n",
    "OffLatticeSimulation_2_2,\n",
    "SetupNotebookTest,\n",
    "SimulationTime,\n",
    "TearDownNotebookTest,\n",
    ")\n",
    "from chaste.mesh import FluidSource_2, ImmersedBoundaryPalisadeMeshGenerator\n",
    "from chaste.visualization import (\n",
    "JupyterNotebookManager,\n",
    "JupyterSceneModifier_2,\n",
    "VtkScene_2,\n",
    ")\n",
    "# setup MPI"
   ]
  },
  {
   "cell_type": "markdown",
   "id": "bf08b0be",
   "metadata": {},
   "source": [
    "### 1. Simple Immersed Boundary Simulations\n",
    "We begin by exploring simulations containing a single cell. This will\n",
    "familiarise you with how to generate immersed boundary cells, the steps\n",
    "involved in setting up an immersed boundary simulation, and the options\n",
    "available for controlling how the cells are generated and behave.\n",
    "\n",
    "Immersed boundary simulations operate over a square domain, with `x` and `y`\n",
    "coordinates lying in the range `0` to `1`. The domain wraps on both axes -\n",
    "this means that if a cell moves off the right hand edge of the domain,\n",
    "the segment will appear on the left hand side. This is not purely visual;\n",
    "forces are also transmitted across these boundaries.\n",
    "\n",
    " **Tip** Make sure all your coordinates are between `0` and `1`.\n",
    "\n"
   ]
  },
  {
   "cell_type": "markdown",
   "id": "d093a773",
   "metadata": {},
   "source": [
    "Setup the simulation environment in the notebook\n",
    "\n"
   ]
  },
  {
   "cell_type": "code",
   "execution_count": null,
   "id": "a4f5e684",
   "metadata": {},
   "outputs": [],
   "source": [
    "chaste.cell_based.SetupNotebookTest() # Set up the test"
   ]
  },
  {
   "cell_type": "markdown",
   "id": "f82229bc",
   "metadata": {},
   "source": [
    "Next, we define the necessary geometry by generating a mesh to\n",
    "contain a single cell.\n",
    "\n"
   ]
  },
  {
   "cell_type": "code",
   "execution_count": null,
   "id": "2c302e65",
   "metadata": {},
   "outputs": [],
   "source": [
    "gen = ImmersedBoundaryPalisadeMeshGenerator(1, 128, 0.1, 2.0, 0.0, False)\n",
    "mesh = gen.GetMesh()"
   ]
  },
  {
   "cell_type": "markdown",
   "id": "9f36bcc0",
   "metadata": {},
   "source": [
    "The first line of code defines an `ImmersedBoundaryPalisadeMeshGenerator`\n",
    "called `gen`. The 3rd parameter controls the exponent of the superellipse(`0.1`)\n",
    "and the 4th parameter controls the aspect ratio of the cell(`2.0`). You can\n",
    "experiment with modifying these to change the initial shape of the cell.\n",
    "\n",
    "The second line of code instructs the mesh generator to generate a mesh.\n",
    "Checking the type of mesh with `type(mesh)` will show it as\n",
    "`ImmersedBoundaryMesh_2_2`. The `2_2` suffix denotes that we are using\n",
    "a 2-dimensional space, and 2-dimensional elements to define the mesh.\n",
    "\n",
    "We now set the fluid grid resolution. The following code specifies\n",
    "that we are using a 64x64 grid to simulate our fluid over.\n",
    "\n"
   ]
  },
  {
   "cell_type": "code",
   "execution_count": null,
   "id": "23cf71ac",
   "metadata": {},
   "outputs": [],
   "source": [
    "mesh.SetNumGridPtsXAndY(64)"
   ]
  },
  {
   "cell_type": "markdown",
   "id": "c0588da9",
   "metadata": {},
   "source": [
    "Next, we generate the cells. We specify a cell type and cell cycle model.\n",
    "These can be changed to modify the life cycle of the cells. The\n",
    "cell generator then constructs the necessary information for each\n",
    "of the elements in the mesh.\n",
    "\n"
   ]
  },
  {
   "cell_type": "code",
   "execution_count": null,
   "id": "864a01d3",
   "metadata": {},
   "outputs": [],
   "source": [
    "cell_type = DifferentiatedCellProliferativeType()\n",
    "cell_generator = CellsGenerator_UniformCellCycleModel_2()\n",
    "cells = cell_generator.GenerateBasicRandom(mesh.GetNumElements(), cell_type)"
   ]
  },
  {
   "cell_type": "markdown",
   "id": "74c9db39",
   "metadata": {},
   "source": [
    "Finally, we construct the cell population. We then specify whether the\n",
    "population has active fluid sources or not. For now, we are not\n",
    "using any fluid sources, so we set this to `False`\n",
    "\n"
   ]
  },
  {
   "cell_type": "code",
   "execution_count": null,
   "id": "b3f52990",
   "metadata": {},
   "outputs": [],
   "source": [
    "cell_population = ImmersedBoundaryCellPopulation_2(mesh, cells)\n",
    "cell_population.SetIfPopulationHasActiveSources(False)"
   ]
  },
  {
   "cell_type": "markdown",
   "id": "387717d9",
   "metadata": {},
   "source": [
    "We can make a quick visualization of the cell population\n",
    "\n"
   ]
  },
  {
   "cell_type": "code",
   "execution_count": null,
   "id": "df5e200b",
   "metadata": {},
   "outputs": [],
   "source": [
    "scene = VtkScene_2()\n",
    "scene.SetCellPopulation(cell_population)\n",
    "nb_manager = JupyterNotebookManager()\n",
    "nb_manager.vtk_show(scene, height=300)"
   ]
  },
  {
   "cell_type": "markdown",
   "id": "66c376f6",
   "metadata": {},
   "source": [
    "Next, we create an `OffLatticeSimulation` simulator to control the\n",
    "simulation. Although the fluid is simulated on a lattice (grid),\n",
    "the nodes/cells are not bound to a lattice.\n",
    "\n"
   ]
  },
  {
   "cell_type": "code",
   "execution_count": null,
   "id": "36361eb1",
   "metadata": {},
   "outputs": [],
   "source": [
    "simulator = OffLatticeSimulation_2_2(cell_population)\n",
    "simulator.SetNumericalMethod(ForwardEulerNumericalMethod_2_2())\n",
    "simulator.GetNumericalMethod().SetUseUpdateNodeLocation(True)"
   ]
  },
  {
   "cell_type": "markdown",
   "id": "c9a0c1fd",
   "metadata": {},
   "source": [
    "As we have an off-lattice simulation, we need a way to model the\n",
    "fluid. This is handled by the `ImmersedBoundarySimulationModifier`.\n",
    "Modifiers in Chaste are classes that can be attached to simulations\n",
    "to perform some additional custom functionality each timestep.\n",
    "In this case, the modifier is responsible for solving the\n",
    "Navier-Stokes equations and propagating forces between the nodes and\n",
    "the fluid.\n",
    "\n"
   ]
  },
  {
   "cell_type": "code",
   "execution_count": null,
   "id": "f1b930a0",
   "metadata": {},
   "outputs": [],
   "source": [
    "ib_modifier = ImmersedBoundarySimulationModifier_2()\n",
    "simulator.AddSimulationModifier(ib_modifier)"
   ]
  },
  {
   "cell_type": "markdown",
   "id": "d33bc32d",
   "metadata": {},
   "source": [
    "We must also provide the modifier with a force model to govern\n",
    "interactions between the nodes forming the cell membrane.\n",
    "Note that these forces only act between nodes in the same cell;\n",
    "they do not control interactions between cells.\n",
    "\n"
   ]
  },
  {
   "cell_type": "code",
   "execution_count": null,
   "id": "012cc593",
   "metadata": {},
   "outputs": [],
   "source": [
    "membrane_force = ImmersedBoundaryLinearMembraneForce_2()\n",
    "membrane_force.SetElementSpringConst(1.0 * 1e7)\n",
    "ib_modifier.AddImmersedBoundaryForce(membrane_force)"
   ]
  },
  {
   "cell_type": "markdown",
   "id": "f15d580d",
   "metadata": {},
   "source": [
    "The `ImmersedBoundaryLinearMembraneForce` models forces between\n",
    "membrane nodes using linear springs i.e, the force applied is\n",
    "proportional to the deviation of the distance between nodes\n",
    "from a rest length. The spring constant(`1.0 * 1e7`) defines how\n",
    "stiff the cell boundary is.\n",
    "\n",
    " **Practice** Experiment with adjusting the spring constant to\n",
    " change the force behaviour between nodes of the cell boundary.\n",
    " \n",
    "Next, we set the simulation properties\n",
    "\n"
   ]
  },
  {
   "cell_type": "code",
   "execution_count": null,
   "id": "5f2cc345",
   "metadata": {},
   "outputs": [],
   "source": [
    "dt = 0.05\n",
    "simulator.SetOutputDirectory(\"Python/TestImmersedBoundary_1\")\n",
    "simulator.SetDt(dt)\n",
    "simulator.SetSamplingTimestepMultiple(4)\n",
    "simulator.SetEndTime(1000 * dt)"
   ]
  },
  {
   "cell_type": "markdown",
   "id": "fc4cab8a",
   "metadata": {},
   "source": [
    "We can add a modifier to visualize the cell population while the\n",
    "simulation is in progress\n",
    "\n"
   ]
  },
  {
   "cell_type": "code",
   "execution_count": null,
   "id": "05c28737",
   "metadata": {},
   "outputs": [],
   "source": [
    "scene_modifier = JupyterSceneModifier_2(nb_manager)\n",
    "scene_modifier.SetVtkScene(scene)\n",
    "scene_modifier.SetUpdateFrequency(1000)\n",
    "simulator.AddSimulationModifier(scene_modifier)"
   ]
  },
  {
   "cell_type": "markdown",
   "id": "72a707a7",
   "metadata": {},
   "source": [
    "Finally, to run the simulation we call the `Solve()` method.\n",
    "\n"
   ]
  },
  {
   "cell_type": "code",
   "execution_count": null,
   "id": "a9074f84",
   "metadata": {},
   "outputs": [],
   "source": [
    "simulator.Solve()"
   ]
  },
  {
   "cell_type": "markdown",
   "id": "79720188",
   "metadata": {},
   "source": [
    "Reset the simulation environment in the notebook\n",
    "\n"
   ]
  },
  {
   "cell_type": "code",
   "execution_count": null,
   "id": "9179793a",
   "metadata": {},
   "outputs": [],
   "source": [
    "chaste.cell_based.TearDownNotebookTest() # Tear down the test"
   ]
  },
  {
   "cell_type": "markdown",
   "id": "49eb7975",
   "metadata": {},
   "source": [
    "### 2. Adding More Cells\n",
    "\n"
   ]
  },
  {
   "cell_type": "markdown",
   "id": "2631b9cf",
   "metadata": {},
   "source": [
    "#### Multiple Cells\n",
    "\n",
    "Setup the simulation environment in the notebook\n",
    "\n"
   ]
  },
  {
   "cell_type": "code",
   "execution_count": null,
   "id": "b7c9ecbc",
   "metadata": {},
   "outputs": [],
   "source": [
    "chaste.cell_based.SetupNotebookTest() # Set up the test"
   ]
  },
  {
   "cell_type": "markdown",
   "id": "3bb3a6c5",
   "metadata": {},
   "source": [
    "We can use the mesh generator to generate multiple cells. The first\n",
    "parameter of the mesh generator constructor controls the number of\n",
    "cells.\n",
    "\n",
    " **Practice** Try increasing the number of cells by adjusting the\n",
    " parameter value. A sensible range for this tutorial is 4-10 cells.\n",
    "\n"
   ]
  },
  {
   "cell_type": "code",
   "execution_count": null,
   "id": "af4fc20b",
   "metadata": {},
   "outputs": [],
   "source": [
    "gen = ImmersedBoundaryPalisadeMeshGenerator(5, 128, 0.1, 2.0, 0.0, False)"
   ]
  },
  {
   "cell_type": "markdown",
   "id": "6d6c6b5e",
   "metadata": {},
   "source": [
    "#### Laminas\n",
    "In addition to the cells we have seen so far, we can introduce\n",
    "laminas to the simulation. Laminas are surfaces with reduced\n",
    "dimensionality. For 3D elements, a lamina is a 2D surface. For the\n",
    "2D elements we are currently working with, laminas are lines.\n",
    "Changing the last parameter of the mesh generator constructor from `False`\n",
    "to `True` will generate a basal lamina spanning the palisade cells.\n",
    "Laminas can also interact with the fluid field, and can be made\n",
    "\"leaky\" to allow some flow across their boundary. This can be used\n",
    "to model a permeable boundary.\n",
    "\n",
    " **Practice** Try changing the 6th constructor parameter to create a lamina.\n",
    " \n",
    "#### Cell Variations\n",
    "Apart from using the 3rd and 4th constructor parameters to modify\n",
    "the cell shapes, we can also introduce variation between cells by\n",
    "modifying the 5th parameter.\n",
    "\n",
    " **Practice** Try adjusting the 3rd and 4th constructor parameters to\n",
    " introduce cell variations.\n",
    " \n",
    "Next, we generate the mesh and set the fluid grid resolution\n",
    "\n"
   ]
  },
  {
   "cell_type": "code",
   "execution_count": null,
   "id": "9fb0ee47",
   "metadata": {},
   "outputs": [],
   "source": [
    "mesh = gen.GetMesh()\n",
    "mesh.SetNumGridPtsXAndY(64)"
   ]
  },
  {
   "cell_type": "markdown",
   "id": "83266856",
   "metadata": {},
   "source": [
    "Below, we generate the cells\n",
    "\n"
   ]
  },
  {
   "cell_type": "code",
   "execution_count": null,
   "id": "94c60eda",
   "metadata": {},
   "outputs": [],
   "source": [
    "cell_type = DifferentiatedCellProliferativeType()\n",
    "cell_generator = CellsGenerator_UniformCellCycleModel_2()\n",
    "cells = cell_generator.GenerateBasicRandom(mesh.GetNumElements(), cell_type)"
   ]
  },
  {
   "cell_type": "markdown",
   "id": "961087f2",
   "metadata": {},
   "source": [
    "Then we set up the cell population with no active fluid sources\n",
    "\n"
   ]
  },
  {
   "cell_type": "code",
   "execution_count": null,
   "id": "6051a552",
   "metadata": {},
   "outputs": [],
   "source": [
    "cell_population = ImmersedBoundaryCellPopulation_2(mesh, cells)\n",
    "cell_population.SetIfPopulationHasActiveSources(False)"
   ]
  },
  {
   "cell_type": "markdown",
   "id": "99b9dcd3",
   "metadata": {},
   "source": [
    "We can visualize the cell population below\n",
    "\n"
   ]
  },
  {
   "cell_type": "code",
   "execution_count": null,
   "id": "2a22e732",
   "metadata": {},
   "outputs": [],
   "source": [
    "scene = VtkScene_2()\n",
    "scene.SetCellPopulation(cell_population)\n",
    "nb_manager = JupyterNotebookManager()\n",
    "nb_manager.vtk_show(scene, height=300)"
   ]
  },
  {
   "cell_type": "markdown",
   "id": "05ac8e41",
   "metadata": {},
   "source": [
    "Now we create a simulator to manage the simulation\n",
    "\n"
   ]
  },
  {
   "cell_type": "code",
   "execution_count": null,
   "id": "021d708e",
   "metadata": {},
   "outputs": [],
   "source": [
    "simulator = OffLatticeSimulation_2_2(cell_population)\n",
    "simulator.SetNumericalMethod(ForwardEulerNumericalMethod_2_2())\n",
    "simulator.GetNumericalMethod().SetUseUpdateNodeLocation(True)"
   ]
  },
  {
   "cell_type": "markdown",
   "id": "80243c07",
   "metadata": {},
   "source": [
    "We add an immersed boundary simulation modifier to the simulator\n",
    "\n"
   ]
  },
  {
   "cell_type": "code",
   "execution_count": null,
   "id": "638e170c",
   "metadata": {},
   "outputs": [],
   "source": [
    "ib_modifier = ImmersedBoundarySimulationModifier_2()\n",
    "simulator.AddSimulationModifier(ib_modifier)"
   ]
  },
  {
   "cell_type": "markdown",
   "id": "c84b07a6",
   "metadata": {},
   "source": [
    "We then add a force law to the simulation modifier to model the\n",
    "behaviour of the cell membrane\n",
    "\n"
   ]
  },
  {
   "cell_type": "code",
   "execution_count": null,
   "id": "cc03702b",
   "metadata": {},
   "outputs": [],
   "source": [
    "membrane_force = ImmersedBoundaryLinearMembraneForce_2()\n",
    "membrane_force.SetElementSpringConst(1.0 * 1e7)\n",
    "ib_modifier.AddImmersedBoundaryForce(membrane_force)"
   ]
  },
  {
   "cell_type": "markdown",
   "id": "b3cd1566",
   "metadata": {},
   "source": [
    "#### Inter-cellular Interactions\n",
    "So far, we have encountered forces that act to maintain the shape\n",
    "of the cell membrane. We can also introduce an inter-cellular\n",
    "force law using `ImmersedBoundaryLinearInteractionForce`.\n",
    "This has a `SetSpringConst` method instead of a `SetElementSpringConst`\n",
    "method. It also has a `SetRestLength` method that we can use to\n",
    "modify the rest length.\n",
    "\n"
   ]
  },
  {
   "cell_type": "code",
   "execution_count": null,
   "id": "6566ede0",
   "metadata": {},
   "outputs": [],
   "source": [
    "interaction_force = ImmersedBoundaryLinearInteractionForce_2()\n",
    "interaction_force.SetSpringConst(1.0 * 1e6)\n",
    "ib_modifier.AddImmersedBoundaryForce(interaction_force)"
   ]
  },
  {
   "cell_type": "markdown",
   "id": "1ae1caa4",
   "metadata": {},
   "source": [
    "Next, we set the simulation properties\n",
    "\n"
   ]
  },
  {
   "cell_type": "code",
   "execution_count": null,
   "id": "b06fe1cb",
   "metadata": {},
   "outputs": [],
   "source": [
    "dt = 0.05\n",
    "simulator.SetOutputDirectory(\"Python/TestImmersedBoundary_2\")\n",
    "simulator.SetDt(dt)\n",
    "simulator.SetSamplingTimestepMultiple(4)\n",
    "simulator.SetEndTime(1000 * dt)"
   ]
  },
  {
   "cell_type": "markdown",
   "id": "8f6413a4",
   "metadata": {},
   "source": [
    "Finally, we run the simulation\n",
    "\n"
   ]
  },
  {
   "cell_type": "code",
   "execution_count": null,
   "id": "97864b03",
   "metadata": {},
   "outputs": [],
   "source": [
    "simulator.Solve()"
   ]
  },
  {
   "cell_type": "markdown",
   "id": "113cb9b6",
   "metadata": {},
   "source": [
    "We can visualize the end state of the cell population\n",
    "\n"
   ]
  },
  {
   "cell_type": "code",
   "execution_count": null,
   "id": "7108c2e5",
   "metadata": {},
   "outputs": [],
   "source": [
    "nb_manager.vtk_show(scene, height=300)"
   ]
  },
  {
   "cell_type": "markdown",
   "id": "6318466f",
   "metadata": {},
   "source": [
    "Reset the simulation environment in the notebook\n",
    "\n"
   ]
  },
  {
   "cell_type": "code",
   "execution_count": null,
   "id": "7c6be8ab",
   "metadata": {},
   "outputs": [],
   "source": [
    "chaste.cell_based.TearDownNotebookTest() # Tear down the test"
   ]
  },
  {
   "cell_type": "markdown",
   "id": "0c470516",
   "metadata": {},
   "source": [
    "### 3. Adding Fluid Sources\n",
    "Now that we are familiar with how to generate the cells, we will\n",
    "introduce fluid sources.\n",
    "\n"
   ]
  },
  {
   "cell_type": "markdown",
   "id": "9111ccbe",
   "metadata": {},
   "source": [
    "#### Adding a Fluid Source\n",
    "\n",
    "Setup the simulation environment in the notebook\n",
    "\n"
   ]
  },
  {
   "cell_type": "code",
   "execution_count": null,
   "id": "9816e493",
   "metadata": {},
   "outputs": [],
   "source": [
    "chaste.cell_based.SetupNotebookTest() # Set up the test"
   ]
  },
  {
   "cell_type": "markdown",
   "id": "f1d87eb6",
   "metadata": {},
   "source": [
    "We begin by constructing a fluid source object:\n",
    "\n"
   ]
  },
  {
   "cell_type": "code",
   "execution_count": null,
   "id": "30a37baf",
   "metadata": {},
   "outputs": [],
   "source": [
    "source = FluidSource_2(0, 0.5, 0.7)"
   ]
  },
  {
   "cell_type": "markdown",
   "id": "a683dd88",
   "metadata": {},
   "source": [
    "This constructs a `FluidSource` object in 2 dimensions. The first\n",
    "parameter supplies the index of the fluid source. Each source we\n",
    "create must have a unique index. The next two parameters are the\n",
    "`x` and `y` coordinates of the source. Fluid sources in Chaste are\n",
    "point-like, that is to say they do not have any area/volume.\n",
    "\n",
    "Having created the fluid source, we set its strength:\n",
    "\n"
   ]
  },
  {
   "cell_type": "code",
   "execution_count": null,
   "id": "c08ee76d",
   "metadata": {},
   "outputs": [],
   "source": [
    "source.SetStrength(0.012)"
   ]
  },
  {
   "cell_type": "markdown",
   "id": "3382bb86",
   "metadata": {},
   "source": [
    "Next, we create the mesh\n",
    "\n"
   ]
  },
  {
   "cell_type": "code",
   "execution_count": null,
   "id": "d95f8239",
   "metadata": {},
   "outputs": [],
   "source": [
    "gen = ImmersedBoundaryPalisadeMeshGenerator(5, 128, 0.1, 2.0, 0.0, False)\n",
    "mesh = gen.GetMesh()\n",
    "mesh.SetNumGridPtsXAndY(64)"
   ]
  },
  {
   "cell_type": "markdown",
   "id": "5e638061",
   "metadata": {},
   "source": [
    "We must associate the source with an element in the simulation\n",
    "so that the simulation is aware of the source.\n",
    "\n"
   ]
  },
  {
   "cell_type": "code",
   "execution_count": null,
   "id": "237fbd02",
   "metadata": {},
   "outputs": [],
   "source": [
    "mesh.GetElement(0).SetFluidSource(source)"
   ]
  },
  {
   "cell_type": "markdown",
   "id": "66528672",
   "metadata": {},
   "source": [
    "We now generate the cells\n",
    "\n"
   ]
  },
  {
   "cell_type": "code",
   "execution_count": null,
   "id": "a72fd70e",
   "metadata": {},
   "outputs": [],
   "source": [
    "cell_type = DifferentiatedCellProliferativeType()\n",
    "cell_generator = CellsGenerator_UniformCellCycleModel_2()\n",
    "cells = cell_generator.GenerateBasicRandom(mesh.GetNumElements(), cell_type)"
   ]
  },
  {
   "cell_type": "markdown",
   "id": "b06861d9",
   "metadata": {},
   "source": [
    "Then we set up the cell population\n",
    "\n"
   ]
  },
  {
   "cell_type": "code",
   "execution_count": null,
   "id": "aeeeac43",
   "metadata": {},
   "outputs": [],
   "source": [
    "cell_population = ImmersedBoundaryCellPopulation_2(mesh, cells)"
   ]
  },
  {
   "cell_type": "markdown",
   "id": "f2c9a40f",
   "metadata": {},
   "source": [
    "Finally, we must tell the cell population that fluid sources are present.\n",
    "\n"
   ]
  },
  {
   "cell_type": "code",
   "execution_count": null,
   "id": "ef49fe80",
   "metadata": {},
   "outputs": [],
   "source": [
    "cell_population.SetIfPopulationHasActiveSources(True)"
   ]
  },
  {
   "cell_type": "markdown",
   "id": "521e3274",
   "metadata": {},
   "source": [
    "#### Varying the Source Location and Strength\n",
    " **Practice** You can experiment with the source location. Try moving it\n",
    " closer to and further away from the cells.\n",
    " \n",
    " **Practice** Try modifying the source strength to see what impact this\n",
    " has on the cell shapes.\n",
    " \n",
    "Below, we visualize the cell population\n",
    "\n"
   ]
  },
  {
   "cell_type": "code",
   "execution_count": null,
   "id": "78c53a08",
   "metadata": {},
   "outputs": [],
   "source": [
    "scene = VtkScene_2()\n",
    "scene.SetCellPopulation(cell_population)\n",
    "nb_manager = JupyterNotebookManager()\n",
    "nb_manager.vtk_show(scene, height=300)"
   ]
  },
  {
   "cell_type": "markdown",
   "id": "f0519c97",
   "metadata": {},
   "source": [
    "Create a simulator to manage the simulation\n",
    "\n"
   ]
  },
  {
   "cell_type": "code",
   "execution_count": null,
   "id": "a2920bd0",
   "metadata": {},
   "outputs": [],
   "source": [
    "simulator = OffLatticeSimulation_2_2(cell_population)\n",
    "simulator.SetNumericalMethod(ForwardEulerNumericalMethod_2_2())\n",
    "simulator.GetNumericalMethod().SetUseUpdateNodeLocation(True)"
   ]
  },
  {
   "cell_type": "markdown",
   "id": "b4bc5a73",
   "metadata": {},
   "source": [
    "Add an immersed boundary simulation modifier\n",
    "\n"
   ]
  },
  {
   "cell_type": "code",
   "execution_count": null,
   "id": "19cce3eb",
   "metadata": {},
   "outputs": [],
   "source": [
    "ib_modifier = ImmersedBoundarySimulationModifier_2()\n",
    "simulator.AddSimulationModifier(ib_modifier)"
   ]
  },
  {
   "cell_type": "markdown",
   "id": "942434c0",
   "metadata": {},
   "source": [
    "#### Fluid-Cell Interaction\n",
    " **Practice** Try modifying the spring constant of the\n",
    " `ImmersedBoundaryLinearMembraneForce` to see how this changes the\n",
    " effect of the fluid source on the cells.\n",
    "\n"
   ]
  },
  {
   "cell_type": "code",
   "execution_count": null,
   "id": "2e213ecb",
   "metadata": {},
   "outputs": [],
   "source": [
    "membrane_force = ImmersedBoundaryLinearMembraneForce_2()\n",
    "membrane_force.SetElementSpringConst(1.0 * 1e7)\n",
    "ib_modifier.AddImmersedBoundaryForce(membrane_force)"
   ]
  },
  {
   "cell_type": "markdown",
   "id": "52ada8b2",
   "metadata": {},
   "source": [
    "Add an inter-cellular force law\n",
    "\n"
   ]
  },
  {
   "cell_type": "code",
   "execution_count": null,
   "id": "6b1a1648",
   "metadata": {},
   "outputs": [],
   "source": [
    "interaction_force = ImmersedBoundaryLinearInteractionForce_2()\n",
    "interaction_force.SetSpringConst(1.0 * 1e6)\n",
    "ib_modifier.AddImmersedBoundaryForce(interaction_force)"
   ]
  },
  {
   "cell_type": "markdown",
   "id": "f38864f7",
   "metadata": {},
   "source": [
    "#### Adding More Sources\n",
    " **Practice** Try adding a second fluid source. You will need to\n",
    " use a unique index, and attach it to a different element as\n",
    " each element can only manage a single fluid source.\n",
    " \n",
    "Next, we set the simulation properties\n",
    "\n"
   ]
  },
  {
   "cell_type": "code",
   "execution_count": null,
   "id": "584fb8c1",
   "metadata": {},
   "outputs": [],
   "source": [
    "dt = 0.05\n",
    "simulator.SetOutputDirectory(\"Python/TestImmersedBoundary_3\")\n",
    "simulator.SetDt(dt)\n",
    "simulator.SetSamplingTimestepMultiple(4)\n",
    "simulator.SetEndTime(300 * dt)"
   ]
  },
  {
   "cell_type": "markdown",
   "id": "61564b1f",
   "metadata": {},
   "source": [
    "Finally, we run the simulation\n",
    "\n"
   ]
  },
  {
   "cell_type": "code",
   "execution_count": null,
   "id": "81bf1c7f",
   "metadata": {},
   "outputs": [],
   "source": [
    "simulator.Solve()"
   ]
  },
  {
   "cell_type": "markdown",
   "id": "66ad0e5c",
   "metadata": {},
   "source": [
    "Then we visualize the end state\n",
    "\n"
   ]
  },
  {
   "cell_type": "code",
   "execution_count": null,
   "id": "fab9accb",
   "metadata": {},
   "outputs": [],
   "source": [
    "nb_manager.vtk_show(scene, height=300)"
   ]
  },
  {
   "cell_type": "markdown",
   "id": "b8500f12",
   "metadata": {},
   "source": [
    "Reset the simulation environment in the notebook\n",
    "JUPYTER_TEARDOWN\n",
    "\n",
    "#### Further Exercises\n",
    " * Try integrating a different cell cycle model to introduce cell\n",
    " division. See how the presence of a fluid source impacts the\n",
    " structure that is formed.\n",
    " * Use one of the cell writers to collect some statistics\n",
    "\n"
   ]
  }
 ],
 "metadata": {},
 "nbformat": 4,
 "nbformat_minor": 5
}
