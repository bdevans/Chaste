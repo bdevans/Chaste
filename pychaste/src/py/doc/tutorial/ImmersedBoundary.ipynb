{
 "cells": [
  {
   "cell_type": "markdown",
   "id": "e9154dfd",
   "metadata": {},
   "source": [
    "This tutorial is automatically generated from [TestPyImmersedBoundaryTutorial.py](https://github.com/Chaste/Chaste/blob/develop/pychaste/test/tutorial/TestPyImmersedBoundaryTutorial.py) at revision [4045f91a83f5](https://github.com/Chaste/Chaste/commit/4045f91a83f55dc4a97f2ca4f97b0c32f4e43a4a)."
   ]
  },
  {
   "cell_type": "markdown",
   "id": "afe6192f",
   "metadata": {},
   "source": [
    "\n",
    "## Introduction\n",
    "This tutorial is a demonstration of the immersed boundary method, a technique\n",
    "for simulating fluid-structure interactions. We can use the immersed boundary\n",
    "method to simulate a cell as a structure with its outer **boundary immersed**\n",
    "in a fluid. There is a two-way coupling between the fluid and the structure:\n",
    "the flow of the fluid exerts a force on the structure, and the structure\n",
    "influences the flow of the fluid.\n",
    "\n",
    "In this tutorial, we demonstrate:\n",
    "1. Building single-cell immersed boundary capable simulations.\n",
    "2. Building multi-cellular immersed boundary simulations.\n",
    "3. Adding and manipulating immersed boundary fluid sources.\n",
    "\n",
    "## Imports\n",
    "\n"
   ]
  },
  {
   "cell_type": "code",
   "execution_count": null,
   "id": "5d150229",
   "metadata": {},
   "outputs": [],
   "source": [
    "import chaste\n",
    "from chaste.cell_based import (\n",
    "AbstractCellBasedTestSuite,\n",
    "CellsGenerator,\n",
    "DifferentiatedCellProliferativeType,\n",
    "ForwardEulerNumericalMethod,\n",
    "ImmersedBoundaryCellPopulation,\n",
    "ImmersedBoundaryLinearInteractionForce,\n",
    "ImmersedBoundaryLinearMembraneForce,\n",
    "ImmersedBoundarySimulationModifier,\n",
    "OffLatticeSimulation,\n",
    ")\n",
    "from chaste.mesh import (\n",
    "FluidSource,\n",
    "ImmersedBoundaryPalisadeMeshGenerator,\n",
    ")\n",
    "from chaste.visualization import (\n",
    "JupyterNotebookManager,\n",
    "JupyterSceneModifier,\n",
    "VtkScene,\n",
    ")"
   ]
  },
  {
   "cell_type": "markdown",
   "id": "c89f8cab",
   "metadata": {},
   "source": [
    "### 1. Simple Immersed Boundary Simulations\n",
    "We begin by exploring simulations containing a single cell. This will\n",
    "familiarise you with how to generate immersed boundary cells, the steps\n",
    "involved in setting up an immersed boundary simulation, and the options\n",
    "available for controlling how the cells are generated and behave.\n",
    "\n",
    "Immersed boundary simulations operate over a square domain, with `x` and `y`\n",
    "coordinates lying in the range `0` to `1`. The domain wraps on both axes -\n",
    "this means that if a cell moves off the right hand edge of the domain,\n",
    "the segment will appear on the left hand side. This is not purely visual;\n",
    "forces are also transmitted across these boundaries.\n",
    "\n",
    " **Tip** Make sure all your coordinates are between `0` and `1`.\n",
    "\n"
   ]
  },
  {
   "cell_type": "markdown",
   "id": "b7b02b84",
   "metadata": {},
   "source": [
    "Setup the simulation environment in the notebook\n",
    "\n"
   ]
  },
  {
   "cell_type": "code",
   "execution_count": null,
   "id": "10c7f7f1",
   "metadata": {},
   "outputs": [],
   "source": [
    "chaste.cell_based.SetupNotebookTest() # Set up the test"
   ]
  },
  {
   "cell_type": "markdown",
   "id": "0a768881",
   "metadata": {},
   "source": [
    "Next, we define the necessary geometry by generating a mesh to\n",
    "contain a single cell.\n",
    "\n"
   ]
  },
  {
   "cell_type": "code",
   "execution_count": null,
   "id": "a50e8ed7",
   "metadata": {},
   "outputs": [],
   "source": [
    "gen = ImmersedBoundaryPalisadeMeshGenerator(1, 128, 0.1, 2.0, 0.0, False)\n",
    "mesh = gen.GetMesh()"
   ]
  },
  {
   "cell_type": "markdown",
   "id": "df234da8",
   "metadata": {},
   "source": [
    "The first line of code defines an `ImmersedBoundaryPalisadeMeshGenerator`\n",
    "called `gen`. The 3rd parameter controls the exponent of the superellipse(`0.1`)\n",
    "and the 4th parameter controls the aspect ratio of the cell(`2.0`). You can\n",
    "experiment with modifying these to change the initial shape of the cell.\n",
    "\n",
    "The second line of code instructs the mesh generator to generate a mesh.\n",
    "Checking the type of mesh with `type(mesh)` will show it as\n",
    "`ImmersedBoundaryMesh_2_2`. The `_2_2` suffix denotes that we are using\n",
    "a 2-dimensional space, and 2-dimensional elements to define the mesh.\n",
    "\n",
    "We now set the fluid grid resolution. The following code specifies\n",
    "that we are using a 64x64 grid to simulate our fluid over.\n",
    "\n"
   ]
  },
  {
   "cell_type": "code",
   "execution_count": null,
   "id": "14b88407",
   "metadata": {},
   "outputs": [],
   "source": [
    "mesh.SetNumGridPtsXAndY(64)"
   ]
  },
  {
   "cell_type": "markdown",
   "id": "ba0c77fa",
   "metadata": {},
   "source": [
    "Next, we generate the cells. We specify a cell type and cell cycle model.\n",
    "These can be changed to modify the life cycle of the cells. The\n",
    "cell generator then constructs the necessary information for each\n",
    "of the elements in the mesh.\n",
    "\n"
   ]
  },
  {
   "cell_type": "code",
   "execution_count": null,
   "id": "5688d238",
   "metadata": {},
   "outputs": [],
   "source": [
    "cell_type = DifferentiatedCellProliferativeType()\n",
    "cell_generator = CellsGenerator[\"UniformCellCycleModel\", 2]()\n",
    "cells = cell_generator.GenerateBasicRandom(mesh.GetNumElements(), cell_type)"
   ]
  },
  {
   "cell_type": "markdown",
   "id": "ab4c371f",
   "metadata": {},
   "source": [
    "Finally, we construct the cell population. We then specify whether the\n",
    "population has active fluid sources or not. For now, we are not\n",
    "using any fluid sources, so we set this to `False`\n",
    "\n"
   ]
  },
  {
   "cell_type": "code",
   "execution_count": null,
   "id": "985c7e49",
   "metadata": {},
   "outputs": [],
   "source": [
    "cell_population = ImmersedBoundaryCellPopulation[2](mesh, cells)\n",
    "cell_population.SetIfPopulationHasActiveSources(False)"
   ]
  },
  {
   "cell_type": "markdown",
   "id": "4b2524c0",
   "metadata": {},
   "source": [
    "We can make a quick visualization of the cell population\n",
    "\n"
   ]
  },
  {
   "cell_type": "code",
   "execution_count": null,
   "id": "b400ca25",
   "metadata": {},
   "outputs": [],
   "source": [
    "scene = VtkScene[2]()\n",
    "scene.SetCellPopulation(cell_population)\n",
    "nb_manager = JupyterNotebookManager()\n",
    "nb_manager.vtk_show(scene, height=300)"
   ]
  },
  {
   "cell_type": "markdown",
   "id": "f6aca627",
   "metadata": {},
   "source": [
    "Next, we create an `OffLatticeSimulation` simulator to control the\n",
    "simulation. Although the fluid is simulated on a lattice (grid),\n",
    "the nodes/cells are not bound to a lattice.\n",
    "\n"
   ]
  },
  {
   "cell_type": "code",
   "execution_count": null,
   "id": "4c24b119",
   "metadata": {},
   "outputs": [],
   "source": [
    "simulator = OffLatticeSimulation[2, 2](cell_population)\n",
    "simulator.SetNumericalMethod(ForwardEulerNumericalMethod[2, 2]())\n",
    "simulator.GetNumericalMethod().SetUseUpdateNodeLocation(True)"
   ]
  },
  {
   "cell_type": "markdown",
   "id": "079126a5",
   "metadata": {},
   "source": [
    "As we have an off-lattice simulation, we need a way to model the\n",
    "fluid. This is handled by the `ImmersedBoundarySimulationModifier`.\n",
    "Modifiers in Chaste are classes that can be attached to simulations\n",
    "to perform some additional custom functionality each timestep.\n",
    "In this case, the modifier is responsible for solving the\n",
    "Navier-Stokes equations and propagating forces between the nodes and\n",
    "the fluid.\n",
    "\n"
   ]
  },
  {
   "cell_type": "code",
   "execution_count": null,
   "id": "677ef819",
   "metadata": {},
   "outputs": [],
   "source": [
    "ib_modifier = ImmersedBoundarySimulationModifier[2]()\n",
    "simulator.AddSimulationModifier(ib_modifier)"
   ]
  },
  {
   "cell_type": "markdown",
   "id": "f5f5037f",
   "metadata": {},
   "source": [
    "We must also provide the modifier with a force model to govern\n",
    "interactions between the nodes forming the cell membrane.\n",
    "Note that these forces only act between nodes in the same cell;\n",
    "they do not control interactions between cells.\n",
    "\n"
   ]
  },
  {
   "cell_type": "code",
   "execution_count": null,
   "id": "f05d519e",
   "metadata": {},
   "outputs": [],
   "source": [
    "membrane_force = ImmersedBoundaryLinearMembraneForce[2]()\n",
    "membrane_force.SetElementSpringConst(1.0 * 1e7)\n",
    "ib_modifier.AddImmersedBoundaryForce(membrane_force)"
   ]
  },
  {
   "cell_type": "markdown",
   "id": "bb167b17",
   "metadata": {},
   "source": [
    "The `ImmersedBoundaryLinearMembraneForce` models forces between\n",
    "membrane nodes using linear springs i.e, the force applied is\n",
    "proportional to the deviation of the distance between nodes\n",
    "from a rest length. The spring constant(`1.0 * 1e7`) defines how\n",
    "stiff the cell boundary is.\n",
    "\n",
    " **Practice** Experiment with adjusting the spring constant to\n",
    " change the force behaviour between nodes of the cell boundary.\n",
    " \n",
    "Next, we set the simulation properties\n",
    "\n"
   ]
  },
  {
   "cell_type": "code",
   "execution_count": null,
   "id": "c10e1eb1",
   "metadata": {},
   "outputs": [],
   "source": [
    "dt = 0.05\n",
    "simulator.SetOutputDirectory(\"Python/TestImmersedBoundary_1\")\n",
    "simulator.SetDt(dt)\n",
    "simulator.SetSamplingTimestepMultiple(4)\n",
    "simulator.SetEndTime(1000 * dt)"
   ]
  },
  {
   "cell_type": "markdown",
   "id": "cbb2c821",
   "metadata": {},
   "source": [
    "We can add a modifier to visualize the cell population while the\n",
    "simulation is in progress\n",
    "\n"
   ]
  },
  {
   "cell_type": "code",
   "execution_count": null,
   "id": "f185d7a5",
   "metadata": {},
   "outputs": [],
   "source": [
    "scene_modifier = JupyterSceneModifier[2](nb_manager)\n",
    "scene_modifier.SetVtkScene(scene)\n",
    "scene_modifier.SetUpdateFrequency(1000)\n",
    "simulator.AddSimulationModifier(scene_modifier)"
   ]
  },
  {
   "cell_type": "markdown",
   "id": "17468410",
   "metadata": {},
   "source": [
    "Finally, to run the simulation we call the `Solve()` method.\n",
    "\n"
   ]
  },
  {
   "cell_type": "code",
   "execution_count": null,
   "id": "ae231668",
   "metadata": {},
   "outputs": [],
   "source": [
    "simulator.Solve()"
   ]
  },
  {
   "cell_type": "markdown",
   "id": "1059f034",
   "metadata": {},
   "source": [
    "Reset the simulation environment in the notebook\n",
    "\n"
   ]
  },
  {
   "cell_type": "code",
   "execution_count": null,
   "id": "ec0ba71f",
   "metadata": {},
   "outputs": [],
   "source": [
    "chaste.cell_based.TearDownNotebookTest() # Tear down the test"
   ]
  },
  {
   "cell_type": "markdown",
   "id": "beb57242",
   "metadata": {},
   "source": [
    "### 2. Adding More Cells\n",
    "\n"
   ]
  },
  {
   "cell_type": "markdown",
   "id": "baf830f4",
   "metadata": {},
   "source": [
    "#### Multiple Cells\n",
    "\n",
    "Setup the simulation environment in the notebook\n",
    "\n"
   ]
  },
  {
   "cell_type": "code",
   "execution_count": null,
   "id": "75125e6a",
   "metadata": {},
   "outputs": [],
   "source": [
    "chaste.cell_based.SetupNotebookTest() # Set up the test"
   ]
  },
  {
   "cell_type": "markdown",
   "id": "e76d8547",
   "metadata": {},
   "source": [
    "We can use the mesh generator to generate multiple cells. The first\n",
    "parameter of the mesh generator constructor controls the number of\n",
    "cells.\n",
    "\n",
    " **Practice** Try increasing the number of cells by adjusting the\n",
    " parameter value. A sensible range for this tutorial is 4-10 cells.\n",
    "\n"
   ]
  },
  {
   "cell_type": "code",
   "execution_count": null,
   "id": "8692911d",
   "metadata": {},
   "outputs": [],
   "source": [
    "gen = ImmersedBoundaryPalisadeMeshGenerator(5, 128, 0.1, 2.0, 0.0, False)"
   ]
  },
  {
   "cell_type": "markdown",
   "id": "7874df06",
   "metadata": {},
   "source": [
    "#### Laminas\n",
    "In addition to the cells we have seen so far, we can introduce\n",
    "laminas to the simulation. Laminas are surfaces with reduced\n",
    "dimensionality. For 3D elements, a lamina is a 2D surface. For the\n",
    "2D elements we are currently working with, laminas are lines.\n",
    "Changing the last parameter of the mesh generator constructor from `False`\n",
    "to `True` will generate a basal lamina spanning the palisade cells.\n",
    "Laminas can also interact with the fluid field, and can be made\n",
    "\"leaky\" to allow some flow across their boundary. This can be used\n",
    "to model a permeable boundary.\n",
    "\n",
    " **Practice** Try changing the 6th constructor parameter to create a lamina.\n",
    " \n",
    "#### Cell Variations\n",
    "Apart from using the 3rd and 4th constructor parameters to modify\n",
    "the cell shapes, we can also introduce variation between cells by\n",
    "modifying the 5th parameter.\n",
    "\n",
    " **Practice** Try adjusting the 3rd and 4th constructor parameters to\n",
    " introduce cell variations.\n",
    " \n",
    "Next, we generate the mesh and set the fluid grid resolution\n",
    "\n"
   ]
  },
  {
   "cell_type": "code",
   "execution_count": null,
   "id": "206a4b42",
   "metadata": {},
   "outputs": [],
   "source": [
    "mesh = gen.GetMesh()\n",
    "mesh.SetNumGridPtsXAndY(64)"
   ]
  },
  {
   "cell_type": "markdown",
   "id": "3a2883aa",
   "metadata": {},
   "source": [
    "Below, we generate the cells\n",
    "\n"
   ]
  },
  {
   "cell_type": "code",
   "execution_count": null,
   "id": "965b303b",
   "metadata": {},
   "outputs": [],
   "source": [
    "cell_type = DifferentiatedCellProliferativeType()\n",
    "cell_generator = CellsGenerator[\"UniformCellCycleModel\", 2]()\n",
    "cells = cell_generator.GenerateBasicRandom(mesh.GetNumElements(), cell_type)"
   ]
  },
  {
   "cell_type": "markdown",
   "id": "d277660b",
   "metadata": {},
   "source": [
    "Then we set up the cell population with no active fluid sources\n",
    "\n"
   ]
  },
  {
   "cell_type": "code",
   "execution_count": null,
   "id": "7caa5dfe",
   "metadata": {},
   "outputs": [],
   "source": [
    "cell_population = ImmersedBoundaryCellPopulation[2](mesh, cells)\n",
    "cell_population.SetIfPopulationHasActiveSources(False)"
   ]
  },
  {
   "cell_type": "markdown",
   "id": "dc332649",
   "metadata": {},
   "source": [
    "We can visualize the cell population below\n",
    "\n"
   ]
  },
  {
   "cell_type": "code",
   "execution_count": null,
   "id": "3b1e4a75",
   "metadata": {},
   "outputs": [],
   "source": [
    "scene = VtkScene[2]()\n",
    "scene.SetCellPopulation(cell_population)\n",
    "nb_manager = JupyterNotebookManager()\n",
    "nb_manager.vtk_show(scene, height=300)"
   ]
  },
  {
   "cell_type": "markdown",
   "id": "4973f443",
   "metadata": {},
   "source": [
    "Now we create a simulator to manage the simulation\n",
    "\n"
   ]
  },
  {
   "cell_type": "code",
   "execution_count": null,
   "id": "78e04ee7",
   "metadata": {},
   "outputs": [],
   "source": [
    "simulator = OffLatticeSimulation[2, 2](cell_population)\n",
    "simulator.SetNumericalMethod(ForwardEulerNumericalMethod[2, 2]())\n",
    "simulator.GetNumericalMethod().SetUseUpdateNodeLocation(True)"
   ]
  },
  {
   "cell_type": "markdown",
   "id": "47886f23",
   "metadata": {},
   "source": [
    "We add an immersed boundary simulation modifier to the simulator\n",
    "\n"
   ]
  },
  {
   "cell_type": "code",
   "execution_count": null,
   "id": "d8606a9e",
   "metadata": {},
   "outputs": [],
   "source": [
    "ib_modifier = ImmersedBoundarySimulationModifier[2]()\n",
    "simulator.AddSimulationModifier(ib_modifier)"
   ]
  },
  {
   "cell_type": "markdown",
   "id": "ab438d40",
   "metadata": {},
   "source": [
    "We then add a force law to the simulation modifier to model the\n",
    "behaviour of the cell membrane\n",
    "\n"
   ]
  },
  {
   "cell_type": "code",
   "execution_count": null,
   "id": "c8e9afce",
   "metadata": {},
   "outputs": [],
   "source": [
    "membrane_force = ImmersedBoundaryLinearMembraneForce[2]()\n",
    "membrane_force.SetElementSpringConst(1.0 * 1e7)\n",
    "ib_modifier.AddImmersedBoundaryForce(membrane_force)"
   ]
  },
  {
   "cell_type": "markdown",
   "id": "b19410d9",
   "metadata": {},
   "source": [
    "#### Inter-cellular Interactions\n",
    "So far, we have encountered forces that act to maintain the shape\n",
    "of the cell membrane. We can also introduce an inter-cellular\n",
    "force law using `ImmersedBoundaryLinearInteractionForce`.\n",
    "This has a `SetSpringConst` method instead of a `SetElementSpringConst`\n",
    "method. It also has a `SetRestLength` method that we can use to\n",
    "modify the rest length.\n",
    "\n"
   ]
  },
  {
   "cell_type": "code",
   "execution_count": null,
   "id": "add3b4e4",
   "metadata": {},
   "outputs": [],
   "source": [
    "interaction_force = ImmersedBoundaryLinearInteractionForce[2]()\n",
    "interaction_force.SetSpringConst(1.0 * 1e6)\n",
    "ib_modifier.AddImmersedBoundaryForce(interaction_force)"
   ]
  },
  {
   "cell_type": "markdown",
   "id": "6425a751",
   "metadata": {},
   "source": [
    "Next, we set the simulation properties\n",
    "\n"
   ]
  },
  {
   "cell_type": "code",
   "execution_count": null,
   "id": "31107a38",
   "metadata": {},
   "outputs": [],
   "source": [
    "dt = 0.05\n",
    "simulator.SetOutputDirectory(\"Python/TestImmersedBoundary_2\")\n",
    "simulator.SetDt(dt)\n",
    "simulator.SetSamplingTimestepMultiple(4)\n",
    "simulator.SetEndTime(1000 * dt)"
   ]
  },
  {
   "cell_type": "markdown",
   "id": "003976a8",
   "metadata": {},
   "source": [
    "Finally, we run the simulation\n",
    "\n"
   ]
  },
  {
   "cell_type": "code",
   "execution_count": null,
   "id": "97b77bfb",
   "metadata": {},
   "outputs": [],
   "source": [
    "simulator.Solve()"
   ]
  },
  {
   "cell_type": "markdown",
   "id": "60c980e7",
   "metadata": {},
   "source": [
    "We can visualize the end state of the cell population\n",
    "\n"
   ]
  },
  {
   "cell_type": "code",
   "execution_count": null,
   "id": "673b1d8c",
   "metadata": {},
   "outputs": [],
   "source": [
    "nb_manager.vtk_show(scene, height=300)"
   ]
  },
  {
   "cell_type": "markdown",
   "id": "2a758ff7",
   "metadata": {},
   "source": [
    "Reset the simulation environment in the notebook\n",
    "\n"
   ]
  },
  {
   "cell_type": "code",
   "execution_count": null,
   "id": "1567c495",
   "metadata": {},
   "outputs": [],
   "source": [
    "chaste.cell_based.TearDownNotebookTest() # Tear down the test"
   ]
  },
  {
   "cell_type": "markdown",
   "id": "54bdb70f",
   "metadata": {},
   "source": [
    "### 3. Adding Fluid Sources\n",
    "Now that we are familiar with how to generate the cells, we will\n",
    "introduce fluid sources.\n",
    "\n"
   ]
  },
  {
   "cell_type": "markdown",
   "id": "6df30465",
   "metadata": {},
   "source": [
    "#### Adding a Fluid Source\n",
    "\n",
    "Setup the simulation environment in the notebook\n",
    "\n"
   ]
  },
  {
   "cell_type": "code",
   "execution_count": null,
   "id": "7e2385a2",
   "metadata": {},
   "outputs": [],
   "source": [
    "chaste.cell_based.SetupNotebookTest() # Set up the test"
   ]
  },
  {
   "cell_type": "markdown",
   "id": "39371bf6",
   "metadata": {},
   "source": [
    "We begin by constructing a fluid source object:\n",
    "\n"
   ]
  },
  {
   "cell_type": "code",
   "execution_count": null,
   "id": "d30e65f5",
   "metadata": {},
   "outputs": [],
   "source": [
    "source = FluidSource[2](0, 0.5, 0.7)"
   ]
  },
  {
   "cell_type": "markdown",
   "id": "75c9e2b2",
   "metadata": {},
   "source": [
    "This constructs a `FluidSource` object in 2 dimensions. The first\n",
    "parameter supplies the index of the fluid source. Each source we\n",
    "create must have a unique index. The next two parameters are the\n",
    "`x` and `y` coordinates of the source. Fluid sources in Chaste are\n",
    "point-like, that is to say they do not have any area/volume.\n",
    "\n",
    "Having created the fluid source, we set its strength:\n",
    "\n"
   ]
  },
  {
   "cell_type": "code",
   "execution_count": null,
   "id": "51cb8499",
   "metadata": {},
   "outputs": [],
   "source": [
    "source.SetStrength(0.012)"
   ]
  },
  {
   "cell_type": "markdown",
   "id": "969547ef",
   "metadata": {},
   "source": [
    "Next, we create the mesh\n",
    "\n"
   ]
  },
  {
   "cell_type": "code",
   "execution_count": null,
   "id": "3e45ed26",
   "metadata": {},
   "outputs": [],
   "source": [
    "gen = ImmersedBoundaryPalisadeMeshGenerator(5, 128, 0.1, 2.0, 0.0, False)\n",
    "mesh = gen.GetMesh()\n",
    "mesh.SetNumGridPtsXAndY(64)"
   ]
  },
  {
   "cell_type": "markdown",
   "id": "a8d56bcb",
   "metadata": {},
   "source": [
    "We must associate the source with an element in the simulation\n",
    "so that the simulation is aware of the source.\n",
    "\n"
   ]
  },
  {
   "cell_type": "code",
   "execution_count": null,
   "id": "7e598de2",
   "metadata": {},
   "outputs": [],
   "source": [
    "mesh.GetElement(0).SetFluidSource(source)"
   ]
  },
  {
   "cell_type": "markdown",
   "id": "465304b1",
   "metadata": {},
   "source": [
    "We now generate the cells\n",
    "\n"
   ]
  },
  {
   "cell_type": "code",
   "execution_count": null,
   "id": "d787ea41",
   "metadata": {},
   "outputs": [],
   "source": [
    "cell_type = DifferentiatedCellProliferativeType()\n",
    "cell_generator = CellsGenerator[\"UniformCellCycleModel\", 2]()\n",
    "cells = cell_generator.GenerateBasicRandom(mesh.GetNumElements(), cell_type)"
   ]
  },
  {
   "cell_type": "markdown",
   "id": "1e65391d",
   "metadata": {},
   "source": [
    "Then we set up the cell population\n",
    "\n"
   ]
  },
  {
   "cell_type": "code",
   "execution_count": null,
   "id": "c1bf2659",
   "metadata": {},
   "outputs": [],
   "source": [
    "cell_population = ImmersedBoundaryCellPopulation[2](mesh, cells)"
   ]
  },
  {
   "cell_type": "markdown",
   "id": "63077191",
   "metadata": {},
   "source": [
    "Finally, we must tell the cell population that fluid sources are present.\n",
    "\n"
   ]
  },
  {
   "cell_type": "code",
   "execution_count": null,
   "id": "686970f9",
   "metadata": {},
   "outputs": [],
   "source": [
    "cell_population.SetIfPopulationHasActiveSources(True)"
   ]
  },
  {
   "cell_type": "markdown",
   "id": "223ed9c9",
   "metadata": {},
   "source": [
    "#### Varying the Source Location and Strength\n",
    " **Practice** You can experiment with the source location. Try moving it\n",
    " closer to and further away from the cells.\n",
    " \n",
    " **Practice** Try modifying the source strength to see what impact this\n",
    " has on the cell shapes.\n",
    " \n",
    "Below, we visualize the cell population\n",
    "\n"
   ]
  },
  {
   "cell_type": "code",
   "execution_count": null,
   "id": "5a4721b1",
   "metadata": {},
   "outputs": [],
   "source": [
    "scene = VtkScene[2]()\n",
    "scene.SetCellPopulation(cell_population)\n",
    "nb_manager = JupyterNotebookManager()\n",
    "nb_manager.vtk_show(scene, height=300)"
   ]
  },
  {
   "cell_type": "markdown",
   "id": "a6f3d00a",
   "metadata": {},
   "source": [
    "Create a simulator to manage the simulation\n",
    "\n"
   ]
  },
  {
   "cell_type": "code",
   "execution_count": null,
   "id": "91cb39a8",
   "metadata": {},
   "outputs": [],
   "source": [
    "simulator = OffLatticeSimulation[2, 2](cell_population)\n",
    "simulator.SetNumericalMethod(ForwardEulerNumericalMethod[2, 2]())\n",
    "simulator.GetNumericalMethod().SetUseUpdateNodeLocation(True)"
   ]
  },
  {
   "cell_type": "markdown",
   "id": "d706bbb0",
   "metadata": {},
   "source": [
    "Add an immersed boundary simulation modifier\n",
    "\n"
   ]
  },
  {
   "cell_type": "code",
   "execution_count": null,
   "id": "ec2ca4e0",
   "metadata": {},
   "outputs": [],
   "source": [
    "ib_modifier = ImmersedBoundarySimulationModifier[2]()\n",
    "simulator.AddSimulationModifier(ib_modifier)"
   ]
  },
  {
   "cell_type": "markdown",
   "id": "0fbe5db9",
   "metadata": {},
   "source": [
    "#### Fluid-Cell Interaction\n",
    " **Practice** Try modifying the spring constant of the\n",
    " `ImmersedBoundaryLinearMembraneForce` to see how this changes the\n",
    " effect of the fluid source on the cells.\n",
    "\n"
   ]
  },
  {
   "cell_type": "code",
   "execution_count": null,
   "id": "851233c8",
   "metadata": {},
   "outputs": [],
   "source": [
    "membrane_force = ImmersedBoundaryLinearMembraneForce[2]()\n",
    "membrane_force.SetElementSpringConst(1.0 * 1e7)\n",
    "ib_modifier.AddImmersedBoundaryForce(membrane_force)"
   ]
  },
  {
   "cell_type": "markdown",
   "id": "e22532bc",
   "metadata": {},
   "source": [
    "Add an inter-cellular force law\n",
    "\n"
   ]
  },
  {
   "cell_type": "code",
   "execution_count": null,
   "id": "0ff9bfd1",
   "metadata": {},
   "outputs": [],
   "source": [
    "interaction_force = ImmersedBoundaryLinearInteractionForce[2]()\n",
    "interaction_force.SetSpringConst(1.0 * 1e6)\n",
    "ib_modifier.AddImmersedBoundaryForce(interaction_force)"
   ]
  },
  {
   "cell_type": "markdown",
   "id": "3985c0a1",
   "metadata": {},
   "source": [
    "#### Adding More Sources\n",
    " **Practice** Try adding a second fluid source. You will need to\n",
    " use a unique index, and attach it to a different element as\n",
    " each element can only manage a single fluid source.\n",
    " \n",
    "Next, we set the simulation properties\n",
    "\n"
   ]
  },
  {
   "cell_type": "code",
   "execution_count": null,
   "id": "8cf2f879",
   "metadata": {},
   "outputs": [],
   "source": [
    "dt = 0.05\n",
    "simulator.SetOutputDirectory(\"Python/TestImmersedBoundary_3\")\n",
    "simulator.SetDt(dt)\n",
    "simulator.SetSamplingTimestepMultiple(4)\n",
    "simulator.SetEndTime(300 * dt)"
   ]
  },
  {
   "cell_type": "markdown",
   "id": "c939d04c",
   "metadata": {},
   "source": [
    "Finally, we run the simulation\n",
    "\n"
   ]
  },
  {
   "cell_type": "code",
   "execution_count": null,
   "id": "8028d32f",
   "metadata": {},
   "outputs": [],
   "source": [
    "simulator.Solve()"
   ]
  },
  {
   "cell_type": "markdown",
   "id": "66942811",
   "metadata": {},
   "source": [
    "Then we visualize the end state\n",
    "\n"
   ]
  },
  {
   "cell_type": "code",
   "execution_count": null,
   "id": "6c0848d9",
   "metadata": {},
   "outputs": [],
   "source": [
    "nb_manager.vtk_show(scene, height=300)"
   ]
  },
  {
   "cell_type": "markdown",
   "id": "7ff117a7",
   "metadata": {},
   "source": [
    "Reset the simulation environment in the notebook\n",
    "JUPYTER_TEARDOWN\n",
    "\n",
    "#### Further Exercises\n",
    " * Try integrating a different cell cycle model to introduce cell\n",
    " division. See how the presence of a fluid source impacts the\n",
    " structure that is formed.\n",
    " * Use one of the cell writers to collect some statistics\n",
    "\n"
   ]
  }
 ],
 "metadata": {},
 "nbformat": 4,
 "nbformat_minor": 5
}
