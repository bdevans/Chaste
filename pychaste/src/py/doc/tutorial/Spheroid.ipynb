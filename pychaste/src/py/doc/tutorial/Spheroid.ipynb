{
 "cells": [
  {
   "cell_type": "markdown",
   "id": "c099af98",
   "metadata": {},
   "source": [
    "This tutorial is automatically generated from [TestPySpheroidTutorial.py](https://github.com/Chaste/Chaste/blob/develop/pychaste/test/tutorial/TestPySpheroidTutorial.py) at revision [4045f91a83f5](https://github.com/Chaste/Chaste/commit/4045f91a83f55dc4a97f2ca4f97b0c32f4e43a4a)."
   ]
  },
  {
   "cell_type": "markdown",
   "id": "08b132d1",
   "metadata": {},
   "source": [
    "\n",
    "## Introduction\n",
    "This tutorial is an example of modelling spheroid growth with a nutrient.\n",
    "It covers:\n",
    " * Setting up an off-lattice cell population\n",
    " * Setting up a cell cycle model with oxygen dependence\n",
    " * Setting up and solving an oxygen transport PDE\n",
    " * Setting up a cell killer\n",
    " \n",
    "## The Test\n",
    "\n"
   ]
  },
  {
   "cell_type": "code",
   "execution_count": null,
   "id": "8692d375",
   "metadata": {},
   "outputs": [],
   "source": [
    "import chaste  # The PyChaste module\n",
    "import chaste.cell_based  # Contains cell populations\n",
    "import chaste.mesh  # Contains meshes\n",
    "import chaste.pde  # PDEs\n",
    "import chaste.visualization  # Visualization tools\n",
    "import matplotlib.pyplot as plt  # Plotting\n",
    "import numpy as np  # Matrix tools"
   ]
  },
  {
   "cell_type": "markdown",
   "id": "a79f54d3",
   "metadata": {},
   "source": [
    "### Test 1 - a 2D mesh-based spheroid\n",
    "In this test we set up a spheroid with a plentiful supply of oxygen on the boundary and watch it grow\n",
    "over time. Cells can gradually become apoptotic if the oxygen tension is too low.\n",
    "\n"
   ]
  },
  {
   "cell_type": "code",
   "execution_count": null,
   "id": "84ad1851",
   "metadata": {},
   "outputs": [],
   "source": [
    "chaste.cell_based.SetupNotebookTest() # Set up the test"
   ]
  },
  {
   "cell_type": "markdown",
   "id": "567073f1",
   "metadata": {},
   "source": [
    "This time we will use on off-lattice `MeshBased` cell population. Cell centres are joined with\n",
    "springs with a Delauney Triangulation used to identify neighbours. Cell area is given by the dual\n",
    "(Voronoi Tesselation). We start off with a small number of cells. We use a `MutableMesh` which\n",
    "can change connectivity over time and a `HoneycombMeshGenerator` to set it up with a simple\n",
    "honeycomb pattern. Here the first and second arguments define the size of the mesh -\n",
    "we have chosen a mesh that is 5 nodes (i.e. cells) wide, and 5 nodes high. The extra '2' argument puts\n",
    "two layers of non-cell elements around the mesh, which help to form a nicer voronoi tesselation\n",
    "for area calculations.\n",
    "\n"
   ]
  },
  {
   "cell_type": "code",
   "execution_count": null,
   "id": "07f23c5d",
   "metadata": {},
   "outputs": [],
   "source": [
    "chaste.core.OutputFileHandler(\"Python/TestSpheroidTutorial\")\n",
    "generator = chaste.mesh.HoneycombMeshGenerator(5, 5)\n",
    "mesh = generator.GetMesh()"
   ]
  },
  {
   "cell_type": "markdown",
   "id": "d1c67572",
   "metadata": {},
   "source": [
    "We create some cells next, with a stem-like proliferative type. This means they will continually\n",
    "proliferate if there is enough oxygen, similar to how a tumour spheroid may behave.\n",
    "\n"
   ]
  },
  {
   "cell_type": "code",
   "execution_count": null,
   "id": "8ef67d41",
   "metadata": {},
   "outputs": [],
   "source": [
    "stem_type = chaste.cell_based.StemCellProliferativeType()\n",
    "cell_generator = chaste.cell_based.CellsGenerator[\"SimpleOxygenBasedCellCycleModel\", 2]()\n",
    "cells = cell_generator.GenerateBasicRandom(mesh.GetNumNodes(), stem_type)"
   ]
  },
  {
   "cell_type": "markdown",
   "id": "afbe0b45",
   "metadata": {},
   "source": [
    "Define when cells become apoptotic\n",
    "\n"
   ]
  },
  {
   "cell_type": "code",
   "execution_count": null,
   "id": "f57067ef",
   "metadata": {},
   "outputs": [],
   "source": [
    "for eachCell in cells:\n",
    "    cell_cycle_model = eachCell.GetCellCycleModel()\n",
    "    eachCell.GetCellData().SetItem(\"oxygen\", 30.0)\n",
    "    cell_cycle_model.SetDimension(2)\n",
    "    cell_cycle_model.SetStemCellG1Duration(4.0)\n",
    "    cell_cycle_model.SetHypoxicConcentration(0.1)\n",
    "    cell_cycle_model.SetQuiescentConcentration(0.3)\n",
    "    cell_cycle_model.SetCriticalHypoxicDuration(8)\n",
    "    g1_duration = cell_cycle_model.GetStemCellG1Duration()\n",
    "    sg2m_duration = cell_cycle_model.GetSG2MDuration()\n",
    "    rnum = chaste.core.RandomNumberGenerator.Instance().ranf()\n",
    "    birth_time = -rnum * (g1_duration + sg2m_duration)\n",
    "    eachCell.SetBirthTime(birth_time)"
   ]
  },
  {
   "cell_type": "markdown",
   "id": "8997f297",
   "metadata": {},
   "source": [
    "Now we have a mesh and a set of cells to go with it, we can create a `CellPopulation` as before.\n",
    "\n"
   ]
  },
  {
   "cell_type": "code",
   "execution_count": null,
   "id": "0b63a593",
   "metadata": {},
   "outputs": [],
   "source": [
    "cell_population = chaste.cell_based.MeshBasedCellPopulation[2, 2](mesh, cells)"
   ]
  },
  {
   "cell_type": "markdown",
   "id": "5ecd9ad7",
   "metadata": {},
   "source": [
    "To view the results of this and the next test in Paraview it is necessary to explicitly generate the required .vtu files.\n",
    "\n"
   ]
  },
  {
   "cell_type": "code",
   "execution_count": null,
   "id": "6c6defe1",
   "metadata": {},
   "outputs": [],
   "source": [
    "cell_population.AddPopulationWriterVoronoiDataWriter()"
   ]
  },
  {
   "cell_type": "markdown",
   "id": "283caea4",
   "metadata": {},
   "source": [
    "We then pass in the cell population into an `OffLatticeSimulation`, and set the output directory and end time.\n",
    "\n"
   ]
  },
  {
   "cell_type": "code",
   "execution_count": null,
   "id": "d22332d3",
   "metadata": {},
   "outputs": [],
   "source": [
    "simulator = chaste.cell_based.OffLatticeSimulation[2, 2](cell_population)\n",
    "simulator.SetOutputDirectory(\"Python/TestSpheroidTutorial\")\n",
    "simulator.SetEndTime(5.0)"
   ]
  },
  {
   "cell_type": "markdown",
   "id": "d80b788e",
   "metadata": {},
   "source": [
    "We ask for output every 12 increments\n",
    "\n"
   ]
  },
  {
   "cell_type": "code",
   "execution_count": null,
   "id": "e9d2b2a9",
   "metadata": {},
   "outputs": [],
   "source": [
    "simulator.SetSamplingTimestepMultiple(100)"
   ]
  },
  {
   "cell_type": "markdown",
   "id": "82c88d9b",
   "metadata": {},
   "source": [
    "We define how the springs between cells behave using a force law.\n",
    "\n"
   ]
  },
  {
   "cell_type": "code",
   "execution_count": null,
   "id": "c7f7ca41",
   "metadata": {},
   "outputs": [],
   "source": [
    "force = chaste.cell_based.GeneralisedLinearSpringForce[2, 2]()\n",
    "simulator.AddForce(force)"
   ]
  },
  {
   "cell_type": "markdown",
   "id": "a8949df8",
   "metadata": {},
   "source": [
    "We set up a PDE for oxygen diffusion and consumption by cells, setting the rate of consumption to 0.1\n",
    "\n"
   ]
  },
  {
   "cell_type": "code",
   "execution_count": null,
   "id": "9138a798",
   "metadata": {},
   "outputs": [],
   "source": [
    "pde = chaste.pde.CellwiseSourceEllipticPde[2](cell_population, -0.5)"
   ]
  },
  {
   "cell_type": "markdown",
   "id": "2089b21a",
   "metadata": {},
   "source": [
    "We set a constant amount of oxygen on the edge of the spheroid\n",
    "\n"
   ]
  },
  {
   "cell_type": "code",
   "execution_count": null,
   "id": "e911483c",
   "metadata": {},
   "outputs": [],
   "source": [
    "bc = chaste.pde.ConstBoundaryCondition[2](1.0)\n",
    "is_neumann_bc = False"
   ]
  },
  {
   "cell_type": "markdown",
   "id": "1d3ca62f",
   "metadata": {},
   "source": [
    "Set up a pde modifier to solve the PDE at each simulation time step\n",
    "\n"
   ]
  },
  {
   "cell_type": "code",
   "execution_count": null,
   "id": "8bafd14b",
   "metadata": {},
   "outputs": [],
   "source": [
    "# pde_modifier = chaste.cell_based.EllipticGrowingDomainPdeModifier[2](pde, bc, is_neumann_bc)\n",
    "# pde_modifier.SetDependentVariableName(\"oxygen\")\n",
    "# simulator.AddSimulationModifier(pde_modifier)"
   ]
  },
  {
   "cell_type": "markdown",
   "id": "0ecfebe0",
   "metadata": {},
   "source": [
    "As before, we set up a scene modifier for real-time visualization\n",
    "\n"
   ]
  },
  {
   "cell_type": "code",
   "execution_count": null,
   "id": "37affc74",
   "metadata": {},
   "outputs": [],
   "source": [
    "scene = chaste.visualization.VtkScene[2]()\n",
    "scene.SetCellPopulation(cell_population)\n",
    "scene.GetCellPopulationActorGenerator().SetColorByCellData(True)\n",
    "scene.GetCellPopulationActorGenerator().SetDataLabel(\"oxygen\")\n",
    "scene.GetCellPopulationActorGenerator().SetShowCellCentres(True)\n",
    "scene.GetCellPopulationActorGenerator().SetShowVoronoiMeshEdges(False)\n",
    "nb_manager = chaste.visualization.JupyterNotebookManager()\n",
    "scene_modifier = chaste.cell_based.VtkSceneModifier[2]()\n",
    "scene_modifier.SetVtkScene(scene)\n",
    "scene_modifier.SetUpdateFrequency(100)\n",
    "simulator.AddSimulationModifier(scene_modifier)"
   ]
  },
  {
   "cell_type": "markdown",
   "id": "4c044403",
   "metadata": {},
   "source": [
    "Eventually remove apoptotic cells\n",
    "\n"
   ]
  },
  {
   "cell_type": "code",
   "execution_count": null,
   "id": "6c8b88fc",
   "metadata": {},
   "outputs": [],
   "source": [
    "killer = chaste.cell_based.ApoptoticCellKiller[2](cell_population)\n",
    "simulator.AddCellKiller(killer)"
   ]
  },
  {
   "cell_type": "markdown",
   "id": "cc4a8ec7",
   "metadata": {},
   "source": [
    "To run the simulation, we call `Solve()`. We can again do a quick rendering of the population at the end of the simulation\n",
    "\n"
   ]
  },
  {
   "cell_type": "code",
   "execution_count": null,
   "id": "98a5b4eb",
   "metadata": {},
   "outputs": [],
   "source": [
    "scene.Start()\n",
    "simulator.Solve()\n",
    "chaste.cell_based.TearDownNotebookTest() # Tear down the test"
   ]
  },
  {
   "cell_type": "markdown",
   "id": "e7c1b978",
   "metadata": {},
   "source": [
    "Full results can be visualized in Paraview from the `file_handler.GetOutputDirectoryFullPath()` directory.\n",
    "\n"
   ]
  }
 ],
 "metadata": {},
 "nbformat": 4,
 "nbformat_minor": 5
}
