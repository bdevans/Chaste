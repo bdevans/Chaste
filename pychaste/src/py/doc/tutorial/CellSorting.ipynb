{
 "cells": [
  {
   "cell_type": "markdown",
   "id": "eeb60a0f",
   "metadata": {},
   "source": [
    "This tutorial is automatically generated from [TestPyCellSortingTutorial.py](https://github.com/Chaste/Chaste/blob/develop/pychaste/test/tutorial/TestPyCellSortingTutorial.py) at revision [2cd31145369b](https://github.com/Chaste/Chaste/commit/2cd31145369b99ac6f9bd17ad1c916ec7de20b28)."
   ]
  },
  {
   "cell_type": "markdown",
   "id": "843707ac",
   "metadata": {},
   "source": [
    "\n",
    "## Introduction\n",
    "This test is a demonstration of cell sorting using a Cellular Potts based framework.\n",
    "It shows:\n",
    " * How to set up a Potts simulation\n",
    " * Working with labels\n",
    " \n",
    "## The Test\n",
    "\n"
   ]
  },
  {
   "cell_type": "code",
   "execution_count": null,
   "id": "9b69eb11",
   "metadata": {},
   "outputs": [],
   "source": [
    "import chaste  # The PyChaste module\n",
    "import chaste.cell_based  # Contains cell populations\n",
    "import chaste.mesh  # Contains meshes\n",
    "import chaste.visualization  # Visualization tools\n",
    "import matplotlib.pyplot as plt  # Plotting\n",
    "import numpy as np  # Matrix tools\n",
    "# Set up MPI"
   ]
  },
  {
   "cell_type": "markdown",
   "id": "b220ab8c",
   "metadata": {},
   "source": [
    "### Test 1 - Cell sorting\n",
    "The next test generates a collection of cells, there are two types of cells, labelled ones and non labelled ones,\n",
    "there is differential adhesion between the cell types. For the parameters specified, the cells sort into separate types.\n",
    "\n"
   ]
  },
  {
   "cell_type": "code",
   "execution_count": null,
   "id": "1ab5c3e9",
   "metadata": {},
   "outputs": [],
   "source": [
    "chaste.cell_based.SetupNotebookTest() # Set up the test"
   ]
  },
  {
   "cell_type": "markdown",
   "id": "d5546d73",
   "metadata": {},
   "source": [
    "First, we generate a `Potts` mesh. To create a `PottsMesh`, we can use the `PottsMeshGenerator`.\n",
    "This generates a regular square-shaped mesh, in which all elements are the same size.\n",
    "We have chosen an 8 by 8 block of elements each consisting of 4 by 4 ( = 16) lattice sites.\n",
    "\n"
   ]
  },
  {
   "cell_type": "code",
   "execution_count": null,
   "id": "f1fcbb1f",
   "metadata": {},
   "outputs": [],
   "source": [
    "generator = chaste.mesh.PottsMeshGenerator[2](50, 8, 4, 50, 8, 4)\n",
    "mesh = generator.GetMesh()"
   ]
  },
  {
   "cell_type": "markdown",
   "id": "ec3893b4",
   "metadata": {},
   "source": [
    "Having created a mesh, we now create some cells. To do this, we the `CellsGenerator` helper class,\n",
    "as before but this time the third argument is set to make all cells non-proliferative.\n",
    "\n"
   ]
  },
  {
   "cell_type": "code",
   "execution_count": null,
   "id": "d7318341",
   "metadata": {},
   "outputs": [],
   "source": [
    "differentiated_type = chaste.cell_based.DifferentiatedCellProliferativeType()\n",
    "cell_generator = chaste.cell_based.CellsGenerator[\"UniformCellCycleModel\", 2]()\n",
    "cells = cell_generator.GenerateBasicRandom(\n",
    "    mesh.GetNumElements(), differentiated_type\n",
    ")"
   ]
  },
  {
   "cell_type": "markdown",
   "id": "bedb9a49",
   "metadata": {},
   "source": [
    "Before we make a CellPopulation we make a cell label and then assign this label to some randomly chosen cells.\n",
    "\n"
   ]
  },
  {
   "cell_type": "code",
   "execution_count": null,
   "id": "a20abb00",
   "metadata": {},
   "outputs": [],
   "source": [
    "label = chaste.cell_based.CellLabel()\n",
    "for eachCell in cells:\n",
    "    if chaste.core.RandomNumberGenerator.Instance().ranf() < 0.5:\n",
    "        eachCell.AddCellProperty(label)"
   ]
  },
  {
   "cell_type": "markdown",
   "id": "ac1bcd5f",
   "metadata": {},
   "source": [
    "Now we have a mesh and a set of cells to go with it, we can create a `CellPopulation`.\n",
    "\n"
   ]
  },
  {
   "cell_type": "code",
   "execution_count": null,
   "id": "2fae6390",
   "metadata": {},
   "outputs": [],
   "source": [
    "cell_population = chaste.cell_based.PottsBasedCellPopulation[2](mesh, cells)"
   ]
  },
  {
   "cell_type": "markdown",
   "id": "84ef0b07",
   "metadata": {},
   "source": [
    "In order to visualize labelled cells we need to use the following command.\n",
    "\n"
   ]
  },
  {
   "cell_type": "code",
   "execution_count": null,
   "id": "d2910c44",
   "metadata": {},
   "outputs": [],
   "source": [
    "cell_population.AddCellWriterCellLabelWriter()"
   ]
  },
  {
   "cell_type": "markdown",
   "id": "55fc5965",
   "metadata": {},
   "source": [
    "PyChaste can do simple 3D rendering with VTK. We set up a VtkScene so that we can\n",
    "see the population evovle in real time.\n",
    "\n"
   ]
  },
  {
   "cell_type": "code",
   "execution_count": null,
   "id": "f1f20ad6",
   "metadata": {},
   "outputs": [],
   "source": [
    "scene = chaste.visualization.VtkScene[2]()\n",
    "scene.SetCellPopulation(cell_population)\n",
    "scene.GetCellPopulationActorGenerator().SetShowPottsMeshEdges(True)\n",
    "nb_manager = chaste.visualization.JupyterNotebookManager()\n",
    "nb_manager.vtk_show(scene, height=600)"
   ]
  },
  {
   "cell_type": "markdown",
   "id": "bb42ba4a",
   "metadata": {},
   "source": [
    "We then pass in the cell population into an `OffLatticeSimulation`, and set the output directory and end time\n",
    "\n"
   ]
  },
  {
   "cell_type": "code",
   "execution_count": null,
   "id": "a7e9733c",
   "metadata": {},
   "outputs": [],
   "source": [
    "simulator = chaste.cell_based.OnLatticeSimulation[2](cell_population)\n",
    "simulator.SetOutputDirectory(\"Python/TestCellSorting\")\n",
    "simulator.SetEndTime(20.0)\n",
    "simulator.SetSamplingTimestepMultiple(10)"
   ]
  },
  {
   "cell_type": "markdown",
   "id": "bf0d941a",
   "metadata": {},
   "source": [
    "We must now create one or more update rules, which determine the Hamiltonian in the Potts simulation.\n",
    "For this test, we use two update rules based upon a volume constraint (`VolumeConstraintPottsUpdateRule`) and\n",
    "differential adhesion between cells (`DifferentialAdhesionPottsUpdateRule`), set appropriate parameters, and\n",
    "pass them to the `OnLatticeSimulation`.\n",
    "\n"
   ]
  },
  {
   "cell_type": "code",
   "execution_count": null,
   "id": "c7670b5c",
   "metadata": {},
   "outputs": [],
   "source": [
    "volume_constraint_update_rule = (\n",
    "    chaste.cell_based.VolumeConstraintPottsUpdateRule[2]()\n",
    ")\n",
    "volume_constraint_update_rule.SetMatureCellTargetVolume(16)\n",
    "volume_constraint_update_rule.SetDeformationEnergyParameter(0.2)\n",
    "simulator.AddUpdateRule(volume_constraint_update_rule)"
   ]
  },
  {
   "cell_type": "markdown",
   "id": "a7c058e8",
   "metadata": {},
   "source": [
    "We repeat the process for any other update rules.\n",
    "\n"
   ]
  },
  {
   "cell_type": "code",
   "execution_count": null,
   "id": "4bbe9f6b",
   "metadata": {},
   "outputs": [],
   "source": [
    "differential_adhesion_update_rule = (\n",
    "    chaste.cell_based.DifferentialAdhesionPottsUpdateRule[2]()\n",
    ")\n",
    "differential_adhesion_update_rule.SetLabelledCellLabelledCellAdhesionEnergyParameter(\n",
    "    0.16\n",
    ")\n",
    "differential_adhesion_update_rule.SetLabelledCellCellAdhesionEnergyParameter(\n",
    "    0.11\n",
    ")\n",
    "differential_adhesion_update_rule.SetCellCellAdhesionEnergyParameter(0.02)\n",
    "differential_adhesion_update_rule.SetLabelledCellBoundaryAdhesionEnergyParameter(\n",
    "    0.16\n",
    ")\n",
    "differential_adhesion_update_rule.SetCellBoundaryAdhesionEnergyParameter(0.16)\n",
    "simulator.AddUpdateRule(differential_adhesion_update_rule)"
   ]
  },
  {
   "cell_type": "markdown",
   "id": "c9e5c777",
   "metadata": {},
   "source": [
    "Set up plotting\n",
    "\n"
   ]
  },
  {
   "cell_type": "code",
   "execution_count": null,
   "id": "1261446e",
   "metadata": {},
   "outputs": [],
   "source": [
    "scene_modifier = chaste.cell_based.VtkSceneModifier[2]()\n",
    "scene_modifier.SetVtkScene(scene)\n",
    "scene_modifier.SetUpdateFrequency(1000)\n",
    "simulator.AddSimulationModifier(scene_modifier)"
   ]
  },
  {
   "cell_type": "markdown",
   "id": "785b1363",
   "metadata": {},
   "source": [
    "To run the simulation, we call `Solve()`.\n",
    "\n"
   ]
  },
  {
   "cell_type": "code",
   "execution_count": null,
   "id": "1c60634b",
   "metadata": {},
   "outputs": [],
   "source": [
    "scene.Start()\n",
    "simulator.Solve()\n",
    "chaste.cell_based.TearDownNotebookTest() # Tear down the test"
   ]
  }
 ],
 "metadata": {},
 "nbformat": 4,
 "nbformat_minor": 5
}
