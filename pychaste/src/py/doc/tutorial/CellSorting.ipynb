{
 "cells": [
  {
   "cell_type": "markdown",
   "id": "dc9cd996",
   "metadata": {},
   "source": [
    "This tutorial is automatically generated from [TestPyCellSortingTutorial.py](https://github.com/Chaste/Chaste/blob/develop/pychaste/test/tutorial/TestPyCellSortingTutorial.py) at revision [4045f91a83f5](https://github.com/Chaste/Chaste/commit/4045f91a83f55dc4a97f2ca4f97b0c32f4e43a4a)."
   ]
  },
  {
   "cell_type": "markdown",
   "id": "eab9f99c",
   "metadata": {},
   "source": [
    "\n",
    "## Introduction\n",
    "This test is a demonstration of cell sorting using a Cellular Potts based framework.\n",
    "It shows:\n",
    " * How to set up a Potts simulation\n",
    " * Working with labels\n",
    " \n",
    "## The Test\n",
    "\n"
   ]
  },
  {
   "cell_type": "code",
   "execution_count": null,
   "id": "210aab0c",
   "metadata": {},
   "outputs": [],
   "source": [
    "import chaste  # The PyChaste module\n",
    "import chaste.cell_based  # Contains cell populations\n",
    "import chaste.mesh  # Contains meshes\n",
    "import chaste.visualization  # Visualization tools\n",
    "import matplotlib.pyplot as plt  # Plotting\n",
    "import numpy as np  # Matrix tools"
   ]
  },
  {
   "cell_type": "markdown",
   "id": "48ee6cfa",
   "metadata": {},
   "source": [
    "### Test 1 - Cell sorting\n",
    "The next test generates a collection of cells, there are two types of cells, labelled ones and non labelled ones,\n",
    "there is differential adhesion between the cell types. For the parameters specified, the cells sort into separate types.\n",
    "\n"
   ]
  },
  {
   "cell_type": "code",
   "execution_count": null,
   "id": "709128f2",
   "metadata": {},
   "outputs": [],
   "source": [
    "chaste.cell_based.SetupNotebookTest() # Set up the test"
   ]
  },
  {
   "cell_type": "markdown",
   "id": "4aa9f2d3",
   "metadata": {},
   "source": [
    "First, we generate a `Potts` mesh. To create a `PottsMesh`, we can use the `PottsMeshGenerator`.\n",
    "This generates a regular square-shaped mesh, in which all elements are the same size.\n",
    "We have chosen an 8 by 8 block of elements each consisting of 4 by 4 ( = 16) lattice sites.\n",
    "\n"
   ]
  },
  {
   "cell_type": "code",
   "execution_count": null,
   "id": "b57aa8b6",
   "metadata": {},
   "outputs": [],
   "source": [
    "generator = chaste.mesh.PottsMeshGenerator[2](50, 8, 4, 50, 8, 4)\n",
    "mesh = generator.GetMesh()"
   ]
  },
  {
   "cell_type": "markdown",
   "id": "a0b3c230",
   "metadata": {},
   "source": [
    "Having created a mesh, we now create some cells. To do this, we the `CellsGenerator` helper class,\n",
    "as before but this time the third argument is set to make all cells non-proliferative.\n",
    "\n"
   ]
  },
  {
   "cell_type": "code",
   "execution_count": null,
   "id": "3eef4583",
   "metadata": {},
   "outputs": [],
   "source": [
    "differentiated_type = chaste.cell_based.DifferentiatedCellProliferativeType()\n",
    "cell_generator = chaste.cell_based.CellsGenerator[\"UniformCellCycleModel\", 2]()\n",
    "cells = cell_generator.GenerateBasicRandom(mesh.GetNumElements(), differentiated_type)"
   ]
  },
  {
   "cell_type": "markdown",
   "id": "e643ffc4",
   "metadata": {},
   "source": [
    "Before we make a CellPopulation we make a cell label and then assign this label to some randomly chosen cells.\n",
    "\n"
   ]
  },
  {
   "cell_type": "code",
   "execution_count": null,
   "id": "71235d48",
   "metadata": {},
   "outputs": [],
   "source": [
    "label = chaste.cell_based.CellLabel()\n",
    "for eachCell in cells:\n",
    "    if chaste.core.RandomNumberGenerator.Instance().ranf() < 0.5:\n",
    "        eachCell.AddCellProperty(label)"
   ]
  },
  {
   "cell_type": "markdown",
   "id": "ae5d2be1",
   "metadata": {},
   "source": [
    "Now we have a mesh and a set of cells to go with it, we can create a `CellPopulation`.\n",
    "\n"
   ]
  },
  {
   "cell_type": "code",
   "execution_count": null,
   "id": "efd30179",
   "metadata": {},
   "outputs": [],
   "source": [
    "cell_population = chaste.cell_based.PottsBasedCellPopulation[2](mesh, cells)"
   ]
  },
  {
   "cell_type": "markdown",
   "id": "8f647aa0",
   "metadata": {},
   "source": [
    "In order to visualize labelled cells we need to use the following command.\n",
    "\n"
   ]
  },
  {
   "cell_type": "code",
   "execution_count": null,
   "id": "98b9939b",
   "metadata": {},
   "outputs": [],
   "source": [
    "cell_population.AddCellWriterCellLabelWriter()"
   ]
  },
  {
   "cell_type": "markdown",
   "id": "522d2306",
   "metadata": {},
   "source": [
    "PyChaste can do simple 3D rendering with VTK. We set up a VtkScene so that we can\n",
    "see the population evovle in real time.\n",
    "\n"
   ]
  },
  {
   "cell_type": "code",
   "execution_count": null,
   "id": "0bdc223b",
   "metadata": {},
   "outputs": [],
   "source": [
    "scene = chaste.visualization.VtkScene[2]()\n",
    "scene.SetCellPopulation(cell_population)\n",
    "scene.GetCellPopulationActorGenerator().SetShowPottsMeshEdges(True)\n",
    "nb_manager = chaste.visualization.JupyterNotebookManager()\n",
    "nb_manager.vtk_show(scene, height=600)"
   ]
  },
  {
   "cell_type": "markdown",
   "id": "a837451f",
   "metadata": {},
   "source": [
    "We then pass in the cell population into an `OffLatticeSimulation`, and set the output directory and end time\n",
    "\n"
   ]
  },
  {
   "cell_type": "code",
   "execution_count": null,
   "id": "e47c4a07",
   "metadata": {},
   "outputs": [],
   "source": [
    "simulator = chaste.cell_based.OnLatticeSimulation[2](cell_population)\n",
    "simulator.SetOutputDirectory(\"Python/TestCellSorting\")\n",
    "simulator.SetEndTime(20.0)\n",
    "simulator.SetSamplingTimestepMultiple(10)"
   ]
  },
  {
   "cell_type": "markdown",
   "id": "3b5c4520",
   "metadata": {},
   "source": [
    "We must now create one or more update rules, which determine the Hamiltonian in the Potts simulation.\n",
    "For this test, we use two update rules based upon a volume constraint (`VolumeConstraintPottsUpdateRule`) and\n",
    "differential adhesion between cells (`DifferentialAdhesionPottsUpdateRule`), set appropriate parameters, and\n",
    "pass them to the `OnLatticeSimulation`.\n",
    "\n"
   ]
  },
  {
   "cell_type": "code",
   "execution_count": null,
   "id": "0bd2a82e",
   "metadata": {},
   "outputs": [],
   "source": [
    "volume_constraint_update_rule = chaste.cell_based.VolumeConstraintPottsUpdateRule[2]()\n",
    "volume_constraint_update_rule.SetMatureCellTargetVolume(16)\n",
    "volume_constraint_update_rule.SetDeformationEnergyParameter(0.2)\n",
    "simulator.AddUpdateRule(volume_constraint_update_rule)"
   ]
  },
  {
   "cell_type": "markdown",
   "id": "9b4e9fd4",
   "metadata": {},
   "source": [
    "We repeat the process for any other update rules.\n",
    "\n"
   ]
  },
  {
   "cell_type": "code",
   "execution_count": null,
   "id": "147a39c2",
   "metadata": {},
   "outputs": [],
   "source": [
    "differential_adhesion_update_rule = chaste.cell_based.DifferentialAdhesionPottsUpdateRule[2]()\n",
    "differential_adhesion_update_rule.SetLabelledCellLabelledCellAdhesionEnergyParameter(0.16)\n",
    "differential_adhesion_update_rule.SetLabelledCellCellAdhesionEnergyParameter(0.11)\n",
    "differential_adhesion_update_rule.SetCellCellAdhesionEnergyParameter(0.02)\n",
    "differential_adhesion_update_rule.SetLabelledCellBoundaryAdhesionEnergyParameter(0.16)\n",
    "differential_adhesion_update_rule.SetCellBoundaryAdhesionEnergyParameter(0.16)\n",
    "simulator.AddUpdateRule(differential_adhesion_update_rule)"
   ]
  },
  {
   "cell_type": "markdown",
   "id": "68f51df6",
   "metadata": {},
   "source": [
    "Set up plotting\n",
    "\n"
   ]
  },
  {
   "cell_type": "code",
   "execution_count": null,
   "id": "0b3cf0ea",
   "metadata": {},
   "outputs": [],
   "source": [
    "scene_modifier = chaste.cell_based.VtkSceneModifier[2]()\n",
    "scene_modifier.SetVtkScene(scene)\n",
    "scene_modifier.SetUpdateFrequency(1000)\n",
    "simulator.AddSimulationModifier(scene_modifier)"
   ]
  },
  {
   "cell_type": "markdown",
   "id": "0f9efe4d",
   "metadata": {},
   "source": [
    "To run the simulation, we call `Solve()`.\n",
    "\n"
   ]
  },
  {
   "cell_type": "code",
   "execution_count": null,
   "id": "2ce5716f",
   "metadata": {},
   "outputs": [],
   "source": [
    "scene.Start()\n",
    "simulator.Solve()\n",
    "chaste.cell_based.TearDownNotebookTest() # Tear down the test"
   ]
  }
 ],
 "metadata": {},
 "nbformat": 4,
 "nbformat_minor": 5
}
