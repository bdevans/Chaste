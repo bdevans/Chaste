{
 "cells": [
  {
   "cell_type": "markdown",
   "id": "fe4632ae",
   "metadata": {},
   "source": [
    "This tutorial is automatically generated from [TestPyPottsBasedCellSimulationsTutorial.py](https://github.com/Chaste/Chaste/blob/develop/pychaste/test/tutorial/TestPyPottsBasedCellSimulationsTutorial.py) at revision [5494648e74e5](https://github.com/Chaste/Chaste/commit/5494648e74e52d7e7ae7730fdde6a6eae46829cf)."
   ]
  },
  {
   "cell_type": "markdown",
   "id": "d5abfa23",
   "metadata": {},
   "source": [
    "\n",
    "## Introduction\n",
    "In this tutorial we show how Chaste can be used to create, run and visualize Potts-based simulations.\n",
    "Full details of the mathematical model can be found in Graner, F. and Glazier, J. A. (1992).\n",
    "\n",
    "## The Test\n",
    "\n"
   ]
  },
  {
   "cell_type": "code",
   "execution_count": null,
   "id": "a8f42cf6",
   "metadata": {},
   "outputs": [],
   "source": [
    "import chaste  # The PyChaste module\n",
    "import chaste.cell_based  # Contains cell populations\n",
    "import chaste.mesh  # Contains meshes\n",
    "import chaste.visualization  # Visualization tools\n",
    "from chaste.cell_based import AbstractCellBasedTestSuite"
   ]
  },
  {
   "cell_type": "markdown",
   "id": "fc129c7e",
   "metadata": {},
   "source": [
    "### Test 1 - A basic node-based simulation\n",
    "In the first test, we run a simple Potts-based simulation, in which we create a monolayer of cells, using a Potts mesh.\n",
    "Each cell is assigned a stochastic cell-cycle model.\n",
    "\n"
   ]
  },
  {
   "cell_type": "code",
   "execution_count": null,
   "id": "2561912f",
   "metadata": {},
   "outputs": [],
   "source": [
    "chaste.cell_based.SetupNotebookTest() # Set up the test"
   ]
  },
  {
   "cell_type": "markdown",
   "id": "ac6eb6a0",
   "metadata": {},
   "source": [
    "First, we generate a Potts mesh. To create a PottsMesh, we can use the PottsMeshGenerator.\n",
    "This generates a regular square-shaped mesh, in which all elements are the same size.\n",
    "Here the first three arguments specify the domain width; the number of elements across; and the width of elements.\n",
    "The second set of three arguments specify the domain height; the number of elements up; and the height of individual elements.\n",
    "We have chosen a 2 by 2 block of elements, each consisting of 4 by 4 ( = 16) lattice sites.\n",
    "\n"
   ]
  },
  {
   "cell_type": "code",
   "execution_count": null,
   "id": "ac430edb",
   "metadata": {},
   "outputs": [],
   "source": [
    "chaste.core.OutputFileHandler(\"Python/TestPottsBasedCellSimulationsTutorial\")\n",
    "generator = chaste.mesh.PottsMeshGenerator[2](50, 2, 4, 50, 2, 4)\n",
    "mesh = generator.GetMesh()"
   ]
  },
  {
   "cell_type": "markdown",
   "id": "c306e4a4",
   "metadata": {},
   "source": [
    "Having created a mesh, we now create a vector of CellPtrs. To do this, we the CellsGenerator helper class,\n",
    "which is templated over the type of cell model required and the dimension.\n",
    "We create an empty vector of cells and pass this into the method along with the mesh.\n",
    "The second argument represents the size of that the vector cells should become - one cell for each element.\n",
    "Third argument makes all cells proliferate.\n",
    "\n"
   ]
  },
  {
   "cell_type": "code",
   "execution_count": null,
   "id": "abd97c9f",
   "metadata": {},
   "outputs": [],
   "source": [
    "cell_generator = chaste.cell_based.CellsGenerator[\"UniformCellCycleModel\", 2]()\n",
    "cells = cell_generator.GenerateBasic(mesh.GetNumElements())"
   ]
  },
  {
   "cell_type": "markdown",
   "id": "4b27eca0",
   "metadata": {},
   "source": [
    "Now we have a mesh and a set of cells to go with it, we can create a CellPopulation.\n",
    "In general, this class associates a collection of cells with a mesh. For this test, because we have a PottsMesh,\n",
    "we use a particular type of cell population called a PottsBasedCellPopulation.\n",
    "\n"
   ]
  },
  {
   "cell_type": "code",
   "execution_count": null,
   "id": "c6b918a4",
   "metadata": {},
   "outputs": [],
   "source": [
    "cell_population = chaste.cell_based.PottsBasedCellPopulation[2](mesh, cells)"
   ]
  },
  {
   "cell_type": "markdown",
   "id": "580c3436",
   "metadata": {},
   "source": [
    "We can set the \"Temperature\" to be used in the Potts Simulation using the optional command below. The default value is 0.1.\n",
    "\n"
   ]
  },
  {
   "cell_type": "code",
   "execution_count": null,
   "id": "20d54c09",
   "metadata": {},
   "outputs": [],
   "source": [
    "cell_population.SetTemperature(0.1)"
   ]
  },
  {
   "cell_type": "markdown",
   "id": "ef669277",
   "metadata": {},
   "source": [
    "By default the Potts simulation will make 1 sweep over the whole domain per timestep.\n",
    "To use a different number of sweeps per timestep use the command.\n",
    "\n"
   ]
  },
  {
   "cell_type": "code",
   "execution_count": null,
   "id": "891e96b6",
   "metadata": {},
   "outputs": [],
   "source": [
    "cell_population.SetNumSweepsPerTimestep(1)"
   ]
  },
  {
   "cell_type": "markdown",
   "id": "5528de88",
   "metadata": {},
   "source": [
    "We can set up a `VtkScene` to do a quick visualization of the population before running the analysis.\n",
    "\n"
   ]
  },
  {
   "cell_type": "code",
   "execution_count": null,
   "id": "5a4019b5",
   "metadata": {},
   "outputs": [],
   "source": [
    "scene = chaste.visualization.VtkScene[2]()\n",
    "scene.SetCellPopulation(cell_population)\n",
    "scene.GetCellPopulationActorGenerator().SetShowPottsMeshEdges(True)\n",
    "nb_manager = chaste.visualization.JupyterNotebookManager()\n",
    "nb_manager.vtk_show(scene, height=600)"
   ]
  },
  {
   "cell_type": "markdown",
   "id": "b1bf5286",
   "metadata": {},
   "source": [
    "We then pass in the cell population into an `OffLatticeSimulation`, and set the output directory and end time\n",
    "\n"
   ]
  },
  {
   "cell_type": "code",
   "execution_count": null,
   "id": "e7c87604",
   "metadata": {},
   "outputs": [],
   "source": [
    "simulator = chaste.cell_based.OnLatticeSimulation[2](cell_population)\n",
    "simulator.SetOutputDirectory(\"Python/TestPottsBasedCellSimulationsTutorial\")\n",
    "simulator.SetEndTime(50.0)"
   ]
  },
  {
   "cell_type": "markdown",
   "id": "97e01697",
   "metadata": {},
   "source": [
    "The default timestep is 0.1, but can be changed using the below command. The timestep is used in conjunction with the \"Temperature\"\n",
    "and number of sweeps per timestep to specify the relationship between cell movement and proliferation.\n",
    "We also set the simulation to only output every 10 steps i.e. once per hour.\n",
    "\n"
   ]
  },
  {
   "cell_type": "code",
   "execution_count": null,
   "id": "7a78520f",
   "metadata": {},
   "outputs": [],
   "source": [
    "simulator.SetDt(0.1)\n",
    "simulator.SetSamplingTimestepMultiple(10)"
   ]
  },
  {
   "cell_type": "markdown",
   "id": "dcf63268",
   "metadata": {},
   "source": [
    "We must now create one or more update rules, which determine the Hamiltonian in the Potts simulation.\n",
    "For this test, we use two update rules based upon a volume constraint (VolumeConstraintPottsUpdateRule)\n",
    "and adhesion between cells (AdhesionPottsUpdateRule) and pass them to the OnLatticeSimulation.\n",
    "For a list of possible update rules see subclasses of AbstractPottsUpdateRule.\n",
    "\n"
   ]
  },
  {
   "cell_type": "code",
   "execution_count": null,
   "id": "e4ef4223",
   "metadata": {},
   "outputs": [],
   "source": [
    "volume_constraint_update_rule = (\n",
    "    chaste.cell_based.VolumeConstraintPottsUpdateRule[2]()\n",
    ")"
   ]
  },
  {
   "cell_type": "markdown",
   "id": "3014f784",
   "metadata": {},
   "source": [
    "Set an appropriate target volume in number of lattice sites. Here we use the default value of 16 lattice sites.\n",
    "\n"
   ]
  },
  {
   "cell_type": "code",
   "execution_count": null,
   "id": "f2287588",
   "metadata": {},
   "outputs": [],
   "source": [
    "volume_constraint_update_rule.SetMatureCellTargetVolume(16)"
   ]
  },
  {
   "cell_type": "markdown",
   "id": "65e165c9",
   "metadata": {},
   "source": [
    "You can also vary the deformation energy parameter.\n",
    "The larger the parameter the more cells will try to maintain target volume. Here we use the default value of 0.2.\n",
    "\n"
   ]
  },
  {
   "cell_type": "code",
   "execution_count": null,
   "id": "3a55805d",
   "metadata": {},
   "outputs": [],
   "source": [
    "volume_constraint_update_rule.SetDeformationEnergyParameter(0.2)"
   ]
  },
  {
   "cell_type": "markdown",
   "id": "036f0e47",
   "metadata": {},
   "source": [
    "Finally we add the update rule to the simulator.\n",
    "\n"
   ]
  },
  {
   "cell_type": "code",
   "execution_count": null,
   "id": "078b2e03",
   "metadata": {},
   "outputs": [],
   "source": [
    "simulator.AddUpdateRule(volume_constraint_update_rule)"
   ]
  },
  {
   "cell_type": "markdown",
   "id": "805807c5",
   "metadata": {},
   "source": [
    "We repeat the process for any other update rules.\n",
    "\n"
   ]
  },
  {
   "cell_type": "code",
   "execution_count": null,
   "id": "7b701f24",
   "metadata": {},
   "outputs": [],
   "source": [
    "adhesion_update_rule = chaste.cell_based.AdhesionPottsUpdateRule[2]()\n",
    "simulator.AddUpdateRule(adhesion_update_rule)"
   ]
  },
  {
   "cell_type": "markdown",
   "id": "6b18f697",
   "metadata": {},
   "source": [
    "Save snapshot images of the population during the simulation\n",
    "\n"
   ]
  },
  {
   "cell_type": "code",
   "execution_count": null,
   "id": "d55afabf",
   "metadata": {},
   "outputs": [],
   "source": [
    "scene_modifier = chaste.cell_based.VtkSceneModifier[2]()\n",
    "scene_modifier.SetVtkScene(scene)\n",
    "scene_modifier.SetUpdateFrequency(100)\n",
    "simulator.AddSimulationModifier(scene_modifier)"
   ]
  },
  {
   "cell_type": "markdown",
   "id": "3daacfc4",
   "metadata": {},
   "source": [
    "To run the simulation, we call `Solve()`. We can again do a quick rendering of the population at the end of the simulation\n",
    "\n"
   ]
  },
  {
   "cell_type": "code",
   "execution_count": null,
   "id": "6ea1ed67",
   "metadata": {},
   "outputs": [],
   "source": [
    "scene.Start()\n",
    "simulator.Solve()"
   ]
  },
  {
   "cell_type": "markdown",
   "id": "c6f753ed",
   "metadata": {},
   "source": [
    "The next two lines are for test purposes only and are not part of this tutorial.\n",
    "If different simulation input parameters are being explored the lines should be removed.\n",
    "\n"
   ]
  },
  {
   "cell_type": "code",
   "execution_count": null,
   "id": "126e32e5",
   "metadata": {},
   "outputs": [],
   "source": [
    "    chaste.cell_based.SimulationTime.Instance().GetTime(), 50.0, 6\n",
    ")\n",
    "chaste.cell_based.TearDownNotebookTest() # Tear down the test"
   ]
  },
  {
   "cell_type": "markdown",
   "id": "e4524ec3",
   "metadata": {},
   "source": [
    "### Test 2 - Cell sorting\n",
    "The next test generates a collection of cells, there are two types of cells, labelled ones and non labelled ones,\n",
    "there is differential adhesion between the cell types. For the parameters specified, the cells sort into separate types.\n",
    "\n"
   ]
  },
  {
   "cell_type": "code",
   "execution_count": null,
   "id": "1d2ba8bc",
   "metadata": {},
   "outputs": [],
   "source": [
    "chaste.cell_based.SetupNotebookTest() # Set up the test"
   ]
  },
  {
   "cell_type": "markdown",
   "id": "964c4782",
   "metadata": {},
   "source": [
    "First, we generate a Potts mesh. To create a PottsMesh, we can use the PottsMeshGenerator.\n",
    "This generates a regular square-shaped mesh, in which all elements are the same size.\n",
    "We have chosen an 8 by 8 block of elements each consisting of 4 by 4 ( = 16) lattice sites.\n",
    "\n"
   ]
  },
  {
   "cell_type": "code",
   "execution_count": null,
   "id": "10a49e5f",
   "metadata": {},
   "outputs": [],
   "source": [
    "generator = chaste.mesh.PottsMeshGenerator[2](50, 8, 4, 50, 8, 4)\n",
    "mesh = generator.GetMesh()"
   ]
  },
  {
   "cell_type": "markdown",
   "id": "6bfd1d8c",
   "metadata": {},
   "source": [
    "Having created a mesh, we now create a VectorSharedPtrCells. To do this, we the CellsGenerator helper class,\n",
    "as before but this time the third argument is set to make all cells non-proliferative.\n",
    "\n"
   ]
  },
  {
   "cell_type": "code",
   "execution_count": null,
   "id": "abb1a35f",
   "metadata": {},
   "outputs": [],
   "source": [
    "differentiated_type = chaste.cell_based.DifferentiatedCellProliferativeType()\n",
    "cell_generator = chaste.cell_based.CellsGenerator[\"UniformCellCycleModel\", 2]()\n",
    "cells = cell_generator.GenerateBasicRandom(\n",
    "    mesh.GetNumElements(), differentiated_type\n",
    ")"
   ]
  },
  {
   "cell_type": "markdown",
   "id": "aa8319e0",
   "metadata": {},
   "source": [
    "Before we make a CellPopulation we make a cell label and then assign this label to some randomly chosen cells.\n",
    "\n"
   ]
  },
  {
   "cell_type": "code",
   "execution_count": null,
   "id": "3552d0f1",
   "metadata": {},
   "outputs": [],
   "source": [
    "label = chaste.cell_based.CellLabel()\n",
    "for eachCell in cells:\n",
    "    if chaste.core.RandomNumberGenerator.Instance().ranf() < 0.5:\n",
    "        eachCell.AddCellProperty(label)"
   ]
  },
  {
   "cell_type": "markdown",
   "id": "6174a63d",
   "metadata": {},
   "source": [
    "Now we have a mesh and a set of cells to go with it, we can create a CellPopulation.\n",
    "\n"
   ]
  },
  {
   "cell_type": "code",
   "execution_count": null,
   "id": "13fbb188",
   "metadata": {},
   "outputs": [],
   "source": [
    "cell_population = chaste.cell_based.PottsBasedCellPopulation[2](mesh, cells)"
   ]
  },
  {
   "cell_type": "markdown",
   "id": "1ca8a421",
   "metadata": {},
   "source": [
    "In order to visualize labelled cells we need to use the following command.\n",
    "\n"
   ]
  },
  {
   "cell_type": "code",
   "execution_count": null,
   "id": "62e54048",
   "metadata": {},
   "outputs": [],
   "source": [
    "cell_population.AddCellWriterCellLabelWriter()"
   ]
  },
  {
   "cell_type": "markdown",
   "id": "a3861a7a",
   "metadata": {},
   "source": [
    "We then pass in the cell population into an `OffLatticeSimulation`, and set the output directory and end time\n",
    "\n"
   ]
  },
  {
   "cell_type": "code",
   "execution_count": null,
   "id": "bee3b79d",
   "metadata": {},
   "outputs": [],
   "source": [
    "simulator = chaste.cell_based.OnLatticeSimulation[2](cell_population)\n",
    "simulator.SetOutputDirectory(\"Python/TestPottsBasedCellSorting\")\n",
    "simulator.SetEndTime(20.0)\n",
    "simulator.SetSamplingTimestepMultiple(10)"
   ]
  },
  {
   "cell_type": "markdown",
   "id": "d94f18e5",
   "metadata": {},
   "source": [
    "We must now create one or more update rules, which determine the Hamiltonian in the Potts simulation.\n",
    "For this test, we use two update rules based upon a volume constraint (VolumeConstraintPottsUpdateRule) and\n",
    "differential adhesion between cells (DifferentialAdhesionPottsUpdateRule), set appropriate parameters, and\n",
    "pass them to the OnLatticeSimulation.\n",
    "\n"
   ]
  },
  {
   "cell_type": "code",
   "execution_count": null,
   "id": "eb48057d",
   "metadata": {},
   "outputs": [],
   "source": [
    "volume_constraint_update_rule = (\n",
    "    chaste.cell_based.VolumeConstraintPottsUpdateRule[2]()\n",
    ")\n",
    "volume_constraint_update_rule.SetMatureCellTargetVolume(16)\n",
    "volume_constraint_update_rule.SetDeformationEnergyParameter(0.2)\n",
    "simulator.AddUpdateRule(volume_constraint_update_rule)"
   ]
  },
  {
   "cell_type": "markdown",
   "id": "12416bf9",
   "metadata": {},
   "source": [
    "We repeat the process for any other update rules.\n",
    "\n"
   ]
  },
  {
   "cell_type": "code",
   "execution_count": null,
   "id": "f22f99d7",
   "metadata": {},
   "outputs": [],
   "source": [
    "differential_adhesion_update_rule = (\n",
    "    chaste.cell_based.DifferentialAdhesionPottsUpdateRule[2]()\n",
    ")\n",
    "differential_adhesion_update_rule.SetLabelledCellLabelledCellAdhesionEnergyParameter(\n",
    "    0.16\n",
    ")\n",
    "differential_adhesion_update_rule.SetLabelledCellCellAdhesionEnergyParameter(\n",
    "    0.11\n",
    ")\n",
    "differential_adhesion_update_rule.SetCellCellAdhesionEnergyParameter(0.02)\n",
    "differential_adhesion_update_rule.SetLabelledCellBoundaryAdhesionEnergyParameter(\n",
    "    0.16\n",
    ")\n",
    "differential_adhesion_update_rule.SetCellBoundaryAdhesionEnergyParameter(0.16)\n",
    "simulator.AddUpdateRule(differential_adhesion_update_rule)"
   ]
  },
  {
   "cell_type": "markdown",
   "id": "f15d60bb",
   "metadata": {},
   "source": [
    "To run the simulation, we call `Solve()`.\n",
    "\n"
   ]
  },
  {
   "cell_type": "code",
   "execution_count": null,
   "id": "f99fcbbf",
   "metadata": {},
   "outputs": [],
   "source": [
    "simulator.Solve()"
   ]
  },
  {
   "cell_type": "markdown",
   "id": "d1b580dc",
   "metadata": {},
   "source": [
    "The next two lines are for test purposes only and are not part of this tutorial.\n",
    "If different simulation input parameters are being explored the lines should be removed.\n",
    "\n"
   ]
  },
  {
   "cell_type": "code",
   "execution_count": null,
   "id": "f5d3bcab",
   "metadata": {},
   "outputs": [],
   "source": [
    "    chaste.cell_based.SimulationTime.Instance().GetTime(), 20.0, 6\n",
    ")\n",
    "chaste.cell_based.TearDownNotebookTest() # Tear down the test"
   ]
  },
  {
   "cell_type": "markdown",
   "id": "98489620",
   "metadata": {},
   "source": [
    "### Test 3 - 3D Cell Sorting\n",
    "The next test extends the previous example to three dimensions.\n",
    "\n"
   ]
  },
  {
   "cell_type": "code",
   "execution_count": null,
   "id": "bce90dba",
   "metadata": {},
   "outputs": [],
   "source": [
    "chaste.cell_based.SetupNotebookTest() # Set up the test"
   ]
  },
  {
   "cell_type": "markdown",
   "id": "871db00e",
   "metadata": {},
   "source": [
    "First, we generate a Potts mesh. To create a PottsMesh, we can use the PottsMeshGenerator.\n",
    "This generates a regular square-shaped mesh, in which all elements are the same size.\n",
    "Here the first three arguments specify the domain width; the number of elements across; and the width of elements.\n",
    "The second set of three arguments specify the domain height; the number of elements up; and the height of individual elements.\n",
    "The third set of three arguments specify the domain depth; the number of elements deep; and the depth of individual elements.\n",
    "We have chosen an 4 by 4 by 4 ( = 64) block of elements each consisting of 2 by 2 by 2 ( = 8) lattice sites.\n",
    "\n"
   ]
  },
  {
   "cell_type": "code",
   "execution_count": null,
   "id": "2455c301",
   "metadata": {},
   "outputs": [],
   "source": [
    "generator = chaste.mesh.PottsMeshGenerator[3](10, 4, 2, 10, 4, 2, 10, 4, 2)\n",
    "mesh = generator.GetMesh()"
   ]
  },
  {
   "cell_type": "markdown",
   "id": "65b74199",
   "metadata": {},
   "source": [
    "Having created a mesh, we now create a VectorSharedPtrCells. To do this, we the CellsGenerator helper class,\n",
    "as before but this time the third argument is set to make all cells non-proliferative.\n",
    "\n"
   ]
  },
  {
   "cell_type": "code",
   "execution_count": null,
   "id": "01ffffc9",
   "metadata": {},
   "outputs": [],
   "source": [
    "differentiated_type = chaste.cell_based.DifferentiatedCellProliferativeType()\n",
    "cell_generator = chaste.cell_based.CellsGenerator[\"UniformCellCycleModel\", 3]()\n",
    "cells = cell_generator.GenerateBasicRandom(\n",
    "    mesh.GetNumElements(), differentiated_type\n",
    ")"
   ]
  },
  {
   "cell_type": "markdown",
   "id": "8830a549",
   "metadata": {},
   "source": [
    "As for the 2D case before we make a CellPopulation we make a pointer to a cell label and then assign this label to some randomly chosen cells.\n",
    "\n"
   ]
  },
  {
   "cell_type": "code",
   "execution_count": null,
   "id": "fb2bd588",
   "metadata": {},
   "outputs": [],
   "source": [
    "label = chaste.cell_based.CellLabel()\n",
    "for eachCell in cells:\n",
    "    if chaste.core.RandomNumberGenerator.Instance().ranf() < 0.5:\n",
    "        eachCell.AddCellProperty(label)"
   ]
  },
  {
   "cell_type": "markdown",
   "id": "cf5a93d0",
   "metadata": {},
   "source": [
    "Now we have a mesh and a set of cells to go with it, we can create a CellPopulation.\n",
    "\n"
   ]
  },
  {
   "cell_type": "code",
   "execution_count": null,
   "id": "a836a754",
   "metadata": {},
   "outputs": [],
   "source": [
    "cell_population = chaste.cell_based.PottsBasedCellPopulation[3](mesh, cells)"
   ]
  },
  {
   "cell_type": "markdown",
   "id": "b1b17bde",
   "metadata": {},
   "source": [
    "In order to visualize labelled cells we need to use the following command.\n",
    "\n"
   ]
  },
  {
   "cell_type": "code",
   "execution_count": null,
   "id": "8157e272",
   "metadata": {},
   "outputs": [],
   "source": [
    "cell_population.AddCellWriterCellLabelWriter()"
   ]
  },
  {
   "cell_type": "markdown",
   "id": "c94ae51b",
   "metadata": {},
   "source": [
    "We then pass in the cell population into an `OffLatticeSimulation`, and set the output directory and end time\n",
    "\n"
   ]
  },
  {
   "cell_type": "code",
   "execution_count": null,
   "id": "34a8d19a",
   "metadata": {},
   "outputs": [],
   "source": [
    "simulator = chaste.cell_based.OnLatticeSimulation[3](cell_population)\n",
    "simulator.SetOutputDirectory(\"Python/TestPottsBasedCellSorting3D\")\n",
    "simulator.SetEndTime(20.0)\n",
    "simulator.SetSamplingTimestepMultiple(10)"
   ]
  },
  {
   "cell_type": "markdown",
   "id": "0c9e4e43",
   "metadata": {},
   "source": [
    "We must now create one or more update rules, which determine the Hamiltonian in the Potts simulation.\n",
    "Now set the target volume to be appropriate for this 3D simulation.\n",
    "\n"
   ]
  },
  {
   "cell_type": "code",
   "execution_count": null,
   "id": "72f714bb",
   "metadata": {},
   "outputs": [],
   "source": [
    "volume_constraint_update_rule = (\n",
    "    chaste.cell_based.VolumeConstraintPottsUpdateRule[3]()\n",
    ")\n",
    "volume_constraint_update_rule.SetMatureCellTargetVolume(8)\n",
    "volume_constraint_update_rule.SetDeformationEnergyParameter(0.2)\n",
    "simulator.AddUpdateRule(volume_constraint_update_rule)"
   ]
  },
  {
   "cell_type": "markdown",
   "id": "6a4695d7",
   "metadata": {},
   "source": [
    "We use the same differential adhesion parameters as in the 2D case.\n",
    "\n"
   ]
  },
  {
   "cell_type": "code",
   "execution_count": null,
   "id": "aa76d860",
   "metadata": {},
   "outputs": [],
   "source": [
    "differential_adhesion_update_rule = (\n",
    "    chaste.cell_based.DifferentialAdhesionPottsUpdateRule[3]()\n",
    ")\n",
    "differential_adhesion_update_rule.SetLabelledCellLabelledCellAdhesionEnergyParameter(\n",
    "    0.16\n",
    ")\n",
    "differential_adhesion_update_rule.SetLabelledCellCellAdhesionEnergyParameter(\n",
    "    0.11\n",
    ")\n",
    "differential_adhesion_update_rule.SetCellCellAdhesionEnergyParameter(0.02)\n",
    "differential_adhesion_update_rule.SetLabelledCellBoundaryAdhesionEnergyParameter(\n",
    "    0.16\n",
    ")\n",
    "differential_adhesion_update_rule.SetCellBoundaryAdhesionEnergyParameter(0.16)\n",
    "simulator.AddUpdateRule(differential_adhesion_update_rule)"
   ]
  },
  {
   "cell_type": "markdown",
   "id": "bd683289",
   "metadata": {},
   "source": [
    "To run the simulation, we call `Solve()`.\n",
    "\n"
   ]
  },
  {
   "cell_type": "code",
   "execution_count": null,
   "id": "37075a6c",
   "metadata": {},
   "outputs": [],
   "source": [
    "simulator.Solve()"
   ]
  },
  {
   "cell_type": "markdown",
   "id": "4da2fa24",
   "metadata": {},
   "source": [
    "The next two lines are for test purposes only and are not part of this tutorial.\n",
    "If different simulation input parameters are being explored the lines should be removed.\n",
    "\n"
   ]
  },
  {
   "cell_type": "code",
   "execution_count": null,
   "id": "fa6a9e1a",
   "metadata": {},
   "outputs": [],
   "source": [
    "    chaste.cell_based.SimulationTime.Instance().GetTime(), 20.0, 6\n",
    ")\n",
    "chaste.cell_based.TearDownNotebookTest() # Tear down the test"
   ]
  }
 ],
 "metadata": {},
 "nbformat": 4,
 "nbformat_minor": 5
}
