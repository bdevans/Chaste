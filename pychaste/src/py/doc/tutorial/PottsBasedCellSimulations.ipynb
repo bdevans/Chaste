{
 "cells": [
  {
   "cell_type": "markdown",
   "id": "c40cfd30",
   "metadata": {},
   "source": [
    "This tutorial is automatically generated from [TestPyPottsBasedCellSimulationsTutorial.py](https://github.com/Chaste/Chaste/blob/develop/pychaste/test/tutorial/TestPyPottsBasedCellSimulationsTutorial.py) at revision [5494648e74e5](https://github.com/Chaste/Chaste/commit/5494648e74e52d7e7ae7730fdde6a6eae46829cf)."
   ]
  },
  {
   "cell_type": "markdown",
   "id": "530cc3f7",
   "metadata": {},
   "source": [
    "\n",
    "## Introduction\n",
    "In this tutorial we show how Chaste can be used to create, run and visualize Potts-based simulations.\n",
    "Full details of the mathematical model can be found in Graner, F. and Glazier, J. A. (1992).\n",
    "\n",
    "## The Test\n",
    "\n"
   ]
  },
  {
   "cell_type": "code",
   "execution_count": null,
   "id": "cb1e3969",
   "metadata": {},
   "outputs": [],
   "source": [
    "import chaste  # The PyChaste module\n",
    "import chaste.cell_based  # Contains cell populations\n",
    "import chaste.mesh  # Contains meshes\n",
    "import chaste.visualization  # Visualization tools\n",
    "from chaste.cell_based import AbstractCellBasedTestSuite"
   ]
  },
  {
   "cell_type": "markdown",
   "id": "d71d9ad8",
   "metadata": {},
   "source": [
    "### Test 1 - A basic node-based simulation\n",
    "In the first test, we run a simple Potts-based simulation, in which we create a monolayer of cells, using a Potts mesh.\n",
    "Each cell is assigned a stochastic cell-cycle model.\n",
    "\n"
   ]
  },
  {
   "cell_type": "code",
   "execution_count": null,
   "id": "ff75b891",
   "metadata": {},
   "outputs": [],
   "source": [
    "chaste.cell_based.SetupNotebookTest() # Set up the test"
   ]
  },
  {
   "cell_type": "markdown",
   "id": "13125736",
   "metadata": {},
   "source": [
    "First, we generate a Potts mesh. To create a PottsMesh, we can use the PottsMeshGenerator.\n",
    "This generates a regular square-shaped mesh, in which all elements are the same size.\n",
    "Here the first three arguments specify the domain width; the number of elements across; and the width of elements.\n",
    "The second set of three arguments specify the domain height; the number of elements up; and the height of individual elements.\n",
    "We have chosen a 2 by 2 block of elements, each consisting of 4 by 4 ( = 16) lattice sites.\n",
    "\n"
   ]
  },
  {
   "cell_type": "code",
   "execution_count": null,
   "id": "f9785eef",
   "metadata": {},
   "outputs": [],
   "source": [
    "chaste.core.OutputFileHandler(\"Python/TestPottsBasedCellSimulationsTutorial\")\n",
    "generator = chaste.mesh.PottsMeshGenerator_2(50, 2, 4, 50, 2, 4)\n",
    "mesh = generator.GetMesh()"
   ]
  },
  {
   "cell_type": "markdown",
   "id": "7d830fce",
   "metadata": {},
   "source": [
    "Having created a mesh, we now create a vector of CellPtrs. To do this, we the CellsGenerator helper class,\n",
    "which is templated over the type of cell model required and the dimension.\n",
    "We create an empty vector of cells and pass this into the method along with the mesh.\n",
    "The second argument represents the size of that the vector cells should become - one cell for each element.\n",
    "Third argument makes all cells proliferate.\n",
    "\n"
   ]
  },
  {
   "cell_type": "code",
   "execution_count": null,
   "id": "f880f766",
   "metadata": {},
   "outputs": [],
   "source": [
    "cell_generator = chaste.cell_based.CellsGenerator_UniformCellCycleModel_2()\n",
    "cells = cell_generator.GenerateBasic(mesh.GetNumElements())"
   ]
  },
  {
   "cell_type": "markdown",
   "id": "819dd524",
   "metadata": {},
   "source": [
    "Now we have a mesh and a set of cells to go with it, we can create a CellPopulation.\n",
    "In general, this class associates a collection of cells with a mesh. For this test, because we have a PottsMesh,\n",
    "we use a particular type of cell population called a PottsBasedCellPopulation.\n",
    "\n"
   ]
  },
  {
   "cell_type": "code",
   "execution_count": null,
   "id": "ab9641e6",
   "metadata": {},
   "outputs": [],
   "source": [
    "cell_population = chaste.cell_based.PottsBasedCellPopulation_2(mesh, cells)"
   ]
  },
  {
   "cell_type": "markdown",
   "id": "5d63ec67",
   "metadata": {},
   "source": [
    "We can set the \"Temperature\" to be used in the Potts Simulation using the optional command below. The default value is 0.1.\n",
    "\n"
   ]
  },
  {
   "cell_type": "code",
   "execution_count": null,
   "id": "5ce1e0dd",
   "metadata": {},
   "outputs": [],
   "source": [
    "cell_population.SetTemperature(0.1)"
   ]
  },
  {
   "cell_type": "markdown",
   "id": "f460d0c9",
   "metadata": {},
   "source": [
    "By default the Potts simulation will make 1 sweep over the whole domain per timestep.\n",
    "To use a different number of sweeps per timestep use the command.\n",
    "\n"
   ]
  },
  {
   "cell_type": "code",
   "execution_count": null,
   "id": "83e080b3",
   "metadata": {},
   "outputs": [],
   "source": [
    "cell_population.SetNumSweepsPerTimestep(1)"
   ]
  },
  {
   "cell_type": "markdown",
   "id": "9dc532eb",
   "metadata": {},
   "source": [
    "We can set up a `VtkScene` to do a quick visualization of the population before running the analysis.\n",
    "\n"
   ]
  },
  {
   "cell_type": "code",
   "execution_count": null,
   "id": "e7253a86",
   "metadata": {},
   "outputs": [],
   "source": [
    "scene = chaste.visualization.VtkScene_2()\n",
    "scene.SetCellPopulation(cell_population)\n",
    "scene.GetCellPopulationActorGenerator().SetShowPottsMeshEdges(True)\n",
    "nb_manager = chaste.visualization.JupyterNotebookManager()\n",
    "nb_manager.vtk_show(scene, height=600)"
   ]
  },
  {
   "cell_type": "markdown",
   "id": "4cecbf68",
   "metadata": {},
   "source": [
    "We then pass in the cell population into an `OffLatticeSimulation`, and set the output directory and end time\n",
    "\n"
   ]
  },
  {
   "cell_type": "code",
   "execution_count": null,
   "id": "a951aedc",
   "metadata": {},
   "outputs": [],
   "source": [
    "simulator = chaste.cell_based.OnLatticeSimulation_2(cell_population)\n",
    "simulator.SetOutputDirectory(\"Python/TestPottsBasedCellSimulationsTutorial\")\n",
    "simulator.SetEndTime(50.0)"
   ]
  },
  {
   "cell_type": "markdown",
   "id": "49a0d8a2",
   "metadata": {},
   "source": [
    "The default timestep is 0.1, but can be changed using the below command. The timestep is used in conjunction with the \"Temperature\"\n",
    "and number of sweeps per timestep to specify the relationship between cell movement and proliferation.\n",
    "We also set the simulation to only output every 10 steps i.e. once per hour.\n",
    "\n"
   ]
  },
  {
   "cell_type": "code",
   "execution_count": null,
   "id": "e4e0f4d7",
   "metadata": {},
   "outputs": [],
   "source": [
    "simulator.SetDt(0.1)\n",
    "simulator.SetSamplingTimestepMultiple(10)"
   ]
  },
  {
   "cell_type": "markdown",
   "id": "6d3e7cb2",
   "metadata": {},
   "source": [
    "We must now create one or more update rules, which determine the Hamiltonian in the Potts simulation.\n",
    "For this test, we use two update rules based upon a volume constraint (VolumeConstraintPottsUpdateRule)\n",
    "and adhesion between cells (AdhesionPottsUpdateRule) and pass them to the OnLatticeSimulation.\n",
    "For a list of possible update rules see subclasses of AbstractPottsUpdateRule.\n",
    "\n"
   ]
  },
  {
   "cell_type": "code",
   "execution_count": null,
   "id": "faae9c02",
   "metadata": {},
   "outputs": [],
   "source": [
    "volume_constraint_update_rule = (\n",
    "    chaste.cell_based.VolumeConstraintPottsUpdateRule_2()\n",
    ")"
   ]
  },
  {
   "cell_type": "markdown",
   "id": "51cbff74",
   "metadata": {},
   "source": [
    "Set an appropriate target volume in number of lattice sites. Here we use the default value of 16 lattice sites.\n",
    "\n"
   ]
  },
  {
   "cell_type": "code",
   "execution_count": null,
   "id": "ca13f459",
   "metadata": {},
   "outputs": [],
   "source": [
    "volume_constraint_update_rule.SetMatureCellTargetVolume(16)"
   ]
  },
  {
   "cell_type": "markdown",
   "id": "addc18e9",
   "metadata": {},
   "source": [
    "You can also vary the deformation energy parameter.\n",
    "The larger the parameter the more cells will try to maintain target volume. Here we use the default value of 0.2.\n",
    "\n"
   ]
  },
  {
   "cell_type": "code",
   "execution_count": null,
   "id": "529ae46f",
   "metadata": {},
   "outputs": [],
   "source": [
    "volume_constraint_update_rule.SetDeformationEnergyParameter(0.2)"
   ]
  },
  {
   "cell_type": "markdown",
   "id": "c95192df",
   "metadata": {},
   "source": [
    "Finally we add the update rule to the simulator.\n",
    "\n"
   ]
  },
  {
   "cell_type": "code",
   "execution_count": null,
   "id": "780b9a39",
   "metadata": {},
   "outputs": [],
   "source": [
    "simulator.AddUpdateRule(volume_constraint_update_rule)"
   ]
  },
  {
   "cell_type": "markdown",
   "id": "01a5d02f",
   "metadata": {},
   "source": [
    "We repeat the process for any other update rules.\n",
    "\n"
   ]
  },
  {
   "cell_type": "code",
   "execution_count": null,
   "id": "64e256c0",
   "metadata": {},
   "outputs": [],
   "source": [
    "adhesion_update_rule = chaste.cell_based.AdhesionPottsUpdateRule_2()\n",
    "simulator.AddUpdateRule(adhesion_update_rule)"
   ]
  },
  {
   "cell_type": "markdown",
   "id": "afdeb0ba",
   "metadata": {},
   "source": [
    "Save snapshot images of the population during the simulation\n",
    "\n"
   ]
  },
  {
   "cell_type": "code",
   "execution_count": null,
   "id": "4fd05318",
   "metadata": {},
   "outputs": [],
   "source": [
    "scene_modifier = chaste.visualization.JupyterSceneModifier_2(nb_manager)\n",
    "scene_modifier.SetVtkScene(scene)\n",
    "scene_modifier.SetUpdateFrequency(100)\n",
    "simulator.AddSimulationModifier(scene_modifier)"
   ]
  },
  {
   "cell_type": "markdown",
   "id": "fa69c260",
   "metadata": {},
   "source": [
    "To run the simulation, we call `Solve()`. We can again do a quick rendering of the population at the end of the simulation\n",
    "\n"
   ]
  },
  {
   "cell_type": "code",
   "execution_count": null,
   "id": "2c6eab59",
   "metadata": {},
   "outputs": [],
   "source": [
    "scene.Start()\n",
    "simulator.Solve()"
   ]
  },
  {
   "cell_type": "markdown",
   "id": "ef83b68a",
   "metadata": {},
   "source": [
    "The next two lines are for test purposes only and are not part of this tutorial.\n",
    "If different simulation input parameters are being explored the lines should be removed.\n",
    "\n"
   ]
  },
  {
   "cell_type": "code",
   "execution_count": null,
   "id": "b38d71e3",
   "metadata": {},
   "outputs": [],
   "source": [
    "    chaste.cell_based.SimulationTime.Instance().GetTime(), 50.0, 6\n",
    ")\n",
    "chaste.cell_based.TearDownNotebookTest() # Tear down the test"
   ]
  },
  {
   "cell_type": "markdown",
   "id": "0030d887",
   "metadata": {},
   "source": [
    "### Test 2 - Cell sorting\n",
    "The next test generates a collection of cells, there are two types of cells, labelled ones and non labelled ones,\n",
    "there is differential adhesion between the cell types. For the parameters specified, the cells sort into separate types.\n",
    "\n"
   ]
  },
  {
   "cell_type": "code",
   "execution_count": null,
   "id": "b2af496f",
   "metadata": {},
   "outputs": [],
   "source": [
    "chaste.cell_based.SetupNotebookTest() # Set up the test"
   ]
  },
  {
   "cell_type": "markdown",
   "id": "9c43da5b",
   "metadata": {},
   "source": [
    "First, we generate a Potts mesh. To create a PottsMesh, we can use the PottsMeshGenerator.\n",
    "This generates a regular square-shaped mesh, in which all elements are the same size.\n",
    "We have chosen an 8 by 8 block of elements each consisting of 4 by 4 ( = 16) lattice sites.\n",
    "\n"
   ]
  },
  {
   "cell_type": "code",
   "execution_count": null,
   "id": "afcb142b",
   "metadata": {},
   "outputs": [],
   "source": [
    "generator = chaste.mesh.PottsMeshGenerator_2(50, 8, 4, 50, 8, 4)\n",
    "mesh = generator.GetMesh()"
   ]
  },
  {
   "cell_type": "markdown",
   "id": "c4ed51dd",
   "metadata": {},
   "source": [
    "Having created a mesh, we now create a VectorSharedPtrCells. To do this, we the CellsGenerator helper class,\n",
    "as before but this time the third argument is set to make all cells non-proliferative.\n",
    "\n"
   ]
  },
  {
   "cell_type": "code",
   "execution_count": null,
   "id": "850ec316",
   "metadata": {},
   "outputs": [],
   "source": [
    "differentiated_type = chaste.cell_based.DifferentiatedCellProliferativeType()\n",
    "cell_generator = chaste.cell_based.CellsGenerator_UniformCellCycleModel_2()\n",
    "cells = cell_generator.GenerateBasicRandom(\n",
    "    mesh.GetNumElements(), differentiated_type\n",
    ")"
   ]
  },
  {
   "cell_type": "markdown",
   "id": "86e8953d",
   "metadata": {},
   "source": [
    "Before we make a CellPopulation we make a cell label and then assign this label to some randomly chosen cells.\n",
    "\n"
   ]
  },
  {
   "cell_type": "code",
   "execution_count": null,
   "id": "2de4c827",
   "metadata": {},
   "outputs": [],
   "source": [
    "label = chaste.cell_based.CellLabel()\n",
    "for eachCell in cells:\n",
    "    if chaste.core.RandomNumberGenerator.Instance().ranf() < 0.5:\n",
    "        eachCell.AddCellProperty(label)"
   ]
  },
  {
   "cell_type": "markdown",
   "id": "bd5dc98c",
   "metadata": {},
   "source": [
    "Now we have a mesh and a set of cells to go with it, we can create a CellPopulation.\n",
    "\n"
   ]
  },
  {
   "cell_type": "code",
   "execution_count": null,
   "id": "f702c6ec",
   "metadata": {},
   "outputs": [],
   "source": [
    "cell_population = chaste.cell_based.PottsBasedCellPopulation_2(mesh, cells)"
   ]
  },
  {
   "cell_type": "markdown",
   "id": "6ff8d1bb",
   "metadata": {},
   "source": [
    "In order to visualize labelled cells we need to use the following command.\n",
    "\n"
   ]
  },
  {
   "cell_type": "code",
   "execution_count": null,
   "id": "c0b98a7d",
   "metadata": {},
   "outputs": [],
   "source": [
    "cell_population.AddCellWriterCellLabelWriter()"
   ]
  },
  {
   "cell_type": "markdown",
   "id": "a69be0ec",
   "metadata": {},
   "source": [
    "We then pass in the cell population into an `OffLatticeSimulation`, and set the output directory and end time\n",
    "\n"
   ]
  },
  {
   "cell_type": "code",
   "execution_count": null,
   "id": "92dd7c32",
   "metadata": {},
   "outputs": [],
   "source": [
    "simulator = chaste.cell_based.OnLatticeSimulation_2(cell_population)\n",
    "simulator.SetOutputDirectory(\"Python/TestPottsBasedCellSorting\")\n",
    "simulator.SetEndTime(20.0)\n",
    "simulator.SetSamplingTimestepMultiple(10)"
   ]
  },
  {
   "cell_type": "markdown",
   "id": "1c41ecfa",
   "metadata": {},
   "source": [
    "We must now create one or more update rules, which determine the Hamiltonian in the Potts simulation.\n",
    "For this test, we use two update rules based upon a volume constraint (VolumeConstraintPottsUpdateRule) and\n",
    "differential adhesion between cells (DifferentialAdhesionPottsUpdateRule), set appropriate parameters, and\n",
    "pass them to the OnLatticeSimulation.\n",
    "\n"
   ]
  },
  {
   "cell_type": "code",
   "execution_count": null,
   "id": "6d8ddf1a",
   "metadata": {},
   "outputs": [],
   "source": [
    "volume_constraint_update_rule = (\n",
    "    chaste.cell_based.VolumeConstraintPottsUpdateRule_2()\n",
    ")\n",
    "volume_constraint_update_rule.SetMatureCellTargetVolume(16)\n",
    "volume_constraint_update_rule.SetDeformationEnergyParameter(0.2)\n",
    "simulator.AddUpdateRule(volume_constraint_update_rule)"
   ]
  },
  {
   "cell_type": "markdown",
   "id": "4ae0de6d",
   "metadata": {},
   "source": [
    "We repeat the process for any other update rules.\n",
    "\n"
   ]
  },
  {
   "cell_type": "code",
   "execution_count": null,
   "id": "c792c685",
   "metadata": {},
   "outputs": [],
   "source": [
    "differential_adhesion_update_rule = (\n",
    "    chaste.cell_based.DifferentialAdhesionPottsUpdateRule_2()\n",
    ")\n",
    "differential_adhesion_update_rule.SetLabelledCellLabelledCellAdhesionEnergyParameter(\n",
    "    0.16\n",
    ")\n",
    "differential_adhesion_update_rule.SetLabelledCellCellAdhesionEnergyParameter(\n",
    "    0.11\n",
    ")\n",
    "differential_adhesion_update_rule.SetCellCellAdhesionEnergyParameter(0.02)\n",
    "differential_adhesion_update_rule.SetLabelledCellBoundaryAdhesionEnergyParameter(\n",
    "    0.16\n",
    ")\n",
    "differential_adhesion_update_rule.SetCellBoundaryAdhesionEnergyParameter(0.16)\n",
    "simulator.AddUpdateRule(differential_adhesion_update_rule)"
   ]
  },
  {
   "cell_type": "markdown",
   "id": "fed1e304",
   "metadata": {},
   "source": [
    "To run the simulation, we call `Solve()`.\n",
    "\n"
   ]
  },
  {
   "cell_type": "code",
   "execution_count": null,
   "id": "e39bee8b",
   "metadata": {},
   "outputs": [],
   "source": [
    "simulator.Solve()"
   ]
  },
  {
   "cell_type": "markdown",
   "id": "4379e663",
   "metadata": {},
   "source": [
    "The next two lines are for test purposes only and are not part of this tutorial.\n",
    "If different simulation input parameters are being explored the lines should be removed.\n",
    "\n"
   ]
  },
  {
   "cell_type": "code",
   "execution_count": null,
   "id": "f615117d",
   "metadata": {},
   "outputs": [],
   "source": [
    "    chaste.cell_based.SimulationTime.Instance().GetTime(), 20.0, 6\n",
    ")\n",
    "chaste.cell_based.TearDownNotebookTest() # Tear down the test"
   ]
  },
  {
   "cell_type": "markdown",
   "id": "49a60b80",
   "metadata": {},
   "source": [
    "### Test 3 - 3D Cell Sorting\n",
    "The next test extends the previous example to three dimensions.\n",
    "\n"
   ]
  },
  {
   "cell_type": "code",
   "execution_count": null,
   "id": "df9b7868",
   "metadata": {},
   "outputs": [],
   "source": [
    "chaste.cell_based.SetupNotebookTest() # Set up the test"
   ]
  },
  {
   "cell_type": "markdown",
   "id": "e43fafc9",
   "metadata": {},
   "source": [
    "First, we generate a Potts mesh. To create a PottsMesh, we can use the PottsMeshGenerator.\n",
    "This generates a regular square-shaped mesh, in which all elements are the same size.\n",
    "Here the first three arguments specify the domain width; the number of elements across; and the width of elements.\n",
    "The second set of three arguments specify the domain height; the number of elements up; and the height of individual elements.\n",
    "The third set of three arguments specify the domain depth; the number of elements deep; and the depth of individual elements.\n",
    "We have chosen an 4 by 4 by 4 ( = 64) block of elements each consisting of 2 by 2 by 2 ( = 8) lattice sites.\n",
    "\n"
   ]
  },
  {
   "cell_type": "code",
   "execution_count": null,
   "id": "9d08f84e",
   "metadata": {},
   "outputs": [],
   "source": [
    "generator = chaste.mesh.PottsMeshGenerator_3(10, 4, 2, 10, 4, 2, 10, 4, 2)\n",
    "mesh = generator.GetMesh()"
   ]
  },
  {
   "cell_type": "markdown",
   "id": "b52b444d",
   "metadata": {},
   "source": [
    "Having created a mesh, we now create a VectorSharedPtrCells. To do this, we the CellsGenerator helper class,\n",
    "as before but this time the third argument is set to make all cells non-proliferative.\n",
    "\n"
   ]
  },
  {
   "cell_type": "code",
   "execution_count": null,
   "id": "7b32c01e",
   "metadata": {},
   "outputs": [],
   "source": [
    "differentiated_type = chaste.cell_based.DifferentiatedCellProliferativeType()\n",
    "cell_generator = chaste.cell_based.CellsGenerator_UniformCellCycleModel_3()\n",
    "cells = cell_generator.GenerateBasicRandom(\n",
    "    mesh.GetNumElements(), differentiated_type\n",
    ")"
   ]
  },
  {
   "cell_type": "markdown",
   "id": "7865d57c",
   "metadata": {},
   "source": [
    "As for the 2D case before we make a CellPopulation we make a pointer to a cell label and then assign this label to some randomly chosen cells.\n",
    "\n"
   ]
  },
  {
   "cell_type": "code",
   "execution_count": null,
   "id": "9b81c0d1",
   "metadata": {},
   "outputs": [],
   "source": [
    "label = chaste.cell_based.CellLabel()\n",
    "for eachCell in cells:\n",
    "    if chaste.core.RandomNumberGenerator.Instance().ranf() < 0.5:\n",
    "        eachCell.AddCellProperty(label)"
   ]
  },
  {
   "cell_type": "markdown",
   "id": "726e8618",
   "metadata": {},
   "source": [
    "Now we have a mesh and a set of cells to go with it, we can create a CellPopulation.\n",
    "\n"
   ]
  },
  {
   "cell_type": "code",
   "execution_count": null,
   "id": "491a2f5d",
   "metadata": {},
   "outputs": [],
   "source": [
    "cell_population = chaste.cell_based.PottsBasedCellPopulation_3(mesh, cells)"
   ]
  },
  {
   "cell_type": "markdown",
   "id": "7b20f53b",
   "metadata": {},
   "source": [
    "In order to visualize labelled cells we need to use the following command.\n",
    "\n"
   ]
  },
  {
   "cell_type": "code",
   "execution_count": null,
   "id": "e27bb06c",
   "metadata": {},
   "outputs": [],
   "source": [
    "cell_population.AddCellWriterCellLabelWriter()"
   ]
  },
  {
   "cell_type": "markdown",
   "id": "3d3c5853",
   "metadata": {},
   "source": [
    "We then pass in the cell population into an `OffLatticeSimulation`, and set the output directory and end time\n",
    "\n"
   ]
  },
  {
   "cell_type": "code",
   "execution_count": null,
   "id": "a7318849",
   "metadata": {},
   "outputs": [],
   "source": [
    "simulator = chaste.cell_based.OnLatticeSimulation_3(cell_population)\n",
    "simulator.SetOutputDirectory(\"Python/TestPottsBasedCellSorting3D\")\n",
    "simulator.SetEndTime(20.0)\n",
    "simulator.SetSamplingTimestepMultiple(10)"
   ]
  },
  {
   "cell_type": "markdown",
   "id": "837da504",
   "metadata": {},
   "source": [
    "We must now create one or more update rules, which determine the Hamiltonian in the Potts simulation.\n",
    "Now set the target volume to be appropriate for this 3D simulation.\n",
    "\n"
   ]
  },
  {
   "cell_type": "code",
   "execution_count": null,
   "id": "84ab6038",
   "metadata": {},
   "outputs": [],
   "source": [
    "volume_constraint_update_rule = (\n",
    "    chaste.cell_based.VolumeConstraintPottsUpdateRule_3()\n",
    ")\n",
    "volume_constraint_update_rule.SetMatureCellTargetVolume(8)\n",
    "volume_constraint_update_rule.SetDeformationEnergyParameter(0.2)\n",
    "simulator.AddUpdateRule(volume_constraint_update_rule)"
   ]
  },
  {
   "cell_type": "markdown",
   "id": "d507c76b",
   "metadata": {},
   "source": [
    "We use the same differential adhesion parameters as in the 2D case.\n",
    "\n"
   ]
  },
  {
   "cell_type": "code",
   "execution_count": null,
   "id": "693715fb",
   "metadata": {},
   "outputs": [],
   "source": [
    "differential_adhesion_update_rule = (\n",
    "    chaste.cell_based.DifferentialAdhesionPottsUpdateRule_3()\n",
    ")\n",
    "differential_adhesion_update_rule.SetLabelledCellLabelledCellAdhesionEnergyParameter(\n",
    "    0.16\n",
    ")\n",
    "differential_adhesion_update_rule.SetLabelledCellCellAdhesionEnergyParameter(\n",
    "    0.11\n",
    ")\n",
    "differential_adhesion_update_rule.SetCellCellAdhesionEnergyParameter(0.02)\n",
    "differential_adhesion_update_rule.SetLabelledCellBoundaryAdhesionEnergyParameter(\n",
    "    0.16\n",
    ")\n",
    "differential_adhesion_update_rule.SetCellBoundaryAdhesionEnergyParameter(0.16)\n",
    "simulator.AddUpdateRule(differential_adhesion_update_rule)"
   ]
  },
  {
   "cell_type": "markdown",
   "id": "1664c5fa",
   "metadata": {},
   "source": [
    "To run the simulation, we call `Solve()`.\n",
    "\n"
   ]
  },
  {
   "cell_type": "code",
   "execution_count": null,
   "id": "ef764484",
   "metadata": {},
   "outputs": [],
   "source": [
    "simulator.Solve()"
   ]
  },
  {
   "cell_type": "markdown",
   "id": "7b3aacd7",
   "metadata": {},
   "source": [
    "The next two lines are for test purposes only and are not part of this tutorial.\n",
    "If different simulation input parameters are being explored the lines should be removed.\n",
    "\n"
   ]
  },
  {
   "cell_type": "code",
   "execution_count": null,
   "id": "b4cfe22f",
   "metadata": {},
   "outputs": [],
   "source": [
    "    chaste.cell_based.SimulationTime.Instance().GetTime(), 20.0, 6\n",
    ")\n",
    "chaste.cell_based.TearDownNotebookTest() # Tear down the test"
   ]
  }
 ],
 "metadata": {},
 "nbformat": 4,
 "nbformat_minor": 5
}
