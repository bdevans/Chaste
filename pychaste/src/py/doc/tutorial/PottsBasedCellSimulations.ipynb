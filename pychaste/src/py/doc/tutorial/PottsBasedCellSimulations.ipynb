{
 "cells": [
  {
   "cell_type": "markdown",
   "id": "7fde1a45",
   "metadata": {},
   "source": [
    "This tutorial is automatically generated from [TestPyPottsBasedCellSimulationsTutorial.py](https://github.com/Chaste/Chaste/blob/develop/pychaste/test/tutorial/TestPyPottsBasedCellSimulationsTutorial.py) at revision [4045f91a83f5](https://github.com/Chaste/Chaste/commit/4045f91a83f55dc4a97f2ca4f97b0c32f4e43a4a)."
   ]
  },
  {
   "cell_type": "markdown",
   "id": "0ca32923",
   "metadata": {},
   "source": [
    "\n",
    "## Introduction\n",
    "In this tutorial we show how Chaste can be used to create, run and visualize Potts-based simulations.\n",
    "Full details of the mathematical model can be found in Graner, F. and Glazier, J. A. (1992).\n",
    "\n",
    "## The Test\n",
    "\n"
   ]
  },
  {
   "cell_type": "code",
   "execution_count": null,
   "id": "4a826be4",
   "metadata": {},
   "outputs": [],
   "source": [
    "import chaste  # The PyChaste module\n",
    "import chaste.cell_based  # Contains cell populations\n",
    "import chaste.mesh  # Contains meshes\n",
    "import chaste.visualization  # Visualization tools\n",
    "from chaste.cell_based import AbstractCellBasedTestSuite"
   ]
  },
  {
   "cell_type": "markdown",
   "id": "d0a923c5",
   "metadata": {},
   "source": [
    "### Test 1 - A basic node-based simulation\n",
    "In the first test, we run a simple Potts-based simulation, in which we create a monolayer of cells, using a Potts mesh.\n",
    "Each cell is assigned a stochastic cell-cycle model.\n",
    "\n"
   ]
  },
  {
   "cell_type": "code",
   "execution_count": null,
   "id": "e375c96f",
   "metadata": {},
   "outputs": [],
   "source": [
    "chaste.cell_based.SetupNotebookTest() # Set up the test"
   ]
  },
  {
   "cell_type": "markdown",
   "id": "4891f34a",
   "metadata": {},
   "source": [
    "First, we generate a Potts mesh. To create a PottsMesh, we can use the PottsMeshGenerator.\n",
    "This generates a regular square-shaped mesh, in which all elements are the same size.\n",
    "Here the first three arguments specify the domain width; the number of elements across; and the width of elements.\n",
    "The second set of three arguments specify the domain height; the number of elements up; and the height of individual elements.\n",
    "We have chosen a 2 by 2 block of elements, each consisting of 4 by 4 ( = 16) lattice sites.\n",
    "\n"
   ]
  },
  {
   "cell_type": "code",
   "execution_count": null,
   "id": "ec809ee1",
   "metadata": {},
   "outputs": [],
   "source": [
    "chaste.core.OutputFileHandler(\"Python/TestPottsBasedCellSimulationsTutorial\")\n",
    "generator = chaste.mesh.PottsMeshGenerator[2](50, 2, 4, 50, 2, 4)\n",
    "mesh = generator.GetMesh()"
   ]
  },
  {
   "cell_type": "markdown",
   "id": "1159f485",
   "metadata": {},
   "source": [
    "Having created a mesh, we now create a vector of CellPtrs. To do this, we the CellsGenerator helper class,\n",
    "which is templated over the type of cell model required and the dimension.\n",
    "We create an empty vector of cells and pass this into the method along with the mesh.\n",
    "The second argument represents the size of that the vector cells should become - one cell for each element.\n",
    "Third argument makes all cells proliferate.\n",
    "\n"
   ]
  },
  {
   "cell_type": "code",
   "execution_count": null,
   "id": "93ae0159",
   "metadata": {},
   "outputs": [],
   "source": [
    "cell_generator = chaste.cell_based.CellsGenerator[\"UniformCellCycleModel\", 2]()\n",
    "cells = cell_generator.GenerateBasic(mesh.GetNumElements())"
   ]
  },
  {
   "cell_type": "markdown",
   "id": "79019d11",
   "metadata": {},
   "source": [
    "Now we have a mesh and a set of cells to go with it, we can create a CellPopulation.\n",
    "In general, this class associates a collection of cells with a mesh. For this test, because we have a PottsMesh,\n",
    "we use a particular type of cell population called a PottsBasedCellPopulation.\n",
    "\n"
   ]
  },
  {
   "cell_type": "code",
   "execution_count": null,
   "id": "237c6152",
   "metadata": {},
   "outputs": [],
   "source": [
    "cell_population = chaste.cell_based.PottsBasedCellPopulation[2](mesh, cells)"
   ]
  },
  {
   "cell_type": "markdown",
   "id": "6ca7a073",
   "metadata": {},
   "source": [
    "We can set the \"Temperature\" to be used in the Potts Simulation using the optional command below. The default value is 0.1.\n",
    "\n"
   ]
  },
  {
   "cell_type": "code",
   "execution_count": null,
   "id": "eccf2311",
   "metadata": {},
   "outputs": [],
   "source": [
    "cell_population.SetTemperature(0.1)"
   ]
  },
  {
   "cell_type": "markdown",
   "id": "5877351c",
   "metadata": {},
   "source": [
    "By default the Potts simulation will make 1 sweep over the whole domain per timestep.\n",
    "To use a different number of sweeps per timestep use the command.\n",
    "\n"
   ]
  },
  {
   "cell_type": "code",
   "execution_count": null,
   "id": "e01e4f6a",
   "metadata": {},
   "outputs": [],
   "source": [
    "cell_population.SetNumSweepsPerTimestep(1)"
   ]
  },
  {
   "cell_type": "markdown",
   "id": "fff0c5aa",
   "metadata": {},
   "source": [
    "We can set up a `VtkScene` to do a quick visualization of the population before running the analysis.\n",
    "\n"
   ]
  },
  {
   "cell_type": "code",
   "execution_count": null,
   "id": "0590a5bc",
   "metadata": {},
   "outputs": [],
   "source": [
    "scene = chaste.visualization.VtkScene[2]()\n",
    "scene.SetCellPopulation(cell_population)\n",
    "scene.GetCellPopulationActorGenerator().SetShowPottsMeshEdges(True)\n",
    "nb_manager = chaste.visualization.JupyterNotebookManager()\n",
    "nb_manager.vtk_show(scene, height=600)"
   ]
  },
  {
   "cell_type": "markdown",
   "id": "b361412c",
   "metadata": {},
   "source": [
    "We then pass in the cell population into an `OffLatticeSimulation`, and set the output directory and end time\n",
    "\n"
   ]
  },
  {
   "cell_type": "code",
   "execution_count": null,
   "id": "d2bfa4f8",
   "metadata": {},
   "outputs": [],
   "source": [
    "simulator = chaste.cell_based.OnLatticeSimulation[2](cell_population)\n",
    "simulator.SetOutputDirectory(\"Python/TestPottsBasedCellSimulationsTutorial\")\n",
    "simulator.SetEndTime(50.0)"
   ]
  },
  {
   "cell_type": "markdown",
   "id": "c67f4b5f",
   "metadata": {},
   "source": [
    "The default timestep is 0.1, but can be changed using the below command. The timestep is used in conjunction with the \"Temperature\"\n",
    "and number of sweeps per timestep to specify the relationship between cell movement and proliferation.\n",
    "We also set the simulation to only output every 10 steps i.e. once per hour.\n",
    "\n"
   ]
  },
  {
   "cell_type": "code",
   "execution_count": null,
   "id": "2c684b1f",
   "metadata": {},
   "outputs": [],
   "source": [
    "simulator.SetDt(0.1)\n",
    "simulator.SetSamplingTimestepMultiple(10)"
   ]
  },
  {
   "cell_type": "markdown",
   "id": "0457c801",
   "metadata": {},
   "source": [
    "We must now create one or more update rules, which determine the Hamiltonian in the Potts simulation.\n",
    "For this test, we use two update rules based upon a volume constraint (VolumeConstraintPottsUpdateRule)\n",
    "and adhesion between cells (AdhesionPottsUpdateRule) and pass them to the OnLatticeSimulation.\n",
    "For a list of possible update rules see subclasses of AbstractPottsUpdateRule.\n",
    "\n"
   ]
  },
  {
   "cell_type": "code",
   "execution_count": null,
   "id": "6b979a20",
   "metadata": {},
   "outputs": [],
   "source": [
    "volume_constraint_update_rule = (chaste.cell_based.VolumeConstraintPottsUpdateRule[2]())"
   ]
  },
  {
   "cell_type": "markdown",
   "id": "c27a4565",
   "metadata": {},
   "source": [
    "Set an appropriate target volume in number of lattice sites. Here we use the default value of 16 lattice sites.\n",
    "\n"
   ]
  },
  {
   "cell_type": "code",
   "execution_count": null,
   "id": "f284b928",
   "metadata": {},
   "outputs": [],
   "source": [
    "volume_constraint_update_rule.SetMatureCellTargetVolume(16)"
   ]
  },
  {
   "cell_type": "markdown",
   "id": "2f551b3d",
   "metadata": {},
   "source": [
    "You can also vary the deformation energy parameter.\n",
    "The larger the parameter the more cells will try to maintain target volume. Here we use the default value of 0.2.\n",
    "\n"
   ]
  },
  {
   "cell_type": "code",
   "execution_count": null,
   "id": "e9283fe6",
   "metadata": {},
   "outputs": [],
   "source": [
    "volume_constraint_update_rule.SetDeformationEnergyParameter(0.2)"
   ]
  },
  {
   "cell_type": "markdown",
   "id": "378cd371",
   "metadata": {},
   "source": [
    "Finally we add the update rule to the simulator.\n",
    "\n"
   ]
  },
  {
   "cell_type": "code",
   "execution_count": null,
   "id": "46fef4e2",
   "metadata": {},
   "outputs": [],
   "source": [
    "simulator.AddUpdateRule(volume_constraint_update_rule)"
   ]
  },
  {
   "cell_type": "markdown",
   "id": "b0909919",
   "metadata": {},
   "source": [
    "We repeat the process for any other update rules.\n",
    "\n"
   ]
  },
  {
   "cell_type": "code",
   "execution_count": null,
   "id": "be387fe3",
   "metadata": {},
   "outputs": [],
   "source": [
    "adhesion_update_rule = chaste.cell_based.AdhesionPottsUpdateRule[2]()\n",
    "simulator.AddUpdateRule(adhesion_update_rule)"
   ]
  },
  {
   "cell_type": "markdown",
   "id": "a9d998f5",
   "metadata": {},
   "source": [
    "Save snapshot images of the population during the simulation\n",
    "\n"
   ]
  },
  {
   "cell_type": "code",
   "execution_count": null,
   "id": "81267da0",
   "metadata": {},
   "outputs": [],
   "source": [
    "scene_modifier = chaste.cell_based.VtkSceneModifier[2]()\n",
    "scene_modifier.SetVtkScene(scene)\n",
    "scene_modifier.SetUpdateFrequency(100)\n",
    "simulator.AddSimulationModifier(scene_modifier)"
   ]
  },
  {
   "cell_type": "markdown",
   "id": "84155781",
   "metadata": {},
   "source": [
    "To run the simulation, we call `Solve()`. We can again do a quick rendering of the population at the end of the simulation\n",
    "\n"
   ]
  },
  {
   "cell_type": "code",
   "execution_count": null,
   "id": "23157d8c",
   "metadata": {},
   "outputs": [],
   "source": [
    "scene.Start()\n",
    "simulator.Solve()"
   ]
  },
  {
   "cell_type": "markdown",
   "id": "c0cab46c",
   "metadata": {},
   "source": [
    "The next two lines are for test purposes only and are not part of this tutorial.\n",
    "If different simulation input parameters are being explored the lines should be removed.\n",
    "\n"
   ]
  },
  {
   "cell_type": "code",
   "execution_count": null,
   "id": "c8803141",
   "metadata": {},
   "outputs": [],
   "source": [
    "chaste.cell_based.TearDownNotebookTest() # Tear down the test"
   ]
  },
  {
   "cell_type": "markdown",
   "id": "ecbe3664",
   "metadata": {},
   "source": [
    "### Test 2 - Cell sorting\n",
    "The next test generates a collection of cells, there are two types of cells, labelled ones and non labelled ones,\n",
    "there is differential adhesion between the cell types. For the parameters specified, the cells sort into separate types.\n",
    "\n"
   ]
  },
  {
   "cell_type": "code",
   "execution_count": null,
   "id": "41e6737c",
   "metadata": {},
   "outputs": [],
   "source": [
    "chaste.cell_based.SetupNotebookTest() # Set up the test"
   ]
  },
  {
   "cell_type": "markdown",
   "id": "7fba9e57",
   "metadata": {},
   "source": [
    "First, we generate a Potts mesh. To create a PottsMesh, we can use the PottsMeshGenerator.\n",
    "This generates a regular square-shaped mesh, in which all elements are the same size.\n",
    "We have chosen an 8 by 8 block of elements each consisting of 4 by 4 ( = 16) lattice sites.\n",
    "\n"
   ]
  },
  {
   "cell_type": "code",
   "execution_count": null,
   "id": "9d11ffcc",
   "metadata": {},
   "outputs": [],
   "source": [
    "generator = chaste.mesh.PottsMeshGenerator[2](50, 8, 4, 50, 8, 4)\n",
    "mesh = generator.GetMesh()"
   ]
  },
  {
   "cell_type": "markdown",
   "id": "10e5a5b3",
   "metadata": {},
   "source": [
    "Having created a mesh, we now create a VectorSharedPtrCells. To do this, we the CellsGenerator helper class,\n",
    "as before but this time the third argument is set to make all cells non-proliferative.\n",
    "\n"
   ]
  },
  {
   "cell_type": "code",
   "execution_count": null,
   "id": "6c226ef5",
   "metadata": {},
   "outputs": [],
   "source": [
    "differentiated_type = chaste.cell_based.DifferentiatedCellProliferativeType()\n",
    "cell_generator = chaste.cell_based.CellsGenerator[\"UniformCellCycleModel\", 2]()\n",
    "cells = cell_generator.GenerateBasicRandom(mesh.GetNumElements(), differentiated_type)"
   ]
  },
  {
   "cell_type": "markdown",
   "id": "1ab34143",
   "metadata": {},
   "source": [
    "Before we make a CellPopulation we make a cell label and then assign this label to some randomly chosen cells.\n",
    "\n"
   ]
  },
  {
   "cell_type": "code",
   "execution_count": null,
   "id": "ae0a786f",
   "metadata": {},
   "outputs": [],
   "source": [
    "label = chaste.cell_based.CellLabel()\n",
    "for eachCell in cells:\n",
    "    if chaste.core.RandomNumberGenerator.Instance().ranf() < 0.5:\n",
    "        eachCell.AddCellProperty(label)"
   ]
  },
  {
   "cell_type": "markdown",
   "id": "0bb348cd",
   "metadata": {},
   "source": [
    "Now we have a mesh and a set of cells to go with it, we can create a CellPopulation.\n",
    "\n"
   ]
  },
  {
   "cell_type": "code",
   "execution_count": null,
   "id": "90709cfc",
   "metadata": {},
   "outputs": [],
   "source": [
    "cell_population = chaste.cell_based.PottsBasedCellPopulation[2](mesh, cells)"
   ]
  },
  {
   "cell_type": "markdown",
   "id": "8f6c4b45",
   "metadata": {},
   "source": [
    "In order to visualize labelled cells we need to use the following command.\n",
    "\n"
   ]
  },
  {
   "cell_type": "code",
   "execution_count": null,
   "id": "0934fd84",
   "metadata": {},
   "outputs": [],
   "source": [
    "cell_population.AddCellWriterCellLabelWriter()"
   ]
  },
  {
   "cell_type": "markdown",
   "id": "e053108a",
   "metadata": {},
   "source": [
    "We then pass in the cell population into an `OffLatticeSimulation`, and set the output directory and end time\n",
    "\n"
   ]
  },
  {
   "cell_type": "code",
   "execution_count": null,
   "id": "10e3a562",
   "metadata": {},
   "outputs": [],
   "source": [
    "simulator = chaste.cell_based.OnLatticeSimulation[2](cell_population)\n",
    "simulator.SetOutputDirectory(\"Python/TestPottsBasedCellSorting\")\n",
    "simulator.SetEndTime(20.0)\n",
    "simulator.SetSamplingTimestepMultiple(10)"
   ]
  },
  {
   "cell_type": "markdown",
   "id": "5374f0fb",
   "metadata": {},
   "source": [
    "We must now create one or more update rules, which determine the Hamiltonian in the Potts simulation.\n",
    "For this test, we use two update rules based upon a volume constraint (VolumeConstraintPottsUpdateRule) and\n",
    "differential adhesion between cells (DifferentialAdhesionPottsUpdateRule), set appropriate parameters, and\n",
    "pass them to the OnLatticeSimulation.\n",
    "\n"
   ]
  },
  {
   "cell_type": "code",
   "execution_count": null,
   "id": "36b33de7",
   "metadata": {},
   "outputs": [],
   "source": [
    "volume_constraint_update_rule = chaste.cell_based.VolumeConstraintPottsUpdateRule[2]()\n",
    "volume_constraint_update_rule.SetMatureCellTargetVolume(16)\n",
    "volume_constraint_update_rule.SetDeformationEnergyParameter(0.2)\n",
    "simulator.AddUpdateRule(volume_constraint_update_rule)"
   ]
  },
  {
   "cell_type": "markdown",
   "id": "b703ab38",
   "metadata": {},
   "source": [
    "We repeat the process for any other update rules.\n",
    "\n"
   ]
  },
  {
   "cell_type": "code",
   "execution_count": null,
   "id": "baf36cc8",
   "metadata": {},
   "outputs": [],
   "source": [
    "differential_adhesion_update_rule = chaste.cell_based.DifferentialAdhesionPottsUpdateRule[2]()\n",
    "differential_adhesion_update_rule.SetLabelledCellLabelledCellAdhesionEnergyParameter(0.16)\n",
    "differential_adhesion_update_rule.SetLabelledCellCellAdhesionEnergyParameter(0.11)\n",
    "differential_adhesion_update_rule.SetCellCellAdhesionEnergyParameter(0.02)\n",
    "differential_adhesion_update_rule.SetLabelledCellBoundaryAdhesionEnergyParameter(0.16)\n",
    "differential_adhesion_update_rule.SetCellBoundaryAdhesionEnergyParameter(0.16)\n",
    "simulator.AddUpdateRule(differential_adhesion_update_rule)"
   ]
  },
  {
   "cell_type": "markdown",
   "id": "4af74ae4",
   "metadata": {},
   "source": [
    "To run the simulation, we call `Solve()`.\n",
    "\n"
   ]
  },
  {
   "cell_type": "code",
   "execution_count": null,
   "id": "9c35c5f2",
   "metadata": {},
   "outputs": [],
   "source": [
    "simulator.Solve()"
   ]
  },
  {
   "cell_type": "markdown",
   "id": "739d1c69",
   "metadata": {},
   "source": [
    "The next two lines are for test purposes only and are not part of this tutorial.\n",
    "If different simulation input parameters are being explored the lines should be removed.\n",
    "\n"
   ]
  },
  {
   "cell_type": "code",
   "execution_count": null,
   "id": "150cc3c5",
   "metadata": {},
   "outputs": [],
   "source": [
    "chaste.cell_based.TearDownNotebookTest() # Tear down the test"
   ]
  },
  {
   "cell_type": "markdown",
   "id": "b6424474",
   "metadata": {},
   "source": [
    "### Test 3 - 3D Cell Sorting\n",
    "The next test extends the previous example to three dimensions.\n",
    "\n"
   ]
  },
  {
   "cell_type": "code",
   "execution_count": null,
   "id": "959081d3",
   "metadata": {},
   "outputs": [],
   "source": [
    "chaste.cell_based.SetupNotebookTest() # Set up the test"
   ]
  },
  {
   "cell_type": "markdown",
   "id": "b636fcbe",
   "metadata": {},
   "source": [
    "First, we generate a Potts mesh. To create a PottsMesh, we can use the PottsMeshGenerator.\n",
    "This generates a regular square-shaped mesh, in which all elements are the same size.\n",
    "Here the first three arguments specify the domain width; the number of elements across; and the width of elements.\n",
    "The second set of three arguments specify the domain height; the number of elements up; and the height of individual elements.\n",
    "The third set of three arguments specify the domain depth; the number of elements deep; and the depth of individual elements.\n",
    "We have chosen an 4 by 4 by 4 ( = 64) block of elements each consisting of 2 by 2 by 2 ( = 8) lattice sites.\n",
    "\n"
   ]
  },
  {
   "cell_type": "code",
   "execution_count": null,
   "id": "bd4451d1",
   "metadata": {},
   "outputs": [],
   "source": [
    "generator = chaste.mesh.PottsMeshGenerator[3](10, 4, 2, 10, 4, 2, 10, 4, 2)\n",
    "mesh = generator.GetMesh()"
   ]
  },
  {
   "cell_type": "markdown",
   "id": "0f3452b3",
   "metadata": {},
   "source": [
    "Having created a mesh, we now create a VectorSharedPtrCells. To do this, we the CellsGenerator helper class,\n",
    "as before but this time the third argument is set to make all cells non-proliferative.\n",
    "\n"
   ]
  },
  {
   "cell_type": "code",
   "execution_count": null,
   "id": "3b4afec2",
   "metadata": {},
   "outputs": [],
   "source": [
    "differentiated_type = chaste.cell_based.DifferentiatedCellProliferativeType()\n",
    "cell_generator = chaste.cell_based.CellsGenerator[\"UniformCellCycleModel\", 3]()\n",
    "cells = cell_generator.GenerateBasicRandom(mesh.GetNumElements(), differentiated_type)"
   ]
  },
  {
   "cell_type": "markdown",
   "id": "219fa9d3",
   "metadata": {},
   "source": [
    "As for the 2D case before we make a CellPopulation we make a pointer to a cell label and then assign this label to some randomly chosen cells.\n",
    "\n"
   ]
  },
  {
   "cell_type": "code",
   "execution_count": null,
   "id": "51fa8f3c",
   "metadata": {},
   "outputs": [],
   "source": [
    "label = chaste.cell_based.CellLabel()\n",
    "for eachCell in cells:\n",
    "    if chaste.core.RandomNumberGenerator.Instance().ranf() < 0.5:\n",
    "        eachCell.AddCellProperty(label)"
   ]
  },
  {
   "cell_type": "markdown",
   "id": "29153736",
   "metadata": {},
   "source": [
    "Now we have a mesh and a set of cells to go with it, we can create a CellPopulation.\n",
    "\n"
   ]
  },
  {
   "cell_type": "code",
   "execution_count": null,
   "id": "6dccc493",
   "metadata": {},
   "outputs": [],
   "source": [
    "cell_population = chaste.cell_based.PottsBasedCellPopulation[3](mesh, cells)"
   ]
  },
  {
   "cell_type": "markdown",
   "id": "20ef2421",
   "metadata": {},
   "source": [
    "In order to visualize labelled cells we need to use the following command.\n",
    "\n"
   ]
  },
  {
   "cell_type": "code",
   "execution_count": null,
   "id": "a69b89e2",
   "metadata": {},
   "outputs": [],
   "source": [
    "cell_population.AddCellWriterCellLabelWriter()"
   ]
  },
  {
   "cell_type": "markdown",
   "id": "c71a8089",
   "metadata": {},
   "source": [
    "We then pass in the cell population into an `OffLatticeSimulation`, and set the output directory and end time\n",
    "\n"
   ]
  },
  {
   "cell_type": "code",
   "execution_count": null,
   "id": "f163c556",
   "metadata": {},
   "outputs": [],
   "source": [
    "simulator = chaste.cell_based.OnLatticeSimulation[3](cell_population)\n",
    "simulator.SetOutputDirectory(\"Python/TestPottsBasedCellSorting3D\")\n",
    "simulator.SetEndTime(20.0)\n",
    "simulator.SetSamplingTimestepMultiple(10)"
   ]
  },
  {
   "cell_type": "markdown",
   "id": "1cd5a008",
   "metadata": {},
   "source": [
    "We must now create one or more update rules, which determine the Hamiltonian in the Potts simulation.\n",
    "Now set the target volume to be appropriate for this 3D simulation.\n",
    "\n"
   ]
  },
  {
   "cell_type": "code",
   "execution_count": null,
   "id": "702c7c91",
   "metadata": {},
   "outputs": [],
   "source": [
    "volume_constraint_update_rule = chaste.cell_based.VolumeConstraintPottsUpdateRule[3]()\n",
    "volume_constraint_update_rule.SetMatureCellTargetVolume(8)\n",
    "volume_constraint_update_rule.SetDeformationEnergyParameter(0.2)\n",
    "simulator.AddUpdateRule(volume_constraint_update_rule)"
   ]
  },
  {
   "cell_type": "markdown",
   "id": "26c1a0c4",
   "metadata": {},
   "source": [
    "We use the same differential adhesion parameters as in the 2D case.\n",
    "\n"
   ]
  },
  {
   "cell_type": "code",
   "execution_count": null,
   "id": "9fc4afb5",
   "metadata": {},
   "outputs": [],
   "source": [
    "differential_adhesion_update_rule = chaste.cell_based.DifferentialAdhesionPottsUpdateRule[3]()\n",
    "differential_adhesion_update_rule.SetLabelledCellLabelledCellAdhesionEnergyParameter(0.16)\n",
    "differential_adhesion_update_rule.SetLabelledCellCellAdhesionEnergyParameter(0.11)\n",
    "differential_adhesion_update_rule.SetCellCellAdhesionEnergyParameter(0.02)\n",
    "differential_adhesion_update_rule.SetLabelledCellBoundaryAdhesionEnergyParameter(0.16)\n",
    "differential_adhesion_update_rule.SetCellBoundaryAdhesionEnergyParameter(0.16)\n",
    "simulator.AddUpdateRule(differential_adhesion_update_rule)"
   ]
  },
  {
   "cell_type": "markdown",
   "id": "b55138ae",
   "metadata": {},
   "source": [
    "To run the simulation, we call `Solve()`.\n",
    "\n"
   ]
  },
  {
   "cell_type": "code",
   "execution_count": null,
   "id": "e8bc54d3",
   "metadata": {},
   "outputs": [],
   "source": [
    "simulator.Solve()"
   ]
  },
  {
   "cell_type": "markdown",
   "id": "1b460e01",
   "metadata": {},
   "source": [
    "The next two lines are for test purposes only and are not part of this tutorial.\n",
    "If different simulation input parameters are being explored the lines should be removed.\n",
    "\n"
   ]
  },
  {
   "cell_type": "code",
   "execution_count": null,
   "id": "6761057d",
   "metadata": {},
   "outputs": [],
   "source": [
    "chaste.cell_based.TearDownNotebookTest() # Tear down the test"
   ]
  }
 ],
 "metadata": {},
 "nbformat": 4,
 "nbformat_minor": 5
}
